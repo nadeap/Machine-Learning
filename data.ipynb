{
 "cells": [
  {
   "attachments": {},
   "cell_type": "markdown",
   "metadata": {},
   "source": [
    "## Data Science Code"
   ]
  },
  {
   "attachments": {},
   "cell_type": "markdown",
   "metadata": {},
   "source": [
    "### Pandas"
   ]
  },
  {
   "cell_type": "code",
   "execution_count": null,
   "metadata": {},
   "outputs": [],
   "source": [
    "import pandas as pd\n",
    "\n",
    "data = pd.read_csv('.csv') #read csv\n",
    "data = pd.read_excel('.xlsx') #read excel\n",
    "data.head() #5 teratas\n",
    "data.tail() #5 terbawah\n",
    "data.info() #informasi data\n",
    "data.describe #desc stat\n",
    "data.isnull() #data NaN\n",
    "data.isnull().sum() #jumlah data NaN\n",
    "data.dropna() #drop NaN\n",
    "data.iloc() #tembak data\n",
    "data.loc() #tembak based on loc\n",
    "data.values() #ubah ke array\n",
    "data = data.drop(columns='') #drop column\n",
    "data.fillna() \n",
    "data.append() #add\n",
    "data.gropuby() #groupby"
   ]
  }
 ],
 "metadata": {
  "language_info": {
   "name": "python"
  },
  "orig_nbformat": 4
 },
 "nbformat": 4,
 "nbformat_minor": 2
}
