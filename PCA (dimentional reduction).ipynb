{
 "cells": [
  {
   "cell_type": "code",
   "execution_count": 5,
   "metadata": {},
   "outputs": [],
   "source": [
    "import pandas as pd\n",
    "import numpy as np\n",
    "import matplotlib.pyplot as plt \n",
    "\n",
    "import random as rd\n",
    "from sklearn.decomposition import PCA\n",
    "from sklearn import preprocessing "
   ]
  },
  {
   "attachments": {},
   "cell_type": "markdown",
   "metadata": {},
   "source": [
    "### Random Dataset"
   ]
  },
  {
   "cell_type": "code",
   "execution_count": 1,
   "metadata": {},
   "outputs": [
    {
     "data": {
      "text/plain": [
       "['data1', 'data2', 'data3']"
      ]
     },
     "execution_count": 1,
     "metadata": {},
     "output_type": "execute_result"
    }
   ],
   "source": [
    "dataset = ['data' + str(i) for i in range(1,101)]\n",
    "dataset[:3]"
   ]
  },
  {
   "cell_type": "code",
   "execution_count": 3,
   "metadata": {},
   "outputs": [
    {
     "data": {
      "text/plain": [
       "['aku1', 'aku2', 'aku3', 'aku4', 'aku5']"
      ]
     },
     "execution_count": 3,
     "metadata": {},
     "output_type": "execute_result"
    }
   ],
   "source": [
    "aku = ['aku' + str(i) for i in range(1,6)]\n",
    "kamu = ['kamu' + str(i) for i in range(1,6)]\n",
    "aku"
   ]
  },
  {
   "cell_type": "code",
   "execution_count": 8,
   "metadata": {},
   "outputs": [
    {
     "data": {
      "text/html": [
       "<div>\n",
       "<style scoped>\n",
       "    .dataframe tbody tr th:only-of-type {\n",
       "        vertical-align: middle;\n",
       "    }\n",
       "\n",
       "    .dataframe tbody tr th {\n",
       "        vertical-align: top;\n",
       "    }\n",
       "\n",
       "    .dataframe thead th {\n",
       "        text-align: right;\n",
       "    }\n",
       "</style>\n",
       "<table border=\"1\" class=\"dataframe\">\n",
       "  <thead>\n",
       "    <tr style=\"text-align: right;\">\n",
       "      <th></th>\n",
       "      <th>aku1</th>\n",
       "      <th>aku2</th>\n",
       "      <th>aku3</th>\n",
       "      <th>aku4</th>\n",
       "      <th>aku5</th>\n",
       "      <th>kamu1</th>\n",
       "      <th>kamu2</th>\n",
       "      <th>kamu3</th>\n",
       "      <th>kamu4</th>\n",
       "      <th>kamu5</th>\n",
       "    </tr>\n",
       "  </thead>\n",
       "  <tbody>\n",
       "    <tr>\n",
       "      <th>data1</th>\n",
       "      <td>NaN</td>\n",
       "      <td>NaN</td>\n",
       "      <td>NaN</td>\n",
       "      <td>NaN</td>\n",
       "      <td>NaN</td>\n",
       "      <td>NaN</td>\n",
       "      <td>NaN</td>\n",
       "      <td>NaN</td>\n",
       "      <td>NaN</td>\n",
       "      <td>NaN</td>\n",
       "    </tr>\n",
       "    <tr>\n",
       "      <th>data2</th>\n",
       "      <td>NaN</td>\n",
       "      <td>NaN</td>\n",
       "      <td>NaN</td>\n",
       "      <td>NaN</td>\n",
       "      <td>NaN</td>\n",
       "      <td>NaN</td>\n",
       "      <td>NaN</td>\n",
       "      <td>NaN</td>\n",
       "      <td>NaN</td>\n",
       "      <td>NaN</td>\n",
       "    </tr>\n",
       "    <tr>\n",
       "      <th>data3</th>\n",
       "      <td>NaN</td>\n",
       "      <td>NaN</td>\n",
       "      <td>NaN</td>\n",
       "      <td>NaN</td>\n",
       "      <td>NaN</td>\n",
       "      <td>NaN</td>\n",
       "      <td>NaN</td>\n",
       "      <td>NaN</td>\n",
       "      <td>NaN</td>\n",
       "      <td>NaN</td>\n",
       "    </tr>\n",
       "    <tr>\n",
       "      <th>data4</th>\n",
       "      <td>NaN</td>\n",
       "      <td>NaN</td>\n",
       "      <td>NaN</td>\n",
       "      <td>NaN</td>\n",
       "      <td>NaN</td>\n",
       "      <td>NaN</td>\n",
       "      <td>NaN</td>\n",
       "      <td>NaN</td>\n",
       "      <td>NaN</td>\n",
       "      <td>NaN</td>\n",
       "    </tr>\n",
       "    <tr>\n",
       "      <th>data5</th>\n",
       "      <td>NaN</td>\n",
       "      <td>NaN</td>\n",
       "      <td>NaN</td>\n",
       "      <td>NaN</td>\n",
       "      <td>NaN</td>\n",
       "      <td>NaN</td>\n",
       "      <td>NaN</td>\n",
       "      <td>NaN</td>\n",
       "      <td>NaN</td>\n",
       "      <td>NaN</td>\n",
       "    </tr>\n",
       "  </tbody>\n",
       "</table>\n",
       "</div>"
      ],
      "text/plain": [
       "      aku1 aku2 aku3 aku4 aku5 kamu1 kamu2 kamu3 kamu4 kamu5\n",
       "data1  NaN  NaN  NaN  NaN  NaN   NaN   NaN   NaN   NaN   NaN\n",
       "data2  NaN  NaN  NaN  NaN  NaN   NaN   NaN   NaN   NaN   NaN\n",
       "data3  NaN  NaN  NaN  NaN  NaN   NaN   NaN   NaN   NaN   NaN\n",
       "data4  NaN  NaN  NaN  NaN  NaN   NaN   NaN   NaN   NaN   NaN\n",
       "data5  NaN  NaN  NaN  NaN  NaN   NaN   NaN   NaN   NaN   NaN"
      ]
     },
     "execution_count": 8,
     "metadata": {},
     "output_type": "execute_result"
    }
   ],
   "source": [
    "dataPca = pd.DataFrame(columns= [*aku, *kamu], index = dataset)\n",
    "dataPca.head()"
   ]
  },
  {
   "cell_type": "code",
   "execution_count": 10,
   "metadata": {},
   "outputs": [],
   "source": [
    "for data in dataPca.index: \n",
    "    dataPca.loc[data,'aku1':'aku5'] = np.random.poisson(lam=rd.randrange(500,1000), size=5)\n",
    "    dataPca.loc[data,'kamu1':'kamu5'] = np.random.poisson(lam=rd.randrange(10,500), size=5)"
   ]
  },
  {
   "cell_type": "code",
   "execution_count": 14,
   "metadata": {},
   "outputs": [
    {
     "data": {
      "text/html": [
       "<div>\n",
       "<style scoped>\n",
       "    .dataframe tbody tr th:only-of-type {\n",
       "        vertical-align: middle;\n",
       "    }\n",
       "\n",
       "    .dataframe tbody tr th {\n",
       "        vertical-align: top;\n",
       "    }\n",
       "\n",
       "    .dataframe thead th {\n",
       "        text-align: right;\n",
       "    }\n",
       "</style>\n",
       "<table border=\"1\" class=\"dataframe\">\n",
       "  <thead>\n",
       "    <tr style=\"text-align: right;\">\n",
       "      <th></th>\n",
       "      <th>aku1</th>\n",
       "      <th>aku2</th>\n",
       "      <th>aku3</th>\n",
       "      <th>aku4</th>\n",
       "      <th>aku5</th>\n",
       "      <th>kamu1</th>\n",
       "      <th>kamu2</th>\n",
       "      <th>kamu3</th>\n",
       "      <th>kamu4</th>\n",
       "      <th>kamu5</th>\n",
       "    </tr>\n",
       "  </thead>\n",
       "  <tbody>\n",
       "    <tr>\n",
       "      <th>data1</th>\n",
       "      <td>721</td>\n",
       "      <td>653</td>\n",
       "      <td>695</td>\n",
       "      <td>700</td>\n",
       "      <td>703</td>\n",
       "      <td>424</td>\n",
       "      <td>432</td>\n",
       "      <td>428</td>\n",
       "      <td>418</td>\n",
       "      <td>433</td>\n",
       "    </tr>\n",
       "    <tr>\n",
       "      <th>data2</th>\n",
       "      <td>1044</td>\n",
       "      <td>1007</td>\n",
       "      <td>964</td>\n",
       "      <td>995</td>\n",
       "      <td>926</td>\n",
       "      <td>392</td>\n",
       "      <td>412</td>\n",
       "      <td>403</td>\n",
       "      <td>349</td>\n",
       "      <td>325</td>\n",
       "    </tr>\n",
       "    <tr>\n",
       "      <th>data3</th>\n",
       "      <td>911</td>\n",
       "      <td>983</td>\n",
       "      <td>1047</td>\n",
       "      <td>1027</td>\n",
       "      <td>990</td>\n",
       "      <td>140</td>\n",
       "      <td>152</td>\n",
       "      <td>153</td>\n",
       "      <td>136</td>\n",
       "      <td>141</td>\n",
       "    </tr>\n",
       "    <tr>\n",
       "      <th>data4</th>\n",
       "      <td>989</td>\n",
       "      <td>1008</td>\n",
       "      <td>963</td>\n",
       "      <td>971</td>\n",
       "      <td>951</td>\n",
       "      <td>255</td>\n",
       "      <td>262</td>\n",
       "      <td>259</td>\n",
       "      <td>247</td>\n",
       "      <td>223</td>\n",
       "    </tr>\n",
       "    <tr>\n",
       "      <th>data5</th>\n",
       "      <td>541</td>\n",
       "      <td>531</td>\n",
       "      <td>535</td>\n",
       "      <td>526</td>\n",
       "      <td>546</td>\n",
       "      <td>55</td>\n",
       "      <td>52</td>\n",
       "      <td>48</td>\n",
       "      <td>47</td>\n",
       "      <td>44</td>\n",
       "    </tr>\n",
       "  </tbody>\n",
       "</table>\n",
       "</div>"
      ],
      "text/plain": [
       "       aku1  aku2  aku3  aku4 aku5 kamu1 kamu2 kamu3 kamu4 kamu5\n",
       "data1   721   653   695   700  703   424   432   428   418   433\n",
       "data2  1044  1007   964   995  926   392   412   403   349   325\n",
       "data3   911   983  1047  1027  990   140   152   153   136   141\n",
       "data4   989  1008   963   971  951   255   262   259   247   223\n",
       "data5   541   531   535   526  546    55    52    48    47    44"
      ]
     },
     "execution_count": 14,
     "metadata": {},
     "output_type": "execute_result"
    }
   ],
   "source": [
    "dataPca.head()"
   ]
  },
  {
   "cell_type": "code",
   "execution_count": 15,
   "metadata": {},
   "outputs": [
    {
     "data": {
      "text/plain": [
       "(100, 10)"
      ]
     },
     "execution_count": 15,
     "metadata": {},
     "output_type": "execute_result"
    }
   ],
   "source": [
    "dataPca.shape"
   ]
  },
  {
   "cell_type": "code",
   "execution_count": 16,
   "metadata": {},
   "outputs": [
    {
     "data": {
      "text/html": [
       "<div>\n",
       "<style scoped>\n",
       "    .dataframe tbody tr th:only-of-type {\n",
       "        vertical-align: middle;\n",
       "    }\n",
       "\n",
       "    .dataframe tbody tr th {\n",
       "        vertical-align: top;\n",
       "    }\n",
       "\n",
       "    .dataframe thead th {\n",
       "        text-align: right;\n",
       "    }\n",
       "</style>\n",
       "<table border=\"1\" class=\"dataframe\">\n",
       "  <thead>\n",
       "    <tr style=\"text-align: right;\">\n",
       "      <th></th>\n",
       "      <th>data1</th>\n",
       "      <th>data2</th>\n",
       "      <th>data3</th>\n",
       "      <th>data4</th>\n",
       "      <th>data5</th>\n",
       "      <th>data6</th>\n",
       "      <th>data7</th>\n",
       "      <th>data8</th>\n",
       "      <th>data9</th>\n",
       "      <th>data10</th>\n",
       "      <th>...</th>\n",
       "      <th>data91</th>\n",
       "      <th>data92</th>\n",
       "      <th>data93</th>\n",
       "      <th>data94</th>\n",
       "      <th>data95</th>\n",
       "      <th>data96</th>\n",
       "      <th>data97</th>\n",
       "      <th>data98</th>\n",
       "      <th>data99</th>\n",
       "      <th>data100</th>\n",
       "    </tr>\n",
       "  </thead>\n",
       "  <tbody>\n",
       "    <tr>\n",
       "      <th>aku1</th>\n",
       "      <td>721</td>\n",
       "      <td>1044</td>\n",
       "      <td>911</td>\n",
       "      <td>989</td>\n",
       "      <td>541</td>\n",
       "      <td>818</td>\n",
       "      <td>946</td>\n",
       "      <td>959</td>\n",
       "      <td>694</td>\n",
       "      <td>875</td>\n",
       "      <td>...</td>\n",
       "      <td>785</td>\n",
       "      <td>830</td>\n",
       "      <td>863</td>\n",
       "      <td>681</td>\n",
       "      <td>818</td>\n",
       "      <td>907</td>\n",
       "      <td>1002</td>\n",
       "      <td>700</td>\n",
       "      <td>735</td>\n",
       "      <td>726</td>\n",
       "    </tr>\n",
       "    <tr>\n",
       "      <th>aku2</th>\n",
       "      <td>653</td>\n",
       "      <td>1007</td>\n",
       "      <td>983</td>\n",
       "      <td>1008</td>\n",
       "      <td>531</td>\n",
       "      <td>833</td>\n",
       "      <td>850</td>\n",
       "      <td>909</td>\n",
       "      <td>688</td>\n",
       "      <td>838</td>\n",
       "      <td>...</td>\n",
       "      <td>762</td>\n",
       "      <td>830</td>\n",
       "      <td>830</td>\n",
       "      <td>654</td>\n",
       "      <td>827</td>\n",
       "      <td>850</td>\n",
       "      <td>961</td>\n",
       "      <td>728</td>\n",
       "      <td>711</td>\n",
       "      <td>713</td>\n",
       "    </tr>\n",
       "    <tr>\n",
       "      <th>aku3</th>\n",
       "      <td>695</td>\n",
       "      <td>964</td>\n",
       "      <td>1047</td>\n",
       "      <td>963</td>\n",
       "      <td>535</td>\n",
       "      <td>812</td>\n",
       "      <td>918</td>\n",
       "      <td>947</td>\n",
       "      <td>724</td>\n",
       "      <td>868</td>\n",
       "      <td>...</td>\n",
       "      <td>814</td>\n",
       "      <td>882</td>\n",
       "      <td>787</td>\n",
       "      <td>673</td>\n",
       "      <td>774</td>\n",
       "      <td>818</td>\n",
       "      <td>964</td>\n",
       "      <td>709</td>\n",
       "      <td>755</td>\n",
       "      <td>728</td>\n",
       "    </tr>\n",
       "    <tr>\n",
       "      <th>aku4</th>\n",
       "      <td>700</td>\n",
       "      <td>995</td>\n",
       "      <td>1027</td>\n",
       "      <td>971</td>\n",
       "      <td>526</td>\n",
       "      <td>851</td>\n",
       "      <td>938</td>\n",
       "      <td>935</td>\n",
       "      <td>723</td>\n",
       "      <td>859</td>\n",
       "      <td>...</td>\n",
       "      <td>803</td>\n",
       "      <td>852</td>\n",
       "      <td>786</td>\n",
       "      <td>711</td>\n",
       "      <td>756</td>\n",
       "      <td>858</td>\n",
       "      <td>942</td>\n",
       "      <td>715</td>\n",
       "      <td>768</td>\n",
       "      <td>686</td>\n",
       "    </tr>\n",
       "    <tr>\n",
       "      <th>aku5</th>\n",
       "      <td>703</td>\n",
       "      <td>926</td>\n",
       "      <td>990</td>\n",
       "      <td>951</td>\n",
       "      <td>546</td>\n",
       "      <td>768</td>\n",
       "      <td>866</td>\n",
       "      <td>891</td>\n",
       "      <td>719</td>\n",
       "      <td>872</td>\n",
       "      <td>...</td>\n",
       "      <td>814</td>\n",
       "      <td>845</td>\n",
       "      <td>830</td>\n",
       "      <td>685</td>\n",
       "      <td>764</td>\n",
       "      <td>819</td>\n",
       "      <td>1027</td>\n",
       "      <td>763</td>\n",
       "      <td>757</td>\n",
       "      <td>680</td>\n",
       "    </tr>\n",
       "    <tr>\n",
       "      <th>kamu1</th>\n",
       "      <td>424</td>\n",
       "      <td>392</td>\n",
       "      <td>140</td>\n",
       "      <td>255</td>\n",
       "      <td>55</td>\n",
       "      <td>131</td>\n",
       "      <td>205</td>\n",
       "      <td>174</td>\n",
       "      <td>243</td>\n",
       "      <td>363</td>\n",
       "      <td>...</td>\n",
       "      <td>380</td>\n",
       "      <td>239</td>\n",
       "      <td>269</td>\n",
       "      <td>181</td>\n",
       "      <td>192</td>\n",
       "      <td>318</td>\n",
       "      <td>81</td>\n",
       "      <td>333</td>\n",
       "      <td>387</td>\n",
       "      <td>377</td>\n",
       "    </tr>\n",
       "    <tr>\n",
       "      <th>kamu2</th>\n",
       "      <td>432</td>\n",
       "      <td>412</td>\n",
       "      <td>152</td>\n",
       "      <td>262</td>\n",
       "      <td>52</td>\n",
       "      <td>97</td>\n",
       "      <td>166</td>\n",
       "      <td>169</td>\n",
       "      <td>240</td>\n",
       "      <td>395</td>\n",
       "      <td>...</td>\n",
       "      <td>392</td>\n",
       "      <td>235</td>\n",
       "      <td>241</td>\n",
       "      <td>172</td>\n",
       "      <td>189</td>\n",
       "      <td>295</td>\n",
       "      <td>88</td>\n",
       "      <td>367</td>\n",
       "      <td>377</td>\n",
       "      <td>400</td>\n",
       "    </tr>\n",
       "    <tr>\n",
       "      <th>kamu3</th>\n",
       "      <td>428</td>\n",
       "      <td>403</td>\n",
       "      <td>153</td>\n",
       "      <td>259</td>\n",
       "      <td>48</td>\n",
       "      <td>94</td>\n",
       "      <td>170</td>\n",
       "      <td>167</td>\n",
       "      <td>255</td>\n",
       "      <td>381</td>\n",
       "      <td>...</td>\n",
       "      <td>407</td>\n",
       "      <td>255</td>\n",
       "      <td>268</td>\n",
       "      <td>200</td>\n",
       "      <td>175</td>\n",
       "      <td>348</td>\n",
       "      <td>86</td>\n",
       "      <td>326</td>\n",
       "      <td>376</td>\n",
       "      <td>406</td>\n",
       "    </tr>\n",
       "    <tr>\n",
       "      <th>kamu4</th>\n",
       "      <td>418</td>\n",
       "      <td>349</td>\n",
       "      <td>136</td>\n",
       "      <td>247</td>\n",
       "      <td>47</td>\n",
       "      <td>98</td>\n",
       "      <td>168</td>\n",
       "      <td>168</td>\n",
       "      <td>247</td>\n",
       "      <td>356</td>\n",
       "      <td>...</td>\n",
       "      <td>371</td>\n",
       "      <td>279</td>\n",
       "      <td>267</td>\n",
       "      <td>193</td>\n",
       "      <td>171</td>\n",
       "      <td>312</td>\n",
       "      <td>86</td>\n",
       "      <td>289</td>\n",
       "      <td>381</td>\n",
       "      <td>386</td>\n",
       "    </tr>\n",
       "    <tr>\n",
       "      <th>kamu5</th>\n",
       "      <td>433</td>\n",
       "      <td>325</td>\n",
       "      <td>141</td>\n",
       "      <td>223</td>\n",
       "      <td>44</td>\n",
       "      <td>105</td>\n",
       "      <td>194</td>\n",
       "      <td>144</td>\n",
       "      <td>256</td>\n",
       "      <td>367</td>\n",
       "      <td>...</td>\n",
       "      <td>368</td>\n",
       "      <td>231</td>\n",
       "      <td>239</td>\n",
       "      <td>160</td>\n",
       "      <td>194</td>\n",
       "      <td>288</td>\n",
       "      <td>78</td>\n",
       "      <td>338</td>\n",
       "      <td>385</td>\n",
       "      <td>388</td>\n",
       "    </tr>\n",
       "  </tbody>\n",
       "</table>\n",
       "<p>10 rows × 100 columns</p>\n",
       "</div>"
      ],
      "text/plain": [
       "      data1 data2 data3 data4 data5 data6 data7 data8 data9 data10  ...  \\\n",
       "aku1    721  1044   911   989   541   818   946   959   694    875  ...   \n",
       "aku2    653  1007   983  1008   531   833   850   909   688    838  ...   \n",
       "aku3    695   964  1047   963   535   812   918   947   724    868  ...   \n",
       "aku4    700   995  1027   971   526   851   938   935   723    859  ...   \n",
       "aku5    703   926   990   951   546   768   866   891   719    872  ...   \n",
       "kamu1   424   392   140   255    55   131   205   174   243    363  ...   \n",
       "kamu2   432   412   152   262    52    97   166   169   240    395  ...   \n",
       "kamu3   428   403   153   259    48    94   170   167   255    381  ...   \n",
       "kamu4   418   349   136   247    47    98   168   168   247    356  ...   \n",
       "kamu5   433   325   141   223    44   105   194   144   256    367  ...   \n",
       "\n",
       "      data91 data92 data93 data94 data95 data96 data97 data98 data99 data100  \n",
       "aku1     785    830    863    681    818    907   1002    700    735     726  \n",
       "aku2     762    830    830    654    827    850    961    728    711     713  \n",
       "aku3     814    882    787    673    774    818    964    709    755     728  \n",
       "aku4     803    852    786    711    756    858    942    715    768     686  \n",
       "aku5     814    845    830    685    764    819   1027    763    757     680  \n",
       "kamu1    380    239    269    181    192    318     81    333    387     377  \n",
       "kamu2    392    235    241    172    189    295     88    367    377     400  \n",
       "kamu3    407    255    268    200    175    348     86    326    376     406  \n",
       "kamu4    371    279    267    193    171    312     86    289    381     386  \n",
       "kamu5    368    231    239    160    194    288     78    338    385     388  \n",
       "\n",
       "[10 rows x 100 columns]"
      ]
     },
     "execution_count": 16,
     "metadata": {},
     "output_type": "execute_result"
    }
   ],
   "source": [
    "dataPca = dataPca.T\n",
    "dataPca"
   ]
  },
  {
   "attachments": {},
   "cell_type": "markdown",
   "metadata": {},
   "source": [
    "### RUMUS\n",
    "\n",
    "scale = $\\frac{(measure-mean)^2}{n.measurements}$"
   ]
  },
  {
   "cell_type": "code",
   "execution_count": 17,
   "metadata": {},
   "outputs": [],
   "source": [
    "scaled_data = preprocessing.scale(dataPca)"
   ]
  },
  {
   "cell_type": "code",
   "execution_count": 18,
   "metadata": {},
   "outputs": [],
   "source": [
    "pca = PCA()\n",
    "pca_data = pca.fit_transform(scaled_data)"
   ]
  },
  {
   "cell_type": "code",
   "execution_count": 19,
   "metadata": {},
   "outputs": [],
   "source": [
    "per_var = np.round(pca.explained_variance_ratio_ * 100, decimals=1)\n",
    "labels = ['PC' + str(x) for x in range(1, len(per_var) + 1)]"
   ]
  },
  {
   "cell_type": "code",
   "execution_count": 22,
   "metadata": {},
   "outputs": [
    {
     "data": {
      "image/png": "[encoded data removed]",
      "text/plain": [
       "<Figure size 600x600 with 1 Axes>"
      ]
     },
     "metadata": {},
     "output_type": "display_data"
    }
   ],
   "source": [
    "plt.figure(figsize=(6, 6))\n",
    "\n",
    "plt.bar(x = range(1, len(per_var) + 1), height=per_var, tick_label = labels)\n",
    "\n",
    "plt.title('Scree Plot')\n",
    "plt.xlabel('Principal Component')\n",
    "plt.ylabel('Percentage of Explained Variance')\n",
    "\n",
    "plt.show()"
   ]
  },
  {
   "cell_type": "code",
   "execution_count": 23,
   "metadata": {},
   "outputs": [
    {
     "data": {
      "text/plain": [
       "array([98.7,  0.4,  0.3,  0.2,  0.2,  0.1,  0.1,  0.1,  0. ,  0. ])"
      ]
     },
     "execution_count": 23,
     "metadata": {},
     "output_type": "execute_result"
    }
   ],
   "source": [
    "np.round(pca.explained_variance_ratio_ * 100, decimals=1)"
   ]
  },
  {
   "attachments": {},
   "cell_type": "markdown",
   "metadata": {},
   "source": [
    "PCA1 = 98.7%\n",
    "\n",
    "PCA2 = 98.7% + 0.4\n",
    "\n",
    "etc"
   ]
  },
  {
   "cell_type": "code",
   "execution_count": 24,
   "metadata": {},
   "outputs": [
    {
     "data": {
      "image/png": "[encoded data removed]",
      "text/plain": [
       "<Figure size 640x480 with 1 Axes>"
      ]
     },
     "metadata": {},
     "output_type": "display_data"
    }
   ],
   "source": [
    "pca_df = pd.DataFrame(pca_data, index=[*aku, *kamu], columns=labels)\n",
    " \n",
    "plt.scatter(pca_df.PC1, pca_df.PC2)\n",
    "plt.title('My PCA Graph')\n",
    "plt.xlabel('PC1 - {0}%'.format(per_var[0]))\n",
    "plt.ylabel('PC2 - {0}%'.format(per_var[1]))\n",
    " \n",
    "for sample in pca_df.index:\n",
    "    plt.annotate(sample, (pca_df.PC1.loc[sample], pca_df.PC2.loc[sample]))\n",
    " \n",
    "plt.show()"
   ]
  },
  {
   "attachments": {},
   "cell_type": "markdown",
   "metadata": {},
   "source": [
    "### Determine which dataset had the biggest influence on PC1"
   ]
  },
  {
   "cell_type": "code",
   "execution_count": 25,
   "metadata": {},
   "outputs": [
    {
     "data": {
      "text/plain": [
       "data1      0.099991\n",
       "data2      0.099907\n",
       "data3      0.100352\n",
       "data4      0.100520\n",
       "data5      0.100633\n",
       "             ...   \n",
       "data96     0.100170\n",
       "data97     0.100553\n",
       "data98     0.099936\n",
       "data99     0.100397\n",
       "data100    0.100097\n",
       "Length: 100, dtype: float64"
      ]
     },
     "execution_count": 25,
     "metadata": {},
     "output_type": "execute_result"
    }
   ],
   "source": [
    "loading_scores = pd.Series(pca.components_[0], index=dataset)\n",
    "loading_scores"
   ]
  },
  {
   "cell_type": "code",
   "execution_count": 26,
   "metadata": {},
   "outputs": [
    {
     "data": {
      "text/plain": [
       "data53    0.100659\n",
       "data86    0.100651\n",
       "data5     0.100633\n",
       "data62    0.100633\n",
       "data40    0.100632\n",
       "            ...   \n",
       "data15    0.097543\n",
       "data89    0.097334\n",
       "data77    0.097153\n",
       "data26    0.092800\n",
       "data55    0.089702\n",
       "Length: 100, dtype: float64"
      ]
     },
     "execution_count": 26,
     "metadata": {},
     "output_type": "execute_result"
    }
   ],
   "source": [
    "sorted_loading_scores = loading_scores.abs().sort_values(ascending=False)\n",
    "sorted_loading_scores"
   ]
  },
  {
   "cell_type": "code",
   "execution_count": 27,
   "metadata": {},
   "outputs": [],
   "source": [
    "top_10_dataset = sorted_loading_scores[0:10].index.values"
   ]
  },
  {
   "cell_type": "code",
   "execution_count": 30,
   "metadata": {},
   "outputs": [
    {
     "name": "stdout",
     "output_type": "stream",
     "text": [
      "data53    0.100659\n",
      "data86    0.100651\n",
      "data5     0.100633\n",
      "data62    0.100633\n",
      "data40    0.100632\n",
      "data90    0.100608\n",
      "data31    0.100604\n",
      "data18    0.100594\n",
      "data79    0.100591\n",
      "data70    0.100587\n",
      "dtype: float64\n"
     ]
    }
   ],
   "source": [
    "print(loading_scores[top_10_dataset])"
   ]
  }
 ],
 "metadata": {
  "kernelspec": {
   "display_name": "Python 3",
   "language": "python",
   "name": "python3"
  },
  "language_info": {
   "codemirror_mode": {
    "name": "ipython",
    "version": 3
   },
   "file_extension": ".py",
   "mimetype": "text/x-python",
   "name": "python",
   "nbconvert_exporter": "python",
   "pygments_lexer": "ipython3",
   "version": "3.10.8"
  },
  "orig_nbformat": 4,
  "vscode": {
   "interpreter": {
    "hash": "a9cff5a362bc38ef45d817ae74b1af54d6a076e3d773891282bce078b815ba34"
   }
  }
 },
 "nbformat": 4,
 "nbformat_minor": 2
}
