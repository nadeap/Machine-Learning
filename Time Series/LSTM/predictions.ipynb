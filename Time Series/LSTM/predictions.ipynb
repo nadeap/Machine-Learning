{
 "cells": [
  {
   "cell_type": "code",
   "execution_count": 1,
   "metadata": {},
   "outputs": [],
   "source": [
    "import pandas as pd\n",
    "import numpy as np\n",
    "import seaborn as sns\n",
    "import matplotlib.pyplot as plt"
   ]
  },
  {
   "cell_type": "code",
   "execution_count": 2,
   "metadata": {},
   "outputs": [
    {
     "data": {
      "text/html": [
       "<div>\n",
       "<style scoped>\n",
       "    .dataframe tbody tr th:only-of-type {\n",
       "        vertical-align: middle;\n",
       "    }\n",
       "\n",
       "    .dataframe tbody tr th {\n",
       "        vertical-align: top;\n",
       "    }\n",
       "\n",
       "    .dataframe thead th {\n",
       "        text-align: right;\n",
       "    }\n",
       "</style>\n",
       "<table border=\"1\" class=\"dataframe\">\n",
       "  <thead>\n",
       "    <tr style=\"text-align: right;\">\n",
       "      <th></th>\n",
       "      <th>Unnamed: 0</th>\n",
       "      <th>Date</th>\n",
       "      <th>Open</th>\n",
       "      <th>High</th>\n",
       "      <th>Low</th>\n",
       "      <th>Close</th>\n",
       "      <th>Adj Close</th>\n",
       "      <th>Volume</th>\n",
       "    </tr>\n",
       "  </thead>\n",
       "  <tbody>\n",
       "    <tr>\n",
       "      <th>0</th>\n",
       "      <td>0</td>\n",
       "      <td>2013/01/02</td>\n",
       "      <td>18.003504</td>\n",
       "      <td>18.193193</td>\n",
       "      <td>17.931683</td>\n",
       "      <td>18.099348</td>\n",
       "      <td>18.099348</td>\n",
       "      <td>101550348</td>\n",
       "    </tr>\n",
       "    <tr>\n",
       "      <th>1</th>\n",
       "      <td>1</td>\n",
       "      <td>2013/01/03</td>\n",
       "      <td>18.141392</td>\n",
       "      <td>18.316566</td>\n",
       "      <td>18.036036</td>\n",
       "      <td>18.109859</td>\n",
       "      <td>18.109859</td>\n",
       "      <td>92635272</td>\n",
       "    </tr>\n",
       "    <tr>\n",
       "      <th>2</th>\n",
       "      <td>2</td>\n",
       "      <td>2013/01/04</td>\n",
       "      <td>18.251753</td>\n",
       "      <td>18.555305</td>\n",
       "      <td>18.210211</td>\n",
       "      <td>18.467718</td>\n",
       "      <td>18.467718</td>\n",
       "      <td>110429460</td>\n",
       "    </tr>\n",
       "    <tr>\n",
       "      <th>3</th>\n",
       "      <td>3</td>\n",
       "      <td>2013/01/07</td>\n",
       "      <td>18.404655</td>\n",
       "      <td>18.503002</td>\n",
       "      <td>18.282784</td>\n",
       "      <td>18.387136</td>\n",
       "      <td>18.387136</td>\n",
       "      <td>66161772</td>\n",
       "    </tr>\n",
       "    <tr>\n",
       "      <th>4</th>\n",
       "      <td>4</td>\n",
       "      <td>2013/01/08</td>\n",
       "      <td>18.406906</td>\n",
       "      <td>18.425926</td>\n",
       "      <td>18.128880</td>\n",
       "      <td>18.350851</td>\n",
       "      <td>18.350851</td>\n",
       "      <td>66976956</td>\n",
       "    </tr>\n",
       "  </tbody>\n",
       "</table>\n",
       "</div>"
      ],
      "text/plain": [
       "   Unnamed: 0        Date       Open       High        Low      Close  \\\n",
       "0           0  2013/01/02  18.003504  18.193193  17.931683  18.099348   \n",
       "1           1  2013/01/03  18.141392  18.316566  18.036036  18.109859   \n",
       "2           2  2013/01/04  18.251753  18.555305  18.210211  18.467718   \n",
       "3           3  2013/01/07  18.404655  18.503002  18.282784  18.387136   \n",
       "4           4  2013/01/08  18.406906  18.425926  18.128880  18.350851   \n",
       "\n",
       "   Adj Close     Volume  \n",
       "0  18.099348  101550348  \n",
       "1  18.109859   92635272  \n",
       "2  18.467718  110429460  \n",
       "3  18.387136   66161772  \n",
       "4  18.350851   66976956  "
      ]
     },
     "execution_count": 2,
     "metadata": {},
     "output_type": "execute_result"
    }
   ],
   "source": [
    "data = pd.read_csv('googlestockdataset.csv')\n",
    "data.head()"
   ]
  },
  {
   "cell_type": "code",
   "execution_count": 3,
   "metadata": {},
   "outputs": [
    {
     "data": {
      "text/plain": [
       "(2536, 8)"
      ]
     },
     "execution_count": 3,
     "metadata": {},
     "output_type": "execute_result"
    }
   ],
   "source": [
    "data.shape"
   ]
  },
  {
   "cell_type": "code",
   "execution_count": null,
   "metadata": {},
   "outputs": [],
   "source": []
  }
 ],
 "metadata": {
  "kernelspec": {
   "display_name": "Python 3",
   "language": "python",
   "name": "python3"
  },
  "language_info": {
   "codemirror_mode": {
    "name": "ipython",
    "version": 3
   },
   "file_extension": ".py",
   "mimetype": "text/x-python",
   "name": "python",
   "nbconvert_exporter": "python",
   "pygments_lexer": "ipython3",
   "version": "3.10.8"
  },
  "orig_nbformat": 4,
  "vscode": {
   "interpreter": {
    "hash": "a9cff5a362bc38ef45d817ae74b1af54d6a076e3d773891282bce078b815ba34"
   }
  }
 },
 "nbformat": 4,
 "nbformat_minor": 2
}
