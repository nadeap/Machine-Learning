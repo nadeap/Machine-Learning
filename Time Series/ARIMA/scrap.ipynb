{
 "cells": [
  {
   "attachments": {},
   "cell_type": "markdown",
   "metadata": {},
   "source": [
    "# Data Gathering\n",
    "\n",
    "Pengumpulan data menggunakan teknik web scraping dari https://covid19.go.id/. Langkah yang dikerjakan adalah :\n",
    "1. Buka laman https://covid19.go.id/peta-sebaran.\n",
    "2. Klik kanan pada browser, pilih inspect.\n",
    "3. Pilih tab network - Fetch/XHR, refresh laman web yang sudah terbuka agar inspect network tampil.\n",
    "4. Cari link API yang dibutuhkan, dalam contoh ini akan diambil data penambahan harian.\n",
    "5. Klik API yang update.json. Buka URL yang tampil di tab baru untuk mengecek data yang dibutuhkan apakah tersedia."
   ]
  },
  {
   "cell_type": "code",
   "execution_count": 1,
   "metadata": {},
   "outputs": [],
   "source": [
    "import pandas as pd\n",
    "import numpy as np\n",
    "import requests\n",
    "import datetime, time\n",
    "\n",
    "import re\n",
    "import matplotlib.pyplot as plt\n",
    "import seaborn as sns\n",
    "\n",
    "from statsmodels.tsa.stattools import adfuller\n",
    "plt.rcParams['figure.figsize'] = 15, 6 \n",
    "sns.set_theme(style=\"whitegrid\")\n",
    "import warnings\n",
    "warnings.filterwarnings(\"ignore\")\n",
    "from statsmodels.graphics.tsaplots import plot_acf\n",
    "from statsmodels.graphics.tsaplots import plot_pacf\n",
    "\n",
    "from pmdarima.arima import auto_arima\n",
    "from sklearn.metrics import mean_squared_error\n",
    "from math import sqrt"
   ]
  },
  {
   "cell_type": "code",
   "execution_count": 2,
   "metadata": {},
   "outputs": [
    {
     "name": "stdout",
     "output_type": "stream",
     "text": [
      "Halo\n"
     ]
    }
   ],
   "source": [
    "print('Halo')"
   ]
  },
  {
   "cell_type": "code",
   "execution_count": null,
   "metadata": {},
   "outputs": [],
   "source": []
  }
 ],
 "metadata": {
  "kernelspec": {
   "display_name": "Python 3",
   "language": "python",
   "name": "python3"
  },
  "language_info": {
   "codemirror_mode": {
    "name": "ipython",
    "version": 3
   },
   "file_extension": ".py",
   "mimetype": "text/x-python",
   "name": "python",
   "nbconvert_exporter": "python",
   "pygments_lexer": "ipython3",
   "version": "3.10.8"
  },
  "orig_nbformat": 4,
  "vscode": {
   "interpreter": {
    "hash": "a9cff5a362bc38ef45d817ae74b1af54d6a076e3d773891282bce078b815ba34"
   }
  }
 },
 "nbformat": 4,
 "nbformat_minor": 2
}
