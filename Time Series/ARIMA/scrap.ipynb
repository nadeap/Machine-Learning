{
 "cells": [
  {
   "attachments": {},
   "cell_type": "markdown",
   "metadata": {},
   "source": [
    "# Data Gathering\n",
    "\n",
    "Pengumpulan data menggunakan teknik web scraping dari https://covid19.go.id/. Langkah yang dikerjakan adalah :\n",
    "1. Buka laman https://covid19.go.id/peta-sebaran.\n",
    "2. Klik kanan pada browser, pilih inspect.\n",
    "3. Pilih tab network - Fetch/XHR, refresh laman web yang sudah terbuka agar inspect network tampil.\n",
    "4. Cari link API yang dibutuhkan, dalam contoh ini akan diambil data penambahan harian.\n",
    "5. Klik API yang update.json. Buka URL yang tampil di tab baru untuk mengecek data yang dibutuhkan apakah tersedia."
   ]
  },
  {
   "cell_type": "markdown",
   "metadata": {},
   "source": []
  }
 ],
 "metadata": {
  "language_info": {
   "name": "python"
  },
  "orig_nbformat": 4
 },
 "nbformat": 4,
 "nbformat_minor": 2
}
