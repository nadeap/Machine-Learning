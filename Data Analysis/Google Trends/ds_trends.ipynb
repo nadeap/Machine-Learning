{
 "cells": [
  {
   "cell_type": "code",
   "execution_count": 1,
   "metadata": {},
   "outputs": [],
   "source": [
    "from pytrends.request import TrendReq\n",
    "import matplotlib.pyplot as plt\n",
    "trends = TrendReq()"
   ]
  },
  {
   "cell_type": "code",
   "execution_count": 9,
   "metadata": {},
   "outputs": [],
   "source": [
    "trends.build_payload(kw_list=['Data Science'])\n",
    "data = trends.interest_by_region()\n",
    "data1 = trends.interest_over_time()\n",
    "data = data.sort_values(by='Data Science', ascending=False)\n",
    "data1 = data1.sort_values(by='Data Science', ascending=False)"
   ]
  },
  {
   "cell_type": "code",
   "execution_count": 5,
   "metadata": {},
   "outputs": [
    {
     "data": {
      "text/html": [
       "<div>\n",
       "<style scoped>\n",
       "    .dataframe tbody tr th:only-of-type {\n",
       "        vertical-align: middle;\n",
       "    }\n",
       "\n",
       "    .dataframe tbody tr th {\n",
       "        vertical-align: top;\n",
       "    }\n",
       "\n",
       "    .dataframe thead th {\n",
       "        text-align: right;\n",
       "    }\n",
       "</style>\n",
       "<table border=\"1\" class=\"dataframe\">\n",
       "  <thead>\n",
       "    <tr style=\"text-align: right;\">\n",
       "      <th></th>\n",
       "      <th>Data Science</th>\n",
       "    </tr>\n",
       "    <tr>\n",
       "      <th>geoName</th>\n",
       "      <th></th>\n",
       "    </tr>\n",
       "  </thead>\n",
       "  <tbody>\n",
       "    <tr>\n",
       "      <th>Ethiopia</th>\n",
       "      <td>100</td>\n",
       "    </tr>\n",
       "    <tr>\n",
       "      <th>China</th>\n",
       "      <td>100</td>\n",
       "    </tr>\n",
       "    <tr>\n",
       "      <th>Singapore</th>\n",
       "      <td>100</td>\n",
       "    </tr>\n",
       "    <tr>\n",
       "      <th>India</th>\n",
       "      <td>100</td>\n",
       "    </tr>\n",
       "    <tr>\n",
       "      <th>Nigeria</th>\n",
       "      <td>83</td>\n",
       "    </tr>\n",
       "    <tr>\n",
       "      <th>Kenya</th>\n",
       "      <td>71</td>\n",
       "    </tr>\n",
       "    <tr>\n",
       "      <th>Pakistan</th>\n",
       "      <td>67</td>\n",
       "    </tr>\n",
       "    <tr>\n",
       "      <th>Ghana</th>\n",
       "      <td>67</td>\n",
       "    </tr>\n",
       "    <tr>\n",
       "      <th>Nepal</th>\n",
       "      <td>66</td>\n",
       "    </tr>\n",
       "    <tr>\n",
       "      <th>Sri Lanka</th>\n",
       "      <td>53</td>\n",
       "    </tr>\n",
       "  </tbody>\n",
       "</table>\n",
       "</div>"
      ],
      "text/plain": [
       "           Data Science\n",
       "geoName                \n",
       "Ethiopia            100\n",
       "China               100\n",
       "Singapore           100\n",
       "India               100\n",
       "Nigeria              83\n",
       "Kenya                71\n",
       "Pakistan             67\n",
       "Ghana                67\n",
       "Nepal                66\n",
       "Sri Lanka            53"
      ]
     },
     "execution_count": 5,
     "metadata": {},
     "output_type": "execute_result"
    }
   ],
   "source": [
    "data.head(10)"
   ]
  },
  {
   "cell_type": "code",
   "execution_count": 11,
   "metadata": {},
   "outputs": [
    {
     "data": {
      "text/plain": [
       "(250, 1)"
      ]
     },
     "execution_count": 11,
     "metadata": {},
     "output_type": "execute_result"
    }
   ],
   "source": [
    "data.shape"
   ]
  },
  {
   "cell_type": "code",
   "execution_count": 10,
   "metadata": {},
   "outputs": [
    {
     "data": {
      "text/html": [
       "<div>\n",
       "<style scoped>\n",
       "    .dataframe tbody tr th:only-of-type {\n",
       "        vertical-align: middle;\n",
       "    }\n",
       "\n",
       "    .dataframe tbody tr th {\n",
       "        vertical-align: top;\n",
       "    }\n",
       "\n",
       "    .dataframe thead th {\n",
       "        text-align: right;\n",
       "    }\n",
       "</style>\n",
       "<table border=\"1\" class=\"dataframe\">\n",
       "  <thead>\n",
       "    <tr style=\"text-align: right;\">\n",
       "      <th></th>\n",
       "      <th>Data Science</th>\n",
       "      <th>isPartial</th>\n",
       "    </tr>\n",
       "    <tr>\n",
       "      <th>date</th>\n",
       "      <th></th>\n",
       "      <th></th>\n",
       "    </tr>\n",
       "  </thead>\n",
       "  <tbody>\n",
       "    <tr>\n",
       "      <th>2022-09-11</th>\n",
       "      <td>100</td>\n",
       "      <td>False</td>\n",
       "    </tr>\n",
       "    <tr>\n",
       "      <th>2022-09-18</th>\n",
       "      <td>97</td>\n",
       "      <td>False</td>\n",
       "    </tr>\n",
       "    <tr>\n",
       "      <th>2022-09-25</th>\n",
       "      <td>95</td>\n",
       "      <td>False</td>\n",
       "    </tr>\n",
       "    <tr>\n",
       "      <th>2022-08-28</th>\n",
       "      <td>95</td>\n",
       "      <td>False</td>\n",
       "    </tr>\n",
       "    <tr>\n",
       "      <th>2022-10-09</th>\n",
       "      <td>95</td>\n",
       "      <td>False</td>\n",
       "    </tr>\n",
       "    <tr>\n",
       "      <th>2022-07-31</th>\n",
       "      <td>94</td>\n",
       "      <td>False</td>\n",
       "    </tr>\n",
       "    <tr>\n",
       "      <th>2022-04-03</th>\n",
       "      <td>93</td>\n",
       "      <td>False</td>\n",
       "    </tr>\n",
       "    <tr>\n",
       "      <th>2022-04-24</th>\n",
       "      <td>93</td>\n",
       "      <td>False</td>\n",
       "    </tr>\n",
       "    <tr>\n",
       "      <th>2022-08-21</th>\n",
       "      <td>92</td>\n",
       "      <td>False</td>\n",
       "    </tr>\n",
       "    <tr>\n",
       "      <th>2022-05-08</th>\n",
       "      <td>92</td>\n",
       "      <td>False</td>\n",
       "    </tr>\n",
       "  </tbody>\n",
       "</table>\n",
       "</div>"
      ],
      "text/plain": [
       "            Data Science  isPartial\n",
       "date                               \n",
       "2022-09-11           100      False\n",
       "2022-09-18            97      False\n",
       "2022-09-25            95      False\n",
       "2022-08-28            95      False\n",
       "2022-10-09            95      False\n",
       "2022-07-31            94      False\n",
       "2022-04-03            93      False\n",
       "2022-04-24            93      False\n",
       "2022-08-21            92      False\n",
       "2022-05-08            92      False"
      ]
     },
     "execution_count": 10,
     "metadata": {},
     "output_type": "execute_result"
    }
   ],
   "source": [
    "data1.head(10)"
   ]
  },
  {
   "cell_type": "code",
   "execution_count": 19,
   "metadata": {},
   "outputs": [
    {
     "data": {
      "image/png": "[encoded data removed]",
      "text/plain": [
       "<Figure size 1000x800 with 1 Axes>"
      ]
     },
     "metadata": {},
     "output_type": "display_data"
    }
   ],
   "source": [
    "data = TrendReq(hl='en-US', tz=360)\n",
    "data.build_payload(kw_list=['Data Science'])\n",
    "data = data.interest_over_time()\n",
    "fig, ax = plt.subplots(figsize=(10, 8))\n",
    "data['Data Science'].plot()\n",
    "plt.style.use('fivethirtyeight')\n",
    "plt.title('Total Google Searches for Data Science', \n",
    "          fontweight='bold')\n",
    "plt.xlabel('Year')\n",
    "plt.ylabel('Total Count')\n",
    "plt.show()"
   ]
  },
  {
   "cell_type": "code",
   "execution_count": 21,
   "metadata": {},
   "outputs": [],
   "source": [
    "data2 = TrendReq(hl='en-US', tz=360)\n",
    "data2.build_payload(kw_list=['Data Science'])\n",
    "data2 = data2.interest_over_time()"
   ]
  },
  {
   "cell_type": "code",
   "execution_count": 23,
   "metadata": {},
   "outputs": [
    {
     "data": {
      "text/html": [
       "<div>\n",
       "<style scoped>\n",
       "    .dataframe tbody tr th:only-of-type {\n",
       "        vertical-align: middle;\n",
       "    }\n",
       "\n",
       "    .dataframe tbody tr th {\n",
       "        vertical-align: top;\n",
       "    }\n",
       "\n",
       "    .dataframe thead th {\n",
       "        text-align: right;\n",
       "    }\n",
       "</style>\n",
       "<table border=\"1\" class=\"dataframe\">\n",
       "  <thead>\n",
       "    <tr style=\"text-align: right;\">\n",
       "      <th></th>\n",
       "      <th>Data Science</th>\n",
       "      <th>isPartial</th>\n",
       "    </tr>\n",
       "    <tr>\n",
       "      <th>date</th>\n",
       "      <th></th>\n",
       "      <th></th>\n",
       "    </tr>\n",
       "  </thead>\n",
       "  <tbody>\n",
       "    <tr>\n",
       "      <th>2018-01-28</th>\n",
       "      <td>42</td>\n",
       "      <td>False</td>\n",
       "    </tr>\n",
       "    <tr>\n",
       "      <th>2018-02-04</th>\n",
       "      <td>41</td>\n",
       "      <td>False</td>\n",
       "    </tr>\n",
       "    <tr>\n",
       "      <th>2018-02-11</th>\n",
       "      <td>40</td>\n",
       "      <td>False</td>\n",
       "    </tr>\n",
       "    <tr>\n",
       "      <th>2018-02-18</th>\n",
       "      <td>41</td>\n",
       "      <td>False</td>\n",
       "    </tr>\n",
       "    <tr>\n",
       "      <th>2018-02-25</th>\n",
       "      <td>41</td>\n",
       "      <td>False</td>\n",
       "    </tr>\n",
       "    <tr>\n",
       "      <th>...</th>\n",
       "      <td>...</td>\n",
       "      <td>...</td>\n",
       "    </tr>\n",
       "    <tr>\n",
       "      <th>2022-12-18</th>\n",
       "      <td>72</td>\n",
       "      <td>False</td>\n",
       "    </tr>\n",
       "    <tr>\n",
       "      <th>2022-12-25</th>\n",
       "      <td>66</td>\n",
       "      <td>False</td>\n",
       "    </tr>\n",
       "    <tr>\n",
       "      <th>2023-01-01</th>\n",
       "      <td>83</td>\n",
       "      <td>False</td>\n",
       "    </tr>\n",
       "    <tr>\n",
       "      <th>2023-01-08</th>\n",
       "      <td>84</td>\n",
       "      <td>False</td>\n",
       "    </tr>\n",
       "    <tr>\n",
       "      <th>2023-01-15</th>\n",
       "      <td>84</td>\n",
       "      <td>True</td>\n",
       "    </tr>\n",
       "  </tbody>\n",
       "</table>\n",
       "<p>260 rows × 2 columns</p>\n",
       "</div>"
      ],
      "text/plain": [
       "            Data Science  isPartial\n",
       "date                               \n",
       "2018-01-28            42      False\n",
       "2018-02-04            41      False\n",
       "2018-02-11            40      False\n",
       "2018-02-18            41      False\n",
       "2018-02-25            41      False\n",
       "...                  ...        ...\n",
       "2022-12-18            72      False\n",
       "2022-12-25            66      False\n",
       "2023-01-01            83      False\n",
       "2023-01-08            84      False\n",
       "2023-01-15            84       True\n",
       "\n",
       "[260 rows x 2 columns]"
      ]
     },
     "execution_count": 23,
     "metadata": {},
     "output_type": "execute_result"
    }
   ],
   "source": [
    "data2"
   ]
  },
  {
   "cell_type": "code",
   "execution_count": 25,
   "metadata": {},
   "outputs": [
    {
     "data": {
      "application/vnd.plotly.v1+json": {
       "config": {
        "plotlyServerURL": "https://plot.ly"
       },
       "data": [
        {
         "hovertemplate": "date=%{x}<br>Data Science=%{y}<extra></extra>",
         "legendgroup": "",
         "line": {
          "color": "#636efa",
          "dash": "solid"
         },
         "marker": {
          "symbol": "circle"
         },
         "mode": "lines",
         "name": "",
         "orientation": "v",
         "showlegend": false,
         "type": "scatter",
         "x": [
          "2018-01-28T00:00:00",
          "2018-02-04T00:00:00",
          "2018-02-11T00:00:00",
          "2018-02-18T00:00:00",
          "2018-02-25T00:00:00",
          "2018-03-04T00:00:00",
          "2018-03-11T00:00:00",
          "2018-03-18T00:00:00",
          "2018-03-25T00:00:00",
          "2018-04-01T00:00:00",
          "2018-04-08T00:00:00",
          "2018-04-15T00:00:00",
          "2018-04-22T00:00:00",
          "2018-04-29T00:00:00",
          "2018-05-06T00:00:00",
          "2018-05-13T00:00:00",
          "2018-05-20T00:00:00",
          "2018-05-27T00:00:00",
          "2018-06-03T00:00:00",
          "2018-06-10T00:00:00",
          "2018-06-17T00:00:00",
          "2018-06-24T00:00:00",
          "2018-07-01T00:00:00",
          "2018-07-08T00:00:00",
          "2018-07-15T00:00:00",
          "2018-07-22T00:00:00",
          "2018-07-29T00:00:00",
          "2018-08-05T00:00:00",
          "2018-08-12T00:00:00",
          "2018-08-19T00:00:00",
          "2018-08-26T00:00:00",
          "2018-09-02T00:00:00",
          "2018-09-09T00:00:00",
          "2018-09-16T00:00:00",
          "2018-09-23T00:00:00",
          "2018-09-30T00:00:00",
          "2018-10-07T00:00:00",
          "2018-10-14T00:00:00",
          "2018-10-21T00:00:00",
          "2018-10-28T00:00:00",
          "2018-11-04T00:00:00",
          "2018-11-11T00:00:00",
          "2018-11-18T00:00:00",
          "2018-11-25T00:00:00",
          "2018-12-02T00:00:00",
          "2018-12-09T00:00:00",
          "2018-12-16T00:00:00",
          "2018-12-23T00:00:00",
          "2018-12-30T00:00:00",
          "2019-01-06T00:00:00",
          "2019-01-13T00:00:00",
          "2019-01-20T00:00:00",
          "2019-01-27T00:00:00",
          "2019-02-03T00:00:00",
          "2019-02-10T00:00:00",
          "2019-02-17T00:00:00",
          "2019-02-24T00:00:00",
          "2019-03-03T00:00:00",
          "2019-03-10T00:00:00",
          "2019-03-17T00:00:00",
          "2019-03-24T00:00:00",
          "2019-03-31T00:00:00",
          "2019-04-07T00:00:00",
          "2019-04-14T00:00:00",
          "2019-04-21T00:00:00",
          "2019-04-28T00:00:00",
          "2019-05-05T00:00:00",
          "2019-05-12T00:00:00",
          "2019-05-19T00:00:00",
          "2019-05-26T00:00:00",
          "2019-06-02T00:00:00",
          "2019-06-09T00:00:00",
          "2019-06-16T00:00:00",
          "2019-06-23T00:00:00",
          "2019-06-30T00:00:00",
          "2019-07-07T00:00:00",
          "2019-07-14T00:00:00",
          "2019-07-21T00:00:00",
          "2019-07-28T00:00:00",
          "2019-08-04T00:00:00",
          "2019-08-11T00:00:00",
          "2019-08-18T00:00:00",
          "2019-08-25T00:00:00",
          "2019-09-01T00:00:00",
          "2019-09-08T00:00:00",
          "2019-09-15T00:00:00",
          "2019-09-22T00:00:00",
          "2019-09-29T00:00:00",
          "2019-10-06T00:00:00",
          "2019-10-13T00:00:00",
          "2019-10-20T00:00:00",
          "2019-10-27T00:00:00",
          "2019-11-03T00:00:00",
          "2019-11-10T00:00:00",
          "2019-11-17T00:00:00",
          "2019-11-24T00:00:00",
          "2019-12-01T00:00:00",
          "2019-12-08T00:00:00",
          "2019-12-15T00:00:00",
          "2019-12-22T00:00:00",
          "2019-12-29T00:00:00",
          "2020-01-05T00:00:00",
          "2020-01-12T00:00:00",
          "2020-01-19T00:00:00",
          "2020-01-26T00:00:00",
          "2020-02-02T00:00:00",
          "2020-02-09T00:00:00",
          "2020-02-16T00:00:00",
          "2020-02-23T00:00:00",
          "2020-03-01T00:00:00",
          "2020-03-08T00:00:00",
          "2020-03-15T00:00:00",
          "2020-03-22T00:00:00",
          "2020-03-29T00:00:00",
          "2020-04-05T00:00:00",
          "2020-04-12T00:00:00",
          "2020-04-19T00:00:00",
          "2020-04-26T00:00:00",
          "2020-05-03T00:00:00",
          "2020-05-10T00:00:00",
          "2020-05-17T00:00:00",
          "2020-05-24T00:00:00",
          "2020-05-31T00:00:00",
          "2020-06-07T00:00:00",
          "2020-06-14T00:00:00",
          "2020-06-21T00:00:00",
          "2020-06-28T00:00:00",
          "2020-07-05T00:00:00",
          "2020-07-12T00:00:00",
          "2020-07-19T00:00:00",
          "2020-07-26T00:00:00",
          "2020-08-02T00:00:00",
          "2020-08-09T00:00:00",
          "2020-08-16T00:00:00",
          "2020-08-23T00:00:00",
          "2020-08-30T00:00:00",
          "2020-09-06T00:00:00",
          "2020-09-13T00:00:00",
          "2020-09-20T00:00:00",
          "2020-09-27T00:00:00",
          "2020-10-04T00:00:00",
          "2020-10-11T00:00:00",
          "2020-10-18T00:00:00",
          "2020-10-25T00:00:00",
          "2020-11-01T00:00:00",
          "2020-11-08T00:00:00",
          "2020-11-15T00:00:00",
          "2020-11-22T00:00:00",
          "2020-11-29T00:00:00",
          "2020-12-06T00:00:00",
          "2020-12-13T00:00:00",
          "2020-12-20T00:00:00",
          "2020-12-27T00:00:00",
          "2021-01-03T00:00:00",
          "2021-01-10T00:00:00",
          "2021-01-17T00:00:00",
          "2021-01-24T00:00:00",
          "2021-01-31T00:00:00",
          "2021-02-07T00:00:00",
          "2021-02-14T00:00:00",
          "2021-02-21T00:00:00",
          "2021-02-28T00:00:00",
          "2021-03-07T00:00:00",
          "2021-03-14T00:00:00",
          "2021-03-21T00:00:00",
          "2021-03-28T00:00:00",
          "2021-04-04T00:00:00",
          "2021-04-11T00:00:00",
          "2021-04-18T00:00:00",
          "2021-04-25T00:00:00",
          "2021-05-02T00:00:00",
          "2021-05-09T00:00:00",
          "2021-05-16T00:00:00",
          "2021-05-23T00:00:00",
          "2021-05-30T00:00:00",
          "2021-06-06T00:00:00",
          "2021-06-13T00:00:00",
          "2021-06-20T00:00:00",
          "2021-06-27T00:00:00",
          "2021-07-04T00:00:00",
          "2021-07-11T00:00:00",
          "2021-07-18T00:00:00",
          "2021-07-25T00:00:00",
          "2021-08-01T00:00:00",
          "2021-08-08T00:00:00",
          "2021-08-15T00:00:00",
          "2021-08-22T00:00:00",
          "2021-08-29T00:00:00",
          "2021-09-05T00:00:00",
          "2021-09-12T00:00:00",
          "2021-09-19T00:00:00",
          "2021-09-26T00:00:00",
          "2021-10-03T00:00:00",
          "2021-10-10T00:00:00",
          "2021-10-17T00:00:00",
          "2021-10-24T00:00:00",
          "2021-10-31T00:00:00",
          "2021-11-07T00:00:00",
          "2021-11-14T00:00:00",
          "2021-11-21T00:00:00",
          "2021-11-28T00:00:00",
          "2021-12-05T00:00:00",
          "2021-12-12T00:00:00",
          "2021-12-19T00:00:00",
          "2021-12-26T00:00:00",
          "2022-01-02T00:00:00",
          "2022-01-09T00:00:00",
          "2022-01-16T00:00:00",
          "2022-01-23T00:00:00",
          "2022-01-30T00:00:00",
          "2022-02-06T00:00:00",
          "2022-02-13T00:00:00",
          "2022-02-20T00:00:00",
          "2022-02-27T00:00:00",
          "2022-03-06T00:00:00",
          "2022-03-13T00:00:00",
          "2022-03-20T00:00:00",
          "2022-03-27T00:00:00",
          "2022-04-03T00:00:00",
          "2022-04-10T00:00:00",
          "2022-04-17T00:00:00",
          "2022-04-24T00:00:00",
          "2022-05-01T00:00:00",
          "2022-05-08T00:00:00",
          "2022-05-15T00:00:00",
          "2022-05-22T00:00:00",
          "2022-05-29T00:00:00",
          "2022-06-05T00:00:00",
          "2022-06-12T00:00:00",
          "2022-06-19T00:00:00",
          "2022-06-26T00:00:00",
          "2022-07-03T00:00:00",
          "2022-07-10T00:00:00",
          "2022-07-17T00:00:00",
          "2022-07-24T00:00:00",
          "2022-07-31T00:00:00",
          "2022-08-07T00:00:00",
          "2022-08-14T00:00:00",
          "2022-08-21T00:00:00",
          "2022-08-28T00:00:00",
          "2022-09-04T00:00:00",
          "2022-09-11T00:00:00",
          "2022-09-18T00:00:00",
          "2022-09-25T00:00:00",
          "2022-10-02T00:00:00",
          "2022-10-09T00:00:00",
          "2022-10-16T00:00:00",
          "2022-10-23T00:00:00",
          "2022-10-30T00:00:00",
          "2022-11-06T00:00:00",
          "2022-11-13T00:00:00",
          "2022-11-20T00:00:00",
          "2022-11-27T00:00:00",
          "2022-12-04T00:00:00",
          "2022-12-11T00:00:00",
          "2022-12-18T00:00:00",
          "2022-12-25T00:00:00",
          "2023-01-01T00:00:00",
          "2023-01-08T00:00:00",
          "2023-01-15T00:00:00"
         ],
         "xaxis": "x",
         "y": [
          42,
          41,
          40,
          41,
          41,
          40,
          41,
          41,
          39,
          41,
          41,
          41,
          39,
          41,
          40,
          40,
          41,
          42,
          41,
          41,
          39,
          39,
          38,
          43,
          42,
          43,
          42,
          43,
          43,
          44,
          46,
          53,
          46,
          49,
          46,
          48,
          47,
          44,
          48,
          49,
          43,
          49,
          41,
          47,
          43,
          46,
          43,
          36,
          42,
          50,
          53,
          49,
          50,
          49,
          50,
          52,
          52,
          51,
          52,
          51,
          57,
          54,
          54,
          50,
          52,
          49,
          52,
          52,
          54,
          53,
          55,
          57,
          56,
          48,
          52,
          54,
          55,
          60,
          63,
          58,
          58,
          60,
          61,
          60,
          63,
          63,
          61,
          55,
          53,
          62,
          58,
          55,
          61,
          61,
          59,
          56,
          58,
          55,
          55,
          47,
          53,
          63,
          59,
          62,
          64,
          61,
          65,
          69,
          67,
          60,
          57,
          50,
          47,
          52,
          55,
          58,
          61,
          58,
          53,
          55,
          55,
          55,
          57,
          61,
          59,
          57,
          57,
          62,
          66,
          62,
          59,
          58,
          62,
          63,
          66,
          65,
          68,
          67,
          67,
          59,
          66,
          59,
          58,
          50,
          58,
          52,
          54,
          49,
          46,
          53,
          50,
          47,
          46,
          55,
          53,
          52,
          54,
          54,
          56,
          53,
          56,
          53,
          54,
          52,
          60,
          52,
          55,
          54,
          52,
          53,
          51,
          55,
          57,
          54,
          57,
          55,
          55,
          54,
          53,
          53,
          58,
          56,
          54,
          53,
          65,
          57,
          63,
          55,
          58,
          60,
          64,
          57,
          58,
          58,
          63,
          60,
          52,
          57,
          63,
          59,
          58,
          54,
          59,
          55,
          54,
          69,
          72,
          71,
          81,
          78,
          80,
          89,
          87,
          83,
          86,
          88,
          89,
          89,
          93,
          85,
          89,
          93,
          86,
          92,
          87,
          87,
          78,
          84,
          84,
          90,
          85,
          88,
          87,
          85,
          84,
          94,
          89,
          88,
          92,
          95,
          92,
          100,
          97,
          95,
          85,
          95,
          86,
          80,
          90,
          88,
          87,
          75,
          81,
          87,
          77,
          72,
          66,
          83,
          84,
          84
         ],
         "yaxis": "y"
        }
       ],
       "layout": {
        "legend": {
         "tracegroupgap": 0
        },
        "margin": {
         "t": 60
        },
        "template": {
         "data": {
          "bar": [
           {
            "error_x": {
             "color": "#2a3f5f"
            },
            "error_y": {
             "color": "#2a3f5f"
            },
            "marker": {
             "line": {
              "color": "#E5ECF6",
              "width": 0.5
             },
             "pattern": {
              "fillmode": "overlay",
              "size": 10,
              "solidity": 0.2
             }
            },
            "type": "bar"
           }
          ],
          "barpolar": [
           {
            "marker": {
             "line": {
              "color": "#E5ECF6",
              "width": 0.5
             },
             "pattern": {
              "fillmode": "overlay",
              "size": 10,
              "solidity": 0.2
             }
            },
            "type": "barpolar"
           }
          ],
          "carpet": [
           {
            "aaxis": {
             "endlinecolor": "#2a3f5f",
             "gridcolor": "white",
             "linecolor": "white",
             "minorgridcolor": "white",
             "startlinecolor": "#2a3f5f"
            },
            "baxis": {
             "endlinecolor": "#2a3f5f",
             "gridcolor": "white",
             "linecolor": "white",
             "minorgridcolor": "white",
             "startlinecolor": "#2a3f5f"
            },
            "type": "carpet"
           }
          ],
          "choropleth": [
           {
            "colorbar": {
             "outlinewidth": 0,
             "ticks": ""
            },
            "type": "choropleth"
           }
          ],
          "contour": [
           {
            "colorbar": {
             "outlinewidth": 0,
             "ticks": ""
            },
            "colorscale": [
             [
              0,
              "#0d0887"
             ],
             [
              0.1111111111111111,
              "#46039f"
             ],
             [
              0.2222222222222222,
              "#7201a8"
             ],
             [
              0.3333333333333333,
              "#9c179e"
             ],
             [
              0.4444444444444444,
              "#bd3786"
             ],
             [
              0.5555555555555556,
              "#d8576b"
             ],
             [
              0.6666666666666666,
              "#ed7953"
             ],
             [
              0.7777777777777778,
              "#fb9f3a"
             ],
             [
              0.8888888888888888,
              "#fdca26"
             ],
             [
              1,
              "#f0f921"
             ]
            ],
            "type": "contour"
           }
          ],
          "contourcarpet": [
           {
            "colorbar": {
             "outlinewidth": 0,
             "ticks": ""
            },
            "type": "contourcarpet"
           }
          ],
          "heatmap": [
           {
            "colorbar": {
             "outlinewidth": 0,
             "ticks": ""
            },
            "colorscale": [
             [
              0,
              "#0d0887"
             ],
             [
              0.1111111111111111,
              "#46039f"
             ],
             [
              0.2222222222222222,
              "#7201a8"
             ],
             [
              0.3333333333333333,
              "#9c179e"
             ],
             [
              0.4444444444444444,
              "#bd3786"
             ],
             [
              0.5555555555555556,
              "#d8576b"
             ],
             [
              0.6666666666666666,
              "#ed7953"
             ],
             [
              0.7777777777777778,
              "#fb9f3a"
             ],
             [
              0.8888888888888888,
              "#fdca26"
             ],
             [
              1,
              "#f0f921"
             ]
            ],
            "type": "heatmap"
           }
          ],
          "heatmapgl": [
           {
            "colorbar": {
             "outlinewidth": 0,
             "ticks": ""
            },
            "colorscale": [
             [
              0,
              "#0d0887"
             ],
             [
              0.1111111111111111,
              "#46039f"
             ],
             [
              0.2222222222222222,
              "#7201a8"
             ],
             [
              0.3333333333333333,
              "#9c179e"
             ],
             [
              0.4444444444444444,
              "#bd3786"
             ],
             [
              0.5555555555555556,
              "#d8576b"
             ],
             [
              0.6666666666666666,
              "#ed7953"
             ],
             [
              0.7777777777777778,
              "#fb9f3a"
             ],
             [
              0.8888888888888888,
              "#fdca26"
             ],
             [
              1,
              "#f0f921"
             ]
            ],
            "type": "heatmapgl"
           }
          ],
          "histogram": [
           {
            "marker": {
             "pattern": {
              "fillmode": "overlay",
              "size": 10,
              "solidity": 0.2
             }
            },
            "type": "histogram"
           }
          ],
          "histogram2d": [
           {
            "colorbar": {
             "outlinewidth": 0,
             "ticks": ""
            },
            "colorscale": [
             [
              0,
              "#0d0887"
             ],
             [
              0.1111111111111111,
              "#46039f"
             ],
             [
              0.2222222222222222,
              "#7201a8"
             ],
             [
              0.3333333333333333,
              "#9c179e"
             ],
             [
              0.4444444444444444,
              "#bd3786"
             ],
             [
              0.5555555555555556,
              "#d8576b"
             ],
             [
              0.6666666666666666,
              "#ed7953"
             ],
             [
              0.7777777777777778,
              "#fb9f3a"
             ],
             [
              0.8888888888888888,
              "#fdca26"
             ],
             [
              1,
              "#f0f921"
             ]
            ],
            "type": "histogram2d"
           }
          ],
          "histogram2dcontour": [
           {
            "colorbar": {
             "outlinewidth": 0,
             "ticks": ""
            },
            "colorscale": [
             [
              0,
              "#0d0887"
             ],
             [
              0.1111111111111111,
              "#46039f"
             ],
             [
              0.2222222222222222,
              "#7201a8"
             ],
             [
              0.3333333333333333,
              "#9c179e"
             ],
             [
              0.4444444444444444,
              "#bd3786"
             ],
             [
              0.5555555555555556,
              "#d8576b"
             ],
             [
              0.6666666666666666,
              "#ed7953"
             ],
             [
              0.7777777777777778,
              "#fb9f3a"
             ],
             [
              0.8888888888888888,
              "#fdca26"
             ],
             [
              1,
              "#f0f921"
             ]
            ],
            "type": "histogram2dcontour"
           }
          ],
          "mesh3d": [
           {
            "colorbar": {
             "outlinewidth": 0,
             "ticks": ""
            },
            "type": "mesh3d"
           }
          ],
          "parcoords": [
           {
            "line": {
             "colorbar": {
              "outlinewidth": 0,
              "ticks": ""
             }
            },
            "type": "parcoords"
           }
          ],
          "pie": [
           {
            "automargin": true,
            "type": "pie"
           }
          ],
          "scatter": [
           {
            "fillpattern": {
             "fillmode": "overlay",
             "size": 10,
             "solidity": 0.2
            },
            "type": "scatter"
           }
          ],
          "scatter3d": [
           {
            "line": {
             "colorbar": {
              "outlinewidth": 0,
              "ticks": ""
             }
            },
            "marker": {
             "colorbar": {
              "outlinewidth": 0,
              "ticks": ""
             }
            },
            "type": "scatter3d"
           }
          ],
          "scattercarpet": [
           {
            "marker": {
             "colorbar": {
              "outlinewidth": 0,
              "ticks": ""
             }
            },
            "type": "scattercarpet"
           }
          ],
          "scattergeo": [
           {
            "marker": {
             "colorbar": {
              "outlinewidth": 0,
              "ticks": ""
             }
            },
            "type": "scattergeo"
           }
          ],
          "scattergl": [
           {
            "marker": {
             "colorbar": {
              "outlinewidth": 0,
              "ticks": ""
             }
            },
            "type": "scattergl"
           }
          ],
          "scattermapbox": [
           {
            "marker": {
             "colorbar": {
              "outlinewidth": 0,
              "ticks": ""
             }
            },
            "type": "scattermapbox"
           }
          ],
          "scatterpolar": [
           {
            "marker": {
             "colorbar": {
              "outlinewidth": 0,
              "ticks": ""
             }
            },
            "type": "scatterpolar"
           }
          ],
          "scatterpolargl": [
           {
            "marker": {
             "colorbar": {
              "outlinewidth": 0,
              "ticks": ""
             }
            },
            "type": "scatterpolargl"
           }
          ],
          "scatterternary": [
           {
            "marker": {
             "colorbar": {
              "outlinewidth": 0,
              "ticks": ""
             }
            },
            "type": "scatterternary"
           }
          ],
          "surface": [
           {
            "colorbar": {
             "outlinewidth": 0,
             "ticks": ""
            },
            "colorscale": [
             [
              0,
              "#0d0887"
             ],
             [
              0.1111111111111111,
              "#46039f"
             ],
             [
              0.2222222222222222,
              "#7201a8"
             ],
             [
              0.3333333333333333,
              "#9c179e"
             ],
             [
              0.4444444444444444,
              "#bd3786"
             ],
             [
              0.5555555555555556,
              "#d8576b"
             ],
             [
              0.6666666666666666,
              "#ed7953"
             ],
             [
              0.7777777777777778,
              "#fb9f3a"
             ],
             [
              0.8888888888888888,
              "#fdca26"
             ],
             [
              1,
              "#f0f921"
             ]
            ],
            "type": "surface"
           }
          ],
          "table": [
           {
            "cells": {
             "fill": {
              "color": "#EBF0F8"
             },
             "line": {
              "color": "white"
             }
            },
            "header": {
             "fill": {
              "color": "#C8D4E3"
             },
             "line": {
              "color": "white"
             }
            },
            "type": "table"
           }
          ]
         },
         "layout": {
          "annotationdefaults": {
           "arrowcolor": "#2a3f5f",
           "arrowhead": 0,
           "arrowwidth": 1
          },
          "autotypenumbers": "strict",
          "coloraxis": {
           "colorbar": {
            "outlinewidth": 0,
            "ticks": ""
           }
          },
          "colorscale": {
           "diverging": [
            [
             0,
             "#8e0152"
            ],
            [
             0.1,
             "#c51b7d"
            ],
            [
             0.2,
             "#de77ae"
            ],
            [
             0.3,
             "#f1b6da"
            ],
            [
             0.4,
             "#fde0ef"
            ],
            [
             0.5,
             "#f7f7f7"
            ],
            [
             0.6,
             "#e6f5d0"
            ],
            [
             0.7,
             "#b8e186"
            ],
            [
             0.8,
             "#7fbc41"
            ],
            [
             0.9,
             "#4d9221"
            ],
            [
             1,
             "#276419"
            ]
           ],
           "sequential": [
            [
             0,
             "#0d0887"
            ],
            [
             0.1111111111111111,
             "#46039f"
            ],
            [
             0.2222222222222222,
             "#7201a8"
            ],
            [
             0.3333333333333333,
             "#9c179e"
            ],
            [
             0.4444444444444444,
             "#bd3786"
            ],
            [
             0.5555555555555556,
             "#d8576b"
            ],
            [
             0.6666666666666666,
             "#ed7953"
            ],
            [
             0.7777777777777778,
             "#fb9f3a"
            ],
            [
             0.8888888888888888,
             "#fdca26"
            ],
            [
             1,
             "#f0f921"
            ]
           ],
           "sequentialminus": [
            [
             0,
             "#0d0887"
            ],
            [
             0.1111111111111111,
             "#46039f"
            ],
            [
             0.2222222222222222,
             "#7201a8"
            ],
            [
             0.3333333333333333,
             "#9c179e"
            ],
            [
             0.4444444444444444,
             "#bd3786"
            ],
            [
             0.5555555555555556,
             "#d8576b"
            ],
            [
             0.6666666666666666,
             "#ed7953"
            ],
            [
             0.7777777777777778,
             "#fb9f3a"
            ],
            [
             0.8888888888888888,
             "#fdca26"
            ],
            [
             1,
             "#f0f921"
            ]
           ]
          },
          "colorway": [
           "#636efa",
           "#EF553B",
           "#00cc96",
           "#ab63fa",
           "#FFA15A",
           "#19d3f3",
           "#FF6692",
           "#B6E880",
           "#FF97FF",
           "#FECB52"
          ],
          "font": {
           "color": "#2a3f5f"
          },
          "geo": {
           "bgcolor": "white",
           "lakecolor": "white",
           "landcolor": "#E5ECF6",
           "showlakes": true,
           "showland": true,
           "subunitcolor": "white"
          },
          "hoverlabel": {
           "align": "left"
          },
          "hovermode": "closest",
          "mapbox": {
           "style": "light"
          },
          "paper_bgcolor": "white",
          "plot_bgcolor": "#E5ECF6",
          "polar": {
           "angularaxis": {
            "gridcolor": "white",
            "linecolor": "white",
            "ticks": ""
           },
           "bgcolor": "#E5ECF6",
           "radialaxis": {
            "gridcolor": "white",
            "linecolor": "white",
            "ticks": ""
           }
          },
          "scene": {
           "xaxis": {
            "backgroundcolor": "#E5ECF6",
            "gridcolor": "white",
            "gridwidth": 2,
            "linecolor": "white",
            "showbackground": true,
            "ticks": "",
            "zerolinecolor": "white"
           },
           "yaxis": {
            "backgroundcolor": "#E5ECF6",
            "gridcolor": "white",
            "gridwidth": 2,
            "linecolor": "white",
            "showbackground": true,
            "ticks": "",
            "zerolinecolor": "white"
           },
           "zaxis": {
            "backgroundcolor": "#E5ECF6",
            "gridcolor": "white",
            "gridwidth": 2,
            "linecolor": "white",
            "showbackground": true,
            "ticks": "",
            "zerolinecolor": "white"
           }
          },
          "shapedefaults": {
           "line": {
            "color": "#2a3f5f"
           }
          },
          "ternary": {
           "aaxis": {
            "gridcolor": "white",
            "linecolor": "white",
            "ticks": ""
           },
           "baxis": {
            "gridcolor": "white",
            "linecolor": "white",
            "ticks": ""
           },
           "bgcolor": "#E5ECF6",
           "caxis": {
            "gridcolor": "white",
            "linecolor": "white",
            "ticks": ""
           }
          },
          "title": {
           "x": 0.05
          },
          "xaxis": {
           "automargin": true,
           "gridcolor": "white",
           "linecolor": "white",
           "ticks": "",
           "title": {
            "standoff": 15
           },
           "zerolinecolor": "white",
           "zerolinewidth": 2
          },
          "yaxis": {
           "automargin": true,
           "gridcolor": "white",
           "linecolor": "white",
           "ticks": "",
           "title": {
            "standoff": 15
           },
           "zerolinecolor": "white",
           "zerolinewidth": 2
          }
         }
        },
        "xaxis": {
         "anchor": "y",
         "domain": [
          0,
          1
         ],
         "title": {
          "text": "date"
         }
        },
        "yaxis": {
         "anchor": "x",
         "domain": [
          0,
          1
         ],
         "title": {
          "text": "Data Science"
         }
        }
       }
      }
     },
     "metadata": {},
     "output_type": "display_data"
    }
   ],
   "source": [
    "import plotly.express as px\n",
    "import pandas as pd\n",
    "\n",
    "data2.index = pd.to_datetime(data2.index)\n",
    "fig = px.line(data2, x=data2.index, y='Data Science', labels={'y':'Jumlah','index':'Tanggal'})\n",
    "fig.show()"
   ]
  },
  {
   "attachments": {},
   "cell_type": "markdown",
   "metadata": {},
   "source": [
    "### Indonesia"
   ]
  },
  {
   "cell_type": "code",
   "execution_count": 26,
   "metadata": {},
   "outputs": [],
   "source": [
    "from pytrends.request import TrendReq\n",
    "pytrends = TrendReq(hl='en-US', tz=360)"
   ]
  },
  {
   "cell_type": "code",
   "execution_count": 34,
   "metadata": {},
   "outputs": [],
   "source": [
    "kw_list = ['Data Science', 'Machine Learning', 'Artificial Intelligence']\n",
    "\n",
    "pytrends.build_payload(kw_list, cat=0, timeframe='today 5-y', geo='ID', gprop='')\n",
    "#cat=0 maksutnya tidak ada kategori khusus, baik news, gambar, shoping, video etc\n",
    "#today 5-y = 5 tahun terakhir"
   ]
  },
  {
   "cell_type": "code",
   "execution_count": 35,
   "metadata": {},
   "outputs": [],
   "source": [
    "dataInd = pytrends.interest_over_time()"
   ]
  },
  {
   "cell_type": "code",
   "execution_count": 36,
   "metadata": {},
   "outputs": [
    {
     "data": {
      "text/html": [
       "<div>\n",
       "<style scoped>\n",
       "    .dataframe tbody tr th:only-of-type {\n",
       "        vertical-align: middle;\n",
       "    }\n",
       "\n",
       "    .dataframe tbody tr th {\n",
       "        vertical-align: top;\n",
       "    }\n",
       "\n",
       "    .dataframe thead th {\n",
       "        text-align: right;\n",
       "    }\n",
       "</style>\n",
       "<table border=\"1\" class=\"dataframe\">\n",
       "  <thead>\n",
       "    <tr style=\"text-align: right;\">\n",
       "      <th></th>\n",
       "      <th>Data Science</th>\n",
       "      <th>Machine Learning</th>\n",
       "      <th>Artificial Intelligence</th>\n",
       "      <th>isPartial</th>\n",
       "    </tr>\n",
       "    <tr>\n",
       "      <th>date</th>\n",
       "      <th></th>\n",
       "      <th></th>\n",
       "      <th></th>\n",
       "      <th></th>\n",
       "    </tr>\n",
       "  </thead>\n",
       "  <tbody>\n",
       "    <tr>\n",
       "      <th>2018-01-28</th>\n",
       "      <td>7</td>\n",
       "      <td>20</td>\n",
       "      <td>27</td>\n",
       "      <td>False</td>\n",
       "    </tr>\n",
       "    <tr>\n",
       "      <th>2018-02-04</th>\n",
       "      <td>5</td>\n",
       "      <td>18</td>\n",
       "      <td>9</td>\n",
       "      <td>False</td>\n",
       "    </tr>\n",
       "    <tr>\n",
       "      <th>2018-02-11</th>\n",
       "      <td>9</td>\n",
       "      <td>18</td>\n",
       "      <td>20</td>\n",
       "      <td>False</td>\n",
       "    </tr>\n",
       "    <tr>\n",
       "      <th>2018-02-18</th>\n",
       "      <td>17</td>\n",
       "      <td>15</td>\n",
       "      <td>19</td>\n",
       "      <td>False</td>\n",
       "    </tr>\n",
       "    <tr>\n",
       "      <th>2018-02-25</th>\n",
       "      <td>17</td>\n",
       "      <td>20</td>\n",
       "      <td>16</td>\n",
       "      <td>False</td>\n",
       "    </tr>\n",
       "    <tr>\n",
       "      <th>...</th>\n",
       "      <td>...</td>\n",
       "      <td>...</td>\n",
       "      <td>...</td>\n",
       "      <td>...</td>\n",
       "    </tr>\n",
       "    <tr>\n",
       "      <th>2022-12-18</th>\n",
       "      <td>45</td>\n",
       "      <td>75</td>\n",
       "      <td>60</td>\n",
       "      <td>False</td>\n",
       "    </tr>\n",
       "    <tr>\n",
       "      <th>2022-12-25</th>\n",
       "      <td>43</td>\n",
       "      <td>54</td>\n",
       "      <td>40</td>\n",
       "      <td>False</td>\n",
       "    </tr>\n",
       "    <tr>\n",
       "      <th>2023-01-01</th>\n",
       "      <td>57</td>\n",
       "      <td>69</td>\n",
       "      <td>47</td>\n",
       "      <td>False</td>\n",
       "    </tr>\n",
       "    <tr>\n",
       "      <th>2023-01-08</th>\n",
       "      <td>49</td>\n",
       "      <td>58</td>\n",
       "      <td>59</td>\n",
       "      <td>False</td>\n",
       "    </tr>\n",
       "    <tr>\n",
       "      <th>2023-01-15</th>\n",
       "      <td>54</td>\n",
       "      <td>62</td>\n",
       "      <td>61</td>\n",
       "      <td>True</td>\n",
       "    </tr>\n",
       "  </tbody>\n",
       "</table>\n",
       "<p>260 rows × 4 columns</p>\n",
       "</div>"
      ],
      "text/plain": [
       "            Data Science  Machine Learning  Artificial Intelligence  isPartial\n",
       "date                                                                          \n",
       "2018-01-28             7                20                       27      False\n",
       "2018-02-04             5                18                        9      False\n",
       "2018-02-11             9                18                       20      False\n",
       "2018-02-18            17                15                       19      False\n",
       "2018-02-25            17                20                       16      False\n",
       "...                  ...               ...                      ...        ...\n",
       "2022-12-18            45                75                       60      False\n",
       "2022-12-25            43                54                       40      False\n",
       "2023-01-01            57                69                       47      False\n",
       "2023-01-08            49                58                       59      False\n",
       "2023-01-15            54                62                       61       True\n",
       "\n",
       "[260 rows x 4 columns]"
      ]
     },
     "execution_count": 36,
     "metadata": {},
     "output_type": "execute_result"
    }
   ],
   "source": [
    "dataInd"
   ]
  },
  {
   "cell_type": "code",
   "execution_count": 38,
   "metadata": {},
   "outputs": [
    {
     "data": {
      "application/vnd.plotly.v1+json": {
       "config": {
        "plotlyServerURL": "https://plot.ly"
       },
       "data": [
        {
         "hovertemplate": "date=%{x}<br>Data Science=%{y}<extra></extra>",
         "legendgroup": "",
         "line": {
          "color": "#636efa",
          "dash": "solid"
         },
         "marker": {
          "symbol": "circle"
         },
         "mode": "lines",
         "name": "",
         "orientation": "v",
         "showlegend": false,
         "type": "scatter",
         "x": [
          "2018-01-28T00:00:00",
          "2018-02-04T00:00:00",
          "2018-02-11T00:00:00",
          "2018-02-18T00:00:00",
          "2018-02-25T00:00:00",
          "2018-03-04T00:00:00",
          "2018-03-11T00:00:00",
          "2018-03-18T00:00:00",
          "2018-03-25T00:00:00",
          "2018-04-01T00:00:00",
          "2018-04-08T00:00:00",
          "2018-04-15T00:00:00",
          "2018-04-22T00:00:00",
          "2018-04-29T00:00:00",
          "2018-05-06T00:00:00",
          "2018-05-13T00:00:00",
          "2018-05-20T00:00:00",
          "2018-05-27T00:00:00",
          "2018-06-03T00:00:00",
          "2018-06-10T00:00:00",
          "2018-06-17T00:00:00",
          "2018-06-24T00:00:00",
          "2018-07-01T00:00:00",
          "2018-07-08T00:00:00",
          "2018-07-15T00:00:00",
          "2018-07-22T00:00:00",
          "2018-07-29T00:00:00",
          "2018-08-05T00:00:00",
          "2018-08-12T00:00:00",
          "2018-08-19T00:00:00",
          "2018-08-26T00:00:00",
          "2018-09-02T00:00:00",
          "2018-09-09T00:00:00",
          "2018-09-16T00:00:00",
          "2018-09-23T00:00:00",
          "2018-09-30T00:00:00",
          "2018-10-07T00:00:00",
          "2018-10-14T00:00:00",
          "2018-10-21T00:00:00",
          "2018-10-28T00:00:00",
          "2018-11-04T00:00:00",
          "2018-11-11T00:00:00",
          "2018-11-18T00:00:00",
          "2018-11-25T00:00:00",
          "2018-12-02T00:00:00",
          "2018-12-09T00:00:00",
          "2018-12-16T00:00:00",
          "2018-12-23T00:00:00",
          "2018-12-30T00:00:00",
          "2019-01-06T00:00:00",
          "2019-01-13T00:00:00",
          "2019-01-20T00:00:00",
          "2019-01-27T00:00:00",
          "2019-02-03T00:00:00",
          "2019-02-10T00:00:00",
          "2019-02-17T00:00:00",
          "2019-02-24T00:00:00",
          "2019-03-03T00:00:00",
          "2019-03-10T00:00:00",
          "2019-03-17T00:00:00",
          "2019-03-24T00:00:00",
          "2019-03-31T00:00:00",
          "2019-04-07T00:00:00",
          "2019-04-14T00:00:00",
          "2019-04-21T00:00:00",
          "2019-04-28T00:00:00",
          "2019-05-05T00:00:00",
          "2019-05-12T00:00:00",
          "2019-05-19T00:00:00",
          "2019-05-26T00:00:00",
          "2019-06-02T00:00:00",
          "2019-06-09T00:00:00",
          "2019-06-16T00:00:00",
          "2019-06-23T00:00:00",
          "2019-06-30T00:00:00",
          "2019-07-07T00:00:00",
          "2019-07-14T00:00:00",
          "2019-07-21T00:00:00",
          "2019-07-28T00:00:00",
          "2019-08-04T00:00:00",
          "2019-08-11T00:00:00",
          "2019-08-18T00:00:00",
          "2019-08-25T00:00:00",
          "2019-09-01T00:00:00",
          "2019-09-08T00:00:00",
          "2019-09-15T00:00:00",
          "2019-09-22T00:00:00",
          "2019-09-29T00:00:00",
          "2019-10-06T00:00:00",
          "2019-10-13T00:00:00",
          "2019-10-20T00:00:00",
          "2019-10-27T00:00:00",
          "2019-11-03T00:00:00",
          "2019-11-10T00:00:00",
          "2019-11-17T00:00:00",
          "2019-11-24T00:00:00",
          "2019-12-01T00:00:00",
          "2019-12-08T00:00:00",
          "2019-12-15T00:00:00",
          "2019-12-22T00:00:00",
          "2019-12-29T00:00:00",
          "2020-01-05T00:00:00",
          "2020-01-12T00:00:00",
          "2020-01-19T00:00:00",
          "2020-01-26T00:00:00",
          "2020-02-02T00:00:00",
          "2020-02-09T00:00:00",
          "2020-02-16T00:00:00",
          "2020-02-23T00:00:00",
          "2020-03-01T00:00:00",
          "2020-03-08T00:00:00",
          "2020-03-15T00:00:00",
          "2020-03-22T00:00:00",
          "2020-03-29T00:00:00",
          "2020-04-05T00:00:00",
          "2020-04-12T00:00:00",
          "2020-04-19T00:00:00",
          "2020-04-26T00:00:00",
          "2020-05-03T00:00:00",
          "2020-05-10T00:00:00",
          "2020-05-17T00:00:00",
          "2020-05-24T00:00:00",
          "2020-05-31T00:00:00",
          "2020-06-07T00:00:00",
          "2020-06-14T00:00:00",
          "2020-06-21T00:00:00",
          "2020-06-28T00:00:00",
          "2020-07-05T00:00:00",
          "2020-07-12T00:00:00",
          "2020-07-19T00:00:00",
          "2020-07-26T00:00:00",
          "2020-08-02T00:00:00",
          "2020-08-09T00:00:00",
          "2020-08-16T00:00:00",
          "2020-08-23T00:00:00",
          "2020-08-30T00:00:00",
          "2020-09-06T00:00:00",
          "2020-09-13T00:00:00",
          "2020-09-20T00:00:00",
          "2020-09-27T00:00:00",
          "2020-10-04T00:00:00",
          "2020-10-11T00:00:00",
          "2020-10-18T00:00:00",
          "2020-10-25T00:00:00",
          "2020-11-01T00:00:00",
          "2020-11-08T00:00:00",
          "2020-11-15T00:00:00",
          "2020-11-22T00:00:00",
          "2020-11-29T00:00:00",
          "2020-12-06T00:00:00",
          "2020-12-13T00:00:00",
          "2020-12-20T00:00:00",
          "2020-12-27T00:00:00",
          "2021-01-03T00:00:00",
          "2021-01-10T00:00:00",
          "2021-01-17T00:00:00",
          "2021-01-24T00:00:00",
          "2021-01-31T00:00:00",
          "2021-02-07T00:00:00",
          "2021-02-14T00:00:00",
          "2021-02-21T00:00:00",
          "2021-02-28T00:00:00",
          "2021-03-07T00:00:00",
          "2021-03-14T00:00:00",
          "2021-03-21T00:00:00",
          "2021-03-28T00:00:00",
          "2021-04-04T00:00:00",
          "2021-04-11T00:00:00",
          "2021-04-18T00:00:00",
          "2021-04-25T00:00:00",
          "2021-05-02T00:00:00",
          "2021-05-09T00:00:00",
          "2021-05-16T00:00:00",
          "2021-05-23T00:00:00",
          "2021-05-30T00:00:00",
          "2021-06-06T00:00:00",
          "2021-06-13T00:00:00",
          "2021-06-20T00:00:00",
          "2021-06-27T00:00:00",
          "2021-07-04T00:00:00",
          "2021-07-11T00:00:00",
          "2021-07-18T00:00:00",
          "2021-07-25T00:00:00",
          "2021-08-01T00:00:00",
          "2021-08-08T00:00:00",
          "2021-08-15T00:00:00",
          "2021-08-22T00:00:00",
          "2021-08-29T00:00:00",
          "2021-09-05T00:00:00",
          "2021-09-12T00:00:00",
          "2021-09-19T00:00:00",
          "2021-09-26T00:00:00",
          "2021-10-03T00:00:00",
          "2021-10-10T00:00:00",
          "2021-10-17T00:00:00",
          "2021-10-24T00:00:00",
          "2021-10-31T00:00:00",
          "2021-11-07T00:00:00",
          "2021-11-14T00:00:00",
          "2021-11-21T00:00:00",
          "2021-11-28T00:00:00",
          "2021-12-05T00:00:00",
          "2021-12-12T00:00:00",
          "2021-12-19T00:00:00",
          "2021-12-26T00:00:00",
          "2022-01-02T00:00:00",
          "2022-01-09T00:00:00",
          "2022-01-16T00:00:00",
          "2022-01-23T00:00:00",
          "2022-01-30T00:00:00",
          "2022-02-06T00:00:00",
          "2022-02-13T00:00:00",
          "2022-02-20T00:00:00",
          "2022-02-27T00:00:00",
          "2022-03-06T00:00:00",
          "2022-03-13T00:00:00",
          "2022-03-20T00:00:00",
          "2022-03-27T00:00:00",
          "2022-04-03T00:00:00",
          "2022-04-10T00:00:00",
          "2022-04-17T00:00:00",
          "2022-04-24T00:00:00",
          "2022-05-01T00:00:00",
          "2022-05-08T00:00:00",
          "2022-05-15T00:00:00",
          "2022-05-22T00:00:00",
          "2022-05-29T00:00:00",
          "2022-06-05T00:00:00",
          "2022-06-12T00:00:00",
          "2022-06-19T00:00:00",
          "2022-06-26T00:00:00",
          "2022-07-03T00:00:00",
          "2022-07-10T00:00:00",
          "2022-07-17T00:00:00",
          "2022-07-24T00:00:00",
          "2022-07-31T00:00:00",
          "2022-08-07T00:00:00",
          "2022-08-14T00:00:00",
          "2022-08-21T00:00:00",
          "2022-08-28T00:00:00",
          "2022-09-04T00:00:00",
          "2022-09-11T00:00:00",
          "2022-09-18T00:00:00",
          "2022-09-25T00:00:00",
          "2022-10-02T00:00:00",
          "2022-10-09T00:00:00",
          "2022-10-16T00:00:00",
          "2022-10-23T00:00:00",
          "2022-10-30T00:00:00",
          "2022-11-06T00:00:00",
          "2022-11-13T00:00:00",
          "2022-11-20T00:00:00",
          "2022-11-27T00:00:00",
          "2022-12-04T00:00:00",
          "2022-12-11T00:00:00",
          "2022-12-18T00:00:00",
          "2022-12-25T00:00:00",
          "2023-01-01T00:00:00",
          "2023-01-08T00:00:00",
          "2023-01-15T00:00:00"
         ],
         "xaxis": "x",
         "y": [
          7,
          5,
          9,
          17,
          17,
          13,
          14,
          7,
          23,
          13,
          12,
          17,
          30,
          13,
          18,
          9,
          9,
          12,
          18,
          17,
          0,
          24,
          7,
          14,
          11,
          10,
          16,
          16,
          13,
          19,
          18,
          18,
          11,
          23,
          28,
          21,
          17,
          27,
          14,
          25,
          18,
          25,
          27,
          35,
          34,
          34,
          27,
          20,
          16,
          18,
          36,
          30,
          25,
          19,
          23,
          24,
          25,
          32,
          38,
          27,
          30,
          38,
          31,
          8,
          25,
          33,
          35,
          21,
          31,
          25,
          18,
          35,
          29,
          22,
          23,
          35,
          42,
          42,
          44,
          47,
          38,
          48,
          28,
          35,
          33,
          53,
          42,
          52,
          47,
          39,
          35,
          46,
          61,
          37,
          44,
          37,
          41,
          42,
          52,
          47,
          42,
          39,
          52,
          37,
          47,
          38,
          53,
          63,
          56,
          44,
          50,
          49,
          30,
          56,
          44,
          40,
          44,
          37,
          40,
          53,
          44,
          49,
          54,
          37,
          41,
          60,
          44,
          53,
          45,
          39,
          35,
          53,
          38,
          50,
          49,
          44,
          47,
          44,
          38,
          32,
          34,
          47,
          34,
          45,
          41,
          30,
          47,
          41,
          39,
          38,
          36,
          38,
          45,
          27,
          42,
          41,
          59,
          49,
          39,
          48,
          39,
          52,
          49,
          41,
          56,
          47,
          44,
          40,
          36,
          34,
          49,
          39,
          33,
          37,
          51,
          40,
          42,
          39,
          44,
          41,
          49,
          39,
          40,
          49,
          42,
          47,
          37,
          39,
          36,
          46,
          51,
          55,
          52,
          34,
          43,
          34,
          46,
          61,
          64,
          63,
          43,
          48,
          38,
          40,
          32,
          64,
          56,
          49,
          71,
          53,
          59,
          66,
          64,
          64,
          62,
          55,
          55,
          60,
          76,
          69,
          82,
          48,
          37,
          51,
          59,
          64,
          59,
          64,
          64,
          63,
          72,
          55,
          68,
          52,
          65,
          65,
          51,
          52,
          68,
          69,
          61,
          59,
          56,
          58,
          47,
          51,
          76,
          55,
          54,
          61,
          52,
          39,
          38,
          46,
          47,
          45,
          43,
          57,
          49,
          54
         ],
         "yaxis": "y"
        }
       ],
       "layout": {
        "legend": {
         "tracegroupgap": 0
        },
        "margin": {
         "t": 60
        },
        "template": {
         "data": {
          "bar": [
           {
            "error_x": {
             "color": "#2a3f5f"
            },
            "error_y": {
             "color": "#2a3f5f"
            },
            "marker": {
             "line": {
              "color": "#E5ECF6",
              "width": 0.5
             },
             "pattern": {
              "fillmode": "overlay",
              "size": 10,
              "solidity": 0.2
             }
            },
            "type": "bar"
           }
          ],
          "barpolar": [
           {
            "marker": {
             "line": {
              "color": "#E5ECF6",
              "width": 0.5
             },
             "pattern": {
              "fillmode": "overlay",
              "size": 10,
              "solidity": 0.2
             }
            },
            "type": "barpolar"
           }
          ],
          "carpet": [
           {
            "aaxis": {
             "endlinecolor": "#2a3f5f",
             "gridcolor": "white",
             "linecolor": "white",
             "minorgridcolor": "white",
             "startlinecolor": "#2a3f5f"
            },
            "baxis": {
             "endlinecolor": "#2a3f5f",
             "gridcolor": "white",
             "linecolor": "white",
             "minorgridcolor": "white",
             "startlinecolor": "#2a3f5f"
            },
            "type": "carpet"
           }
          ],
          "choropleth": [
           {
            "colorbar": {
             "outlinewidth": 0,
             "ticks": ""
            },
            "type": "choropleth"
           }
          ],
          "contour": [
           {
            "colorbar": {
             "outlinewidth": 0,
             "ticks": ""
            },
            "colorscale": [
             [
              0,
              "#0d0887"
             ],
             [
              0.1111111111111111,
              "#46039f"
             ],
             [
              0.2222222222222222,
              "#7201a8"
             ],
             [
              0.3333333333333333,
              "#9c179e"
             ],
             [
              0.4444444444444444,
              "#bd3786"
             ],
             [
              0.5555555555555556,
              "#d8576b"
             ],
             [
              0.6666666666666666,
              "#ed7953"
             ],
             [
              0.7777777777777778,
              "#fb9f3a"
             ],
             [
              0.8888888888888888,
              "#fdca26"
             ],
             [
              1,
              "#f0f921"
             ]
            ],
            "type": "contour"
           }
          ],
          "contourcarpet": [
           {
            "colorbar": {
             "outlinewidth": 0,
             "ticks": ""
            },
            "type": "contourcarpet"
           }
          ],
          "heatmap": [
           {
            "colorbar": {
             "outlinewidth": 0,
             "ticks": ""
            },
            "colorscale": [
             [
              0,
              "#0d0887"
             ],
             [
              0.1111111111111111,
              "#46039f"
             ],
             [
              0.2222222222222222,
              "#7201a8"
             ],
             [
              0.3333333333333333,
              "#9c179e"
             ],
             [
              0.4444444444444444,
              "#bd3786"
             ],
             [
              0.5555555555555556,
              "#d8576b"
             ],
             [
              0.6666666666666666,
              "#ed7953"
             ],
             [
              0.7777777777777778,
              "#fb9f3a"
             ],
             [
              0.8888888888888888,
              "#fdca26"
             ],
             [
              1,
              "#f0f921"
             ]
            ],
            "type": "heatmap"
           }
          ],
          "heatmapgl": [
           {
            "colorbar": {
             "outlinewidth": 0,
             "ticks": ""
            },
            "colorscale": [
             [
              0,
              "#0d0887"
             ],
             [
              0.1111111111111111,
              "#46039f"
             ],
             [
              0.2222222222222222,
              "#7201a8"
             ],
             [
              0.3333333333333333,
              "#9c179e"
             ],
             [
              0.4444444444444444,
              "#bd3786"
             ],
             [
              0.5555555555555556,
              "#d8576b"
             ],
             [
              0.6666666666666666,
              "#ed7953"
             ],
             [
              0.7777777777777778,
              "#fb9f3a"
             ],
             [
              0.8888888888888888,
              "#fdca26"
             ],
             [
              1,
              "#f0f921"
             ]
            ],
            "type": "heatmapgl"
           }
          ],
          "histogram": [
           {
            "marker": {
             "pattern": {
              "fillmode": "overlay",
              "size": 10,
              "solidity": 0.2
             }
            },
            "type": "histogram"
           }
          ],
          "histogram2d": [
           {
            "colorbar": {
             "outlinewidth": 0,
             "ticks": ""
            },
            "colorscale": [
             [
              0,
              "#0d0887"
             ],
             [
              0.1111111111111111,
              "#46039f"
             ],
             [
              0.2222222222222222,
              "#7201a8"
             ],
             [
              0.3333333333333333,
              "#9c179e"
             ],
             [
              0.4444444444444444,
              "#bd3786"
             ],
             [
              0.5555555555555556,
              "#d8576b"
             ],
             [
              0.6666666666666666,
              "#ed7953"
             ],
             [
              0.7777777777777778,
              "#fb9f3a"
             ],
             [
              0.8888888888888888,
              "#fdca26"
             ],
             [
              1,
              "#f0f921"
             ]
            ],
            "type": "histogram2d"
           }
          ],
          "histogram2dcontour": [
           {
            "colorbar": {
             "outlinewidth": 0,
             "ticks": ""
            },
            "colorscale": [
             [
              0,
              "#0d0887"
             ],
             [
              0.1111111111111111,
              "#46039f"
             ],
             [
              0.2222222222222222,
              "#7201a8"
             ],
             [
              0.3333333333333333,
              "#9c179e"
             ],
             [
              0.4444444444444444,
              "#bd3786"
             ],
             [
              0.5555555555555556,
              "#d8576b"
             ],
             [
              0.6666666666666666,
              "#ed7953"
             ],
             [
              0.7777777777777778,
              "#fb9f3a"
             ],
             [
              0.8888888888888888,
              "#fdca26"
             ],
             [
              1,
              "#f0f921"
             ]
            ],
            "type": "histogram2dcontour"
           }
          ],
          "mesh3d": [
           {
            "colorbar": {
             "outlinewidth": 0,
             "ticks": ""
            },
            "type": "mesh3d"
           }
          ],
          "parcoords": [
           {
            "line": {
             "colorbar": {
              "outlinewidth": 0,
              "ticks": ""
             }
            },
            "type": "parcoords"
           }
          ],
          "pie": [
           {
            "automargin": true,
            "type": "pie"
           }
          ],
          "scatter": [
           {
            "fillpattern": {
             "fillmode": "overlay",
             "size": 10,
             "solidity": 0.2
            },
            "type": "scatter"
           }
          ],
          "scatter3d": [
           {
            "line": {
             "colorbar": {
              "outlinewidth": 0,
              "ticks": ""
             }
            },
            "marker": {
             "colorbar": {
              "outlinewidth": 0,
              "ticks": ""
             }
            },
            "type": "scatter3d"
           }
          ],
          "scattercarpet": [
           {
            "marker": {
             "colorbar": {
              "outlinewidth": 0,
              "ticks": ""
             }
            },
            "type": "scattercarpet"
           }
          ],
          "scattergeo": [
           {
            "marker": {
             "colorbar": {
              "outlinewidth": 0,
              "ticks": ""
             }
            },
            "type": "scattergeo"
           }
          ],
          "scattergl": [
           {
            "marker": {
             "colorbar": {
              "outlinewidth": 0,
              "ticks": ""
             }
            },
            "type": "scattergl"
           }
          ],
          "scattermapbox": [
           {
            "marker": {
             "colorbar": {
              "outlinewidth": 0,
              "ticks": ""
             }
            },
            "type": "scattermapbox"
           }
          ],
          "scatterpolar": [
           {
            "marker": {
             "colorbar": {
              "outlinewidth": 0,
              "ticks": ""
             }
            },
            "type": "scatterpolar"
           }
          ],
          "scatterpolargl": [
           {
            "marker": {
             "colorbar": {
              "outlinewidth": 0,
              "ticks": ""
             }
            },
            "type": "scatterpolargl"
           }
          ],
          "scatterternary": [
           {
            "marker": {
             "colorbar": {
              "outlinewidth": 0,
              "ticks": ""
             }
            },
            "type": "scatterternary"
           }
          ],
          "surface": [
           {
            "colorbar": {
             "outlinewidth": 0,
             "ticks": ""
            },
            "colorscale": [
             [
              0,
              "#0d0887"
             ],
             [
              0.1111111111111111,
              "#46039f"
             ],
             [
              0.2222222222222222,
              "#7201a8"
             ],
             [
              0.3333333333333333,
              "#9c179e"
             ],
             [
              0.4444444444444444,
              "#bd3786"
             ],
             [
              0.5555555555555556,
              "#d8576b"
             ],
             [
              0.6666666666666666,
              "#ed7953"
             ],
             [
              0.7777777777777778,
              "#fb9f3a"
             ],
             [
              0.8888888888888888,
              "#fdca26"
             ],
             [
              1,
              "#f0f921"
             ]
            ],
            "type": "surface"
           }
          ],
          "table": [
           {
            "cells": {
             "fill": {
              "color": "#EBF0F8"
             },
             "line": {
              "color": "white"
             }
            },
            "header": {
             "fill": {
              "color": "#C8D4E3"
             },
             "line": {
              "color": "white"
             }
            },
            "type": "table"
           }
          ]
         },
         "layout": {
          "annotationdefaults": {
           "arrowcolor": "#2a3f5f",
           "arrowhead": 0,
           "arrowwidth": 1
          },
          "autotypenumbers": "strict",
          "coloraxis": {
           "colorbar": {
            "outlinewidth": 0,
            "ticks": ""
           }
          },
          "colorscale": {
           "diverging": [
            [
             0,
             "#8e0152"
            ],
            [
             0.1,
             "#c51b7d"
            ],
            [
             0.2,
             "#de77ae"
            ],
            [
             0.3,
             "#f1b6da"
            ],
            [
             0.4,
             "#fde0ef"
            ],
            [
             0.5,
             "#f7f7f7"
            ],
            [
             0.6,
             "#e6f5d0"
            ],
            [
             0.7,
             "#b8e186"
            ],
            [
             0.8,
             "#7fbc41"
            ],
            [
             0.9,
             "#4d9221"
            ],
            [
             1,
             "#276419"
            ]
           ],
           "sequential": [
            [
             0,
             "#0d0887"
            ],
            [
             0.1111111111111111,
             "#46039f"
            ],
            [
             0.2222222222222222,
             "#7201a8"
            ],
            [
             0.3333333333333333,
             "#9c179e"
            ],
            [
             0.4444444444444444,
             "#bd3786"
            ],
            [
             0.5555555555555556,
             "#d8576b"
            ],
            [
             0.6666666666666666,
             "#ed7953"
            ],
            [
             0.7777777777777778,
             "#fb9f3a"
            ],
            [
             0.8888888888888888,
             "#fdca26"
            ],
            [
             1,
             "#f0f921"
            ]
           ],
           "sequentialminus": [
            [
             0,
             "#0d0887"
            ],
            [
             0.1111111111111111,
             "#46039f"
            ],
            [
             0.2222222222222222,
             "#7201a8"
            ],
            [
             0.3333333333333333,
             "#9c179e"
            ],
            [
             0.4444444444444444,
             "#bd3786"
            ],
            [
             0.5555555555555556,
             "#d8576b"
            ],
            [
             0.6666666666666666,
             "#ed7953"
            ],
            [
             0.7777777777777778,
             "#fb9f3a"
            ],
            [
             0.8888888888888888,
             "#fdca26"
            ],
            [
             1,
             "#f0f921"
            ]
           ]
          },
          "colorway": [
           "#636efa",
           "#EF553B",
           "#00cc96",
           "#ab63fa",
           "#FFA15A",
           "#19d3f3",
           "#FF6692",
           "#B6E880",
           "#FF97FF",
           "#FECB52"
          ],
          "font": {
           "color": "#2a3f5f"
          },
          "geo": {
           "bgcolor": "white",
           "lakecolor": "white",
           "landcolor": "#E5ECF6",
           "showlakes": true,
           "showland": true,
           "subunitcolor": "white"
          },
          "hoverlabel": {
           "align": "left"
          },
          "hovermode": "closest",
          "mapbox": {
           "style": "light"
          },
          "paper_bgcolor": "white",
          "plot_bgcolor": "#E5ECF6",
          "polar": {
           "angularaxis": {
            "gridcolor": "white",
            "linecolor": "white",
            "ticks": ""
           },
           "bgcolor": "#E5ECF6",
           "radialaxis": {
            "gridcolor": "white",
            "linecolor": "white",
            "ticks": ""
           }
          },
          "scene": {
           "xaxis": {
            "backgroundcolor": "#E5ECF6",
            "gridcolor": "white",
            "gridwidth": 2,
            "linecolor": "white",
            "showbackground": true,
            "ticks": "",
            "zerolinecolor": "white"
           },
           "yaxis": {
            "backgroundcolor": "#E5ECF6",
            "gridcolor": "white",
            "gridwidth": 2,
            "linecolor": "white",
            "showbackground": true,
            "ticks": "",
            "zerolinecolor": "white"
           },
           "zaxis": {
            "backgroundcolor": "#E5ECF6",
            "gridcolor": "white",
            "gridwidth": 2,
            "linecolor": "white",
            "showbackground": true,
            "ticks": "",
            "zerolinecolor": "white"
           }
          },
          "shapedefaults": {
           "line": {
            "color": "#2a3f5f"
           }
          },
          "ternary": {
           "aaxis": {
            "gridcolor": "white",
            "linecolor": "white",
            "ticks": ""
           },
           "baxis": {
            "gridcolor": "white",
            "linecolor": "white",
            "ticks": ""
           },
           "bgcolor": "#E5ECF6",
           "caxis": {
            "gridcolor": "white",
            "linecolor": "white",
            "ticks": ""
           }
          },
          "title": {
           "x": 0.05
          },
          "xaxis": {
           "automargin": true,
           "gridcolor": "white",
           "linecolor": "white",
           "ticks": "",
           "title": {
            "standoff": 15
           },
           "zerolinecolor": "white",
           "zerolinewidth": 2
          },
          "yaxis": {
           "automargin": true,
           "gridcolor": "white",
           "linecolor": "white",
           "ticks": "",
           "title": {
            "standoff": 15
           },
           "zerolinecolor": "white",
           "zerolinewidth": 2
          }
         }
        },
        "xaxis": {
         "anchor": "y",
         "domain": [
          0,
          1
         ],
         "title": {
          "text": "date"
         }
        },
        "yaxis": {
         "anchor": "x",
         "domain": [
          0,
          1
         ],
         "title": {
          "text": "Data Science"
         }
        }
       }
      }
     },
     "metadata": {},
     "output_type": "display_data"
    }
   ],
   "source": [
    "dataInd.index = pd.to_datetime(dataInd.index)\n",
    "fig = px.line(dataInd, x=dataInd.index, y='Data Science')\n",
    "fig.show()"
   ]
  },
  {
   "cell_type": "code",
   "execution_count": 39,
   "metadata": {},
   "outputs": [
    {
     "data": {
      "application/vnd.plotly.v1+json": {
       "config": {
        "plotlyServerURL": "https://plot.ly"
       },
       "data": [
        {
         "hovertemplate": "date=%{x}<br>Machine Learning=%{y}<extra></extra>",
         "legendgroup": "",
         "line": {
          "color": "#636efa",
          "dash": "solid"
         },
         "marker": {
          "symbol": "circle"
         },
         "mode": "lines",
         "name": "",
         "orientation": "v",
         "showlegend": false,
         "type": "scatter",
         "x": [
          "2018-01-28T00:00:00",
          "2018-02-04T00:00:00",
          "2018-02-11T00:00:00",
          "2018-02-18T00:00:00",
          "2018-02-25T00:00:00",
          "2018-03-04T00:00:00",
          "2018-03-11T00:00:00",
          "2018-03-18T00:00:00",
          "2018-03-25T00:00:00",
          "2018-04-01T00:00:00",
          "2018-04-08T00:00:00",
          "2018-04-15T00:00:00",
          "2018-04-22T00:00:00",
          "2018-04-29T00:00:00",
          "2018-05-06T00:00:00",
          "2018-05-13T00:00:00",
          "2018-05-20T00:00:00",
          "2018-05-27T00:00:00",
          "2018-06-03T00:00:00",
          "2018-06-10T00:00:00",
          "2018-06-17T00:00:00",
          "2018-06-24T00:00:00",
          "2018-07-01T00:00:00",
          "2018-07-08T00:00:00",
          "2018-07-15T00:00:00",
          "2018-07-22T00:00:00",
          "2018-07-29T00:00:00",
          "2018-08-05T00:00:00",
          "2018-08-12T00:00:00",
          "2018-08-19T00:00:00",
          "2018-08-26T00:00:00",
          "2018-09-02T00:00:00",
          "2018-09-09T00:00:00",
          "2018-09-16T00:00:00",
          "2018-09-23T00:00:00",
          "2018-09-30T00:00:00",
          "2018-10-07T00:00:00",
          "2018-10-14T00:00:00",
          "2018-10-21T00:00:00",
          "2018-10-28T00:00:00",
          "2018-11-04T00:00:00",
          "2018-11-11T00:00:00",
          "2018-11-18T00:00:00",
          "2018-11-25T00:00:00",
          "2018-12-02T00:00:00",
          "2018-12-09T00:00:00",
          "2018-12-16T00:00:00",
          "2018-12-23T00:00:00",
          "2018-12-30T00:00:00",
          "2019-01-06T00:00:00",
          "2019-01-13T00:00:00",
          "2019-01-20T00:00:00",
          "2019-01-27T00:00:00",
          "2019-02-03T00:00:00",
          "2019-02-10T00:00:00",
          "2019-02-17T00:00:00",
          "2019-02-24T00:00:00",
          "2019-03-03T00:00:00",
          "2019-03-10T00:00:00",
          "2019-03-17T00:00:00",
          "2019-03-24T00:00:00",
          "2019-03-31T00:00:00",
          "2019-04-07T00:00:00",
          "2019-04-14T00:00:00",
          "2019-04-21T00:00:00",
          "2019-04-28T00:00:00",
          "2019-05-05T00:00:00",
          "2019-05-12T00:00:00",
          "2019-05-19T00:00:00",
          "2019-05-26T00:00:00",
          "2019-06-02T00:00:00",
          "2019-06-09T00:00:00",
          "2019-06-16T00:00:00",
          "2019-06-23T00:00:00",
          "2019-06-30T00:00:00",
          "2019-07-07T00:00:00",
          "2019-07-14T00:00:00",
          "2019-07-21T00:00:00",
          "2019-07-28T00:00:00",
          "2019-08-04T00:00:00",
          "2019-08-11T00:00:00",
          "2019-08-18T00:00:00",
          "2019-08-25T00:00:00",
          "2019-09-01T00:00:00",
          "2019-09-08T00:00:00",
          "2019-09-15T00:00:00",
          "2019-09-22T00:00:00",
          "2019-09-29T00:00:00",
          "2019-10-06T00:00:00",
          "2019-10-13T00:00:00",
          "2019-10-20T00:00:00",
          "2019-10-27T00:00:00",
          "2019-11-03T00:00:00",
          "2019-11-10T00:00:00",
          "2019-11-17T00:00:00",
          "2019-11-24T00:00:00",
          "2019-12-01T00:00:00",
          "2019-12-08T00:00:00",
          "2019-12-15T00:00:00",
          "2019-12-22T00:00:00",
          "2019-12-29T00:00:00",
          "2020-01-05T00:00:00",
          "2020-01-12T00:00:00",
          "2020-01-19T00:00:00",
          "2020-01-26T00:00:00",
          "2020-02-02T00:00:00",
          "2020-02-09T00:00:00",
          "2020-02-16T00:00:00",
          "2020-02-23T00:00:00",
          "2020-03-01T00:00:00",
          "2020-03-08T00:00:00",
          "2020-03-15T00:00:00",
          "2020-03-22T00:00:00",
          "2020-03-29T00:00:00",
          "2020-04-05T00:00:00",
          "2020-04-12T00:00:00",
          "2020-04-19T00:00:00",
          "2020-04-26T00:00:00",
          "2020-05-03T00:00:00",
          "2020-05-10T00:00:00",
          "2020-05-17T00:00:00",
          "2020-05-24T00:00:00",
          "2020-05-31T00:00:00",
          "2020-06-07T00:00:00",
          "2020-06-14T00:00:00",
          "2020-06-21T00:00:00",
          "2020-06-28T00:00:00",
          "2020-07-05T00:00:00",
          "2020-07-12T00:00:00",
          "2020-07-19T00:00:00",
          "2020-07-26T00:00:00",
          "2020-08-02T00:00:00",
          "2020-08-09T00:00:00",
          "2020-08-16T00:00:00",
          "2020-08-23T00:00:00",
          "2020-08-30T00:00:00",
          "2020-09-06T00:00:00",
          "2020-09-13T00:00:00",
          "2020-09-20T00:00:00",
          "2020-09-27T00:00:00",
          "2020-10-04T00:00:00",
          "2020-10-11T00:00:00",
          "2020-10-18T00:00:00",
          "2020-10-25T00:00:00",
          "2020-11-01T00:00:00",
          "2020-11-08T00:00:00",
          "2020-11-15T00:00:00",
          "2020-11-22T00:00:00",
          "2020-11-29T00:00:00",
          "2020-12-06T00:00:00",
          "2020-12-13T00:00:00",
          "2020-12-20T00:00:00",
          "2020-12-27T00:00:00",
          "2021-01-03T00:00:00",
          "2021-01-10T00:00:00",
          "2021-01-17T00:00:00",
          "2021-01-24T00:00:00",
          "2021-01-31T00:00:00",
          "2021-02-07T00:00:00",
          "2021-02-14T00:00:00",
          "2021-02-21T00:00:00",
          "2021-02-28T00:00:00",
          "2021-03-07T00:00:00",
          "2021-03-14T00:00:00",
          "2021-03-21T00:00:00",
          "2021-03-28T00:00:00",
          "2021-04-04T00:00:00",
          "2021-04-11T00:00:00",
          "2021-04-18T00:00:00",
          "2021-04-25T00:00:00",
          "2021-05-02T00:00:00",
          "2021-05-09T00:00:00",
          "2021-05-16T00:00:00",
          "2021-05-23T00:00:00",
          "2021-05-30T00:00:00",
          "2021-06-06T00:00:00",
          "2021-06-13T00:00:00",
          "2021-06-20T00:00:00",
          "2021-06-27T00:00:00",
          "2021-07-04T00:00:00",
          "2021-07-11T00:00:00",
          "2021-07-18T00:00:00",
          "2021-07-25T00:00:00",
          "2021-08-01T00:00:00",
          "2021-08-08T00:00:00",
          "2021-08-15T00:00:00",
          "2021-08-22T00:00:00",
          "2021-08-29T00:00:00",
          "2021-09-05T00:00:00",
          "2021-09-12T00:00:00",
          "2021-09-19T00:00:00",
          "2021-09-26T00:00:00",
          "2021-10-03T00:00:00",
          "2021-10-10T00:00:00",
          "2021-10-17T00:00:00",
          "2021-10-24T00:00:00",
          "2021-10-31T00:00:00",
          "2021-11-07T00:00:00",
          "2021-11-14T00:00:00",
          "2021-11-21T00:00:00",
          "2021-11-28T00:00:00",
          "2021-12-05T00:00:00",
          "2021-12-12T00:00:00",
          "2021-12-19T00:00:00",
          "2021-12-26T00:00:00",
          "2022-01-02T00:00:00",
          "2022-01-09T00:00:00",
          "2022-01-16T00:00:00",
          "2022-01-23T00:00:00",
          "2022-01-30T00:00:00",
          "2022-02-06T00:00:00",
          "2022-02-13T00:00:00",
          "2022-02-20T00:00:00",
          "2022-02-27T00:00:00",
          "2022-03-06T00:00:00",
          "2022-03-13T00:00:00",
          "2022-03-20T00:00:00",
          "2022-03-27T00:00:00",
          "2022-04-03T00:00:00",
          "2022-04-10T00:00:00",
          "2022-04-17T00:00:00",
          "2022-04-24T00:00:00",
          "2022-05-01T00:00:00",
          "2022-05-08T00:00:00",
          "2022-05-15T00:00:00",
          "2022-05-22T00:00:00",
          "2022-05-29T00:00:00",
          "2022-06-05T00:00:00",
          "2022-06-12T00:00:00",
          "2022-06-19T00:00:00",
          "2022-06-26T00:00:00",
          "2022-07-03T00:00:00",
          "2022-07-10T00:00:00",
          "2022-07-17T00:00:00",
          "2022-07-24T00:00:00",
          "2022-07-31T00:00:00",
          "2022-08-07T00:00:00",
          "2022-08-14T00:00:00",
          "2022-08-21T00:00:00",
          "2022-08-28T00:00:00",
          "2022-09-04T00:00:00",
          "2022-09-11T00:00:00",
          "2022-09-18T00:00:00",
          "2022-09-25T00:00:00",
          "2022-10-02T00:00:00",
          "2022-10-09T00:00:00",
          "2022-10-16T00:00:00",
          "2022-10-23T00:00:00",
          "2022-10-30T00:00:00",
          "2022-11-06T00:00:00",
          "2022-11-13T00:00:00",
          "2022-11-20T00:00:00",
          "2022-11-27T00:00:00",
          "2022-12-04T00:00:00",
          "2022-12-11T00:00:00",
          "2022-12-18T00:00:00",
          "2022-12-25T00:00:00",
          "2023-01-01T00:00:00",
          "2023-01-08T00:00:00",
          "2023-01-15T00:00:00"
         ],
         "xaxis": "x",
         "y": [
          20,
          18,
          18,
          15,
          20,
          22,
          21,
          34,
          17,
          29,
          18,
          28,
          22,
          21,
          11,
          15,
          19,
          22,
          12,
          6,
          18,
          28,
          20,
          34,
          13,
          14,
          19,
          22,
          22,
          27,
          29,
          31,
          39,
          44,
          32,
          30,
          17,
          37,
          30,
          34,
          44,
          50,
          22,
          40,
          37,
          39,
          40,
          26,
          33,
          23,
          42,
          29,
          40,
          42,
          43,
          51,
          41,
          46,
          40,
          47,
          42,
          22,
          31,
          25,
          43,
          40,
          24,
          38,
          53,
          30,
          34,
          50,
          52,
          52,
          49,
          36,
          45,
          52,
          59,
          40,
          42,
          55,
          54,
          32,
          53,
          61,
          65,
          70,
          60,
          57,
          57,
          50,
          49,
          49,
          57,
          37,
          45,
          57,
          57,
          48,
          53,
          72,
          69,
          54,
          50,
          41,
          74,
          53,
          49,
          50,
          53,
          36,
          51,
          43,
          48,
          46,
          41,
          57,
          46,
          59,
          45,
          44,
          45,
          52,
          70,
          53,
          47,
          53,
          28,
          49,
          46,
          38,
          37,
          38,
          50,
          55,
          39,
          46,
          60,
          50,
          38,
          47,
          52,
          32,
          48,
          47,
          45,
          55,
          39,
          39,
          47,
          44,
          36,
          41,
          44,
          50,
          47,
          55,
          47,
          37,
          43,
          44,
          59,
          44,
          34,
          50,
          56,
          45,
          55,
          57,
          37,
          45,
          37,
          52,
          49,
          56,
          44,
          62,
          49,
          55,
          49,
          46,
          54,
          41,
          31,
          32,
          36,
          40,
          47,
          42,
          41,
          53,
          47,
          33,
          30,
          54,
          46,
          42,
          54,
          50,
          35,
          47,
          28,
          28,
          41,
          73,
          60,
          62,
          63,
          65,
          69,
          67,
          76,
          75,
          73,
          91,
          99,
          77,
          75,
          79,
          87,
          66,
          35,
          75,
          74,
          79,
          75,
          80,
          100,
          74,
          86,
          56,
          66,
          74,
          60,
          61,
          59,
          65,
          71,
          61,
          71,
          81,
          82,
          78,
          71,
          74,
          80,
          84,
          79,
          67,
          74,
          72,
          69,
          80,
          74,
          75,
          54,
          69,
          58,
          62
         ],
         "yaxis": "y"
        }
       ],
       "layout": {
        "legend": {
         "tracegroupgap": 0
        },
        "margin": {
         "t": 60
        },
        "template": {
         "data": {
          "bar": [
           {
            "error_x": {
             "color": "#2a3f5f"
            },
            "error_y": {
             "color": "#2a3f5f"
            },
            "marker": {
             "line": {
              "color": "#E5ECF6",
              "width": 0.5
             },
             "pattern": {
              "fillmode": "overlay",
              "size": 10,
              "solidity": 0.2
             }
            },
            "type": "bar"
           }
          ],
          "barpolar": [
           {
            "marker": {
             "line": {
              "color": "#E5ECF6",
              "width": 0.5
             },
             "pattern": {
              "fillmode": "overlay",
              "size": 10,
              "solidity": 0.2
             }
            },
            "type": "barpolar"
           }
          ],
          "carpet": [
           {
            "aaxis": {
             "endlinecolor": "#2a3f5f",
             "gridcolor": "white",
             "linecolor": "white",
             "minorgridcolor": "white",
             "startlinecolor": "#2a3f5f"
            },
            "baxis": {
             "endlinecolor": "#2a3f5f",
             "gridcolor": "white",
             "linecolor": "white",
             "minorgridcolor": "white",
             "startlinecolor": "#2a3f5f"
            },
            "type": "carpet"
           }
          ],
          "choropleth": [
           {
            "colorbar": {
             "outlinewidth": 0,
             "ticks": ""
            },
            "type": "choropleth"
           }
          ],
          "contour": [
           {
            "colorbar": {
             "outlinewidth": 0,
             "ticks": ""
            },
            "colorscale": [
             [
              0,
              "#0d0887"
             ],
             [
              0.1111111111111111,
              "#46039f"
             ],
             [
              0.2222222222222222,
              "#7201a8"
             ],
             [
              0.3333333333333333,
              "#9c179e"
             ],
             [
              0.4444444444444444,
              "#bd3786"
             ],
             [
              0.5555555555555556,
              "#d8576b"
             ],
             [
              0.6666666666666666,
              "#ed7953"
             ],
             [
              0.7777777777777778,
              "#fb9f3a"
             ],
             [
              0.8888888888888888,
              "#fdca26"
             ],
             [
              1,
              "#f0f921"
             ]
            ],
            "type": "contour"
           }
          ],
          "contourcarpet": [
           {
            "colorbar": {
             "outlinewidth": 0,
             "ticks": ""
            },
            "type": "contourcarpet"
           }
          ],
          "heatmap": [
           {
            "colorbar": {
             "outlinewidth": 0,
             "ticks": ""
            },
            "colorscale": [
             [
              0,
              "#0d0887"
             ],
             [
              0.1111111111111111,
              "#46039f"
             ],
             [
              0.2222222222222222,
              "#7201a8"
             ],
             [
              0.3333333333333333,
              "#9c179e"
             ],
             [
              0.4444444444444444,
              "#bd3786"
             ],
             [
              0.5555555555555556,
              "#d8576b"
             ],
             [
              0.6666666666666666,
              "#ed7953"
             ],
             [
              0.7777777777777778,
              "#fb9f3a"
             ],
             [
              0.8888888888888888,
              "#fdca26"
             ],
             [
              1,
              "#f0f921"
             ]
            ],
            "type": "heatmap"
           }
          ],
          "heatmapgl": [
           {
            "colorbar": {
             "outlinewidth": 0,
             "ticks": ""
            },
            "colorscale": [
             [
              0,
              "#0d0887"
             ],
             [
              0.1111111111111111,
              "#46039f"
             ],
             [
              0.2222222222222222,
              "#7201a8"
             ],
             [
              0.3333333333333333,
              "#9c179e"
             ],
             [
              0.4444444444444444,
              "#bd3786"
             ],
             [
              0.5555555555555556,
              "#d8576b"
             ],
             [
              0.6666666666666666,
              "#ed7953"
             ],
             [
              0.7777777777777778,
              "#fb9f3a"
             ],
             [
              0.8888888888888888,
              "#fdca26"
             ],
             [
              1,
              "#f0f921"
             ]
            ],
            "type": "heatmapgl"
           }
          ],
          "histogram": [
           {
            "marker": {
             "pattern": {
              "fillmode": "overlay",
              "size": 10,
              "solidity": 0.2
             }
            },
            "type": "histogram"
           }
          ],
          "histogram2d": [
           {
            "colorbar": {
             "outlinewidth": 0,
             "ticks": ""
            },
            "colorscale": [
             [
              0,
              "#0d0887"
             ],
             [
              0.1111111111111111,
              "#46039f"
             ],
             [
              0.2222222222222222,
              "#7201a8"
             ],
             [
              0.3333333333333333,
              "#9c179e"
             ],
             [
              0.4444444444444444,
              "#bd3786"
             ],
             [
              0.5555555555555556,
              "#d8576b"
             ],
             [
              0.6666666666666666,
              "#ed7953"
             ],
             [
              0.7777777777777778,
              "#fb9f3a"
             ],
             [
              0.8888888888888888,
              "#fdca26"
             ],
             [
              1,
              "#f0f921"
             ]
            ],
            "type": "histogram2d"
           }
          ],
          "histogram2dcontour": [
           {
            "colorbar": {
             "outlinewidth": 0,
             "ticks": ""
            },
            "colorscale": [
             [
              0,
              "#0d0887"
             ],
             [
              0.1111111111111111,
              "#46039f"
             ],
             [
              0.2222222222222222,
              "#7201a8"
             ],
             [
              0.3333333333333333,
              "#9c179e"
             ],
             [
              0.4444444444444444,
              "#bd3786"
             ],
             [
              0.5555555555555556,
              "#d8576b"
             ],
             [
              0.6666666666666666,
              "#ed7953"
             ],
             [
              0.7777777777777778,
              "#fb9f3a"
             ],
             [
              0.8888888888888888,
              "#fdca26"
             ],
             [
              1,
              "#f0f921"
             ]
            ],
            "type": "histogram2dcontour"
           }
          ],
          "mesh3d": [
           {
            "colorbar": {
             "outlinewidth": 0,
             "ticks": ""
            },
            "type": "mesh3d"
           }
          ],
          "parcoords": [
           {
            "line": {
             "colorbar": {
              "outlinewidth": 0,
              "ticks": ""
             }
            },
            "type": "parcoords"
           }
          ],
          "pie": [
           {
            "automargin": true,
            "type": "pie"
           }
          ],
          "scatter": [
           {
            "fillpattern": {
             "fillmode": "overlay",
             "size": 10,
             "solidity": 0.2
            },
            "type": "scatter"
           }
          ],
          "scatter3d": [
           {
            "line": {
             "colorbar": {
              "outlinewidth": 0,
              "ticks": ""
             }
            },
            "marker": {
             "colorbar": {
              "outlinewidth": 0,
              "ticks": ""
             }
            },
            "type": "scatter3d"
           }
          ],
          "scattercarpet": [
           {
            "marker": {
             "colorbar": {
              "outlinewidth": 0,
              "ticks": ""
             }
            },
            "type": "scattercarpet"
           }
          ],
          "scattergeo": [
           {
            "marker": {
             "colorbar": {
              "outlinewidth": 0,
              "ticks": ""
             }
            },
            "type": "scattergeo"
           }
          ],
          "scattergl": [
           {
            "marker": {
             "colorbar": {
              "outlinewidth": 0,
              "ticks": ""
             }
            },
            "type": "scattergl"
           }
          ],
          "scattermapbox": [
           {
            "marker": {
             "colorbar": {
              "outlinewidth": 0,
              "ticks": ""
             }
            },
            "type": "scattermapbox"
           }
          ],
          "scatterpolar": [
           {
            "marker": {
             "colorbar": {
              "outlinewidth": 0,
              "ticks": ""
             }
            },
            "type": "scatterpolar"
           }
          ],
          "scatterpolargl": [
           {
            "marker": {
             "colorbar": {
              "outlinewidth": 0,
              "ticks": ""
             }
            },
            "type": "scatterpolargl"
           }
          ],
          "scatterternary": [
           {
            "marker": {
             "colorbar": {
              "outlinewidth": 0,
              "ticks": ""
             }
            },
            "type": "scatterternary"
           }
          ],
          "surface": [
           {
            "colorbar": {
             "outlinewidth": 0,
             "ticks": ""
            },
            "colorscale": [
             [
              0,
              "#0d0887"
             ],
             [
              0.1111111111111111,
              "#46039f"
             ],
             [
              0.2222222222222222,
              "#7201a8"
             ],
             [
              0.3333333333333333,
              "#9c179e"
             ],
             [
              0.4444444444444444,
              "#bd3786"
             ],
             [
              0.5555555555555556,
              "#d8576b"
             ],
             [
              0.6666666666666666,
              "#ed7953"
             ],
             [
              0.7777777777777778,
              "#fb9f3a"
             ],
             [
              0.8888888888888888,
              "#fdca26"
             ],
             [
              1,
              "#f0f921"
             ]
            ],
            "type": "surface"
           }
          ],
          "table": [
           {
            "cells": {
             "fill": {
              "color": "#EBF0F8"
             },
             "line": {
              "color": "white"
             }
            },
            "header": {
             "fill": {
              "color": "#C8D4E3"
             },
             "line": {
              "color": "white"
             }
            },
            "type": "table"
           }
          ]
         },
         "layout": {
          "annotationdefaults": {
           "arrowcolor": "#2a3f5f",
           "arrowhead": 0,
           "arrowwidth": 1
          },
          "autotypenumbers": "strict",
          "coloraxis": {
           "colorbar": {
            "outlinewidth": 0,
            "ticks": ""
           }
          },
          "colorscale": {
           "diverging": [
            [
             0,
             "#8e0152"
            ],
            [
             0.1,
             "#c51b7d"
            ],
            [
             0.2,
             "#de77ae"
            ],
            [
             0.3,
             "#f1b6da"
            ],
            [
             0.4,
             "#fde0ef"
            ],
            [
             0.5,
             "#f7f7f7"
            ],
            [
             0.6,
             "#e6f5d0"
            ],
            [
             0.7,
             "#b8e186"
            ],
            [
             0.8,
             "#7fbc41"
            ],
            [
             0.9,
             "#4d9221"
            ],
            [
             1,
             "#276419"
            ]
           ],
           "sequential": [
            [
             0,
             "#0d0887"
            ],
            [
             0.1111111111111111,
             "#46039f"
            ],
            [
             0.2222222222222222,
             "#7201a8"
            ],
            [
             0.3333333333333333,
             "#9c179e"
            ],
            [
             0.4444444444444444,
             "#bd3786"
            ],
            [
             0.5555555555555556,
             "#d8576b"
            ],
            [
             0.6666666666666666,
             "#ed7953"
            ],
            [
             0.7777777777777778,
             "#fb9f3a"
            ],
            [
             0.8888888888888888,
             "#fdca26"
            ],
            [
             1,
             "#f0f921"
            ]
           ],
           "sequentialminus": [
            [
             0,
             "#0d0887"
            ],
            [
             0.1111111111111111,
             "#46039f"
            ],
            [
             0.2222222222222222,
             "#7201a8"
            ],
            [
             0.3333333333333333,
             "#9c179e"
            ],
            [
             0.4444444444444444,
             "#bd3786"
            ],
            [
             0.5555555555555556,
             "#d8576b"
            ],
            [
             0.6666666666666666,
             "#ed7953"
            ],
            [
             0.7777777777777778,
             "#fb9f3a"
            ],
            [
             0.8888888888888888,
             "#fdca26"
            ],
            [
             1,
             "#f0f921"
            ]
           ]
          },
          "colorway": [
           "#636efa",
           "#EF553B",
           "#00cc96",
           "#ab63fa",
           "#FFA15A",
           "#19d3f3",
           "#FF6692",
           "#B6E880",
           "#FF97FF",
           "#FECB52"
          ],
          "font": {
           "color": "#2a3f5f"
          },
          "geo": {
           "bgcolor": "white",
           "lakecolor": "white",
           "landcolor": "#E5ECF6",
           "showlakes": true,
           "showland": true,
           "subunitcolor": "white"
          },
          "hoverlabel": {
           "align": "left"
          },
          "hovermode": "closest",
          "mapbox": {
           "style": "light"
          },
          "paper_bgcolor": "white",
          "plot_bgcolor": "#E5ECF6",
          "polar": {
           "angularaxis": {
            "gridcolor": "white",
            "linecolor": "white",
            "ticks": ""
           },
           "bgcolor": "#E5ECF6",
           "radialaxis": {
            "gridcolor": "white",
            "linecolor": "white",
            "ticks": ""
           }
          },
          "scene": {
           "xaxis": {
            "backgroundcolor": "#E5ECF6",
            "gridcolor": "white",
            "gridwidth": 2,
            "linecolor": "white",
            "showbackground": true,
            "ticks": "",
            "zerolinecolor": "white"
           },
           "yaxis": {
            "backgroundcolor": "#E5ECF6",
            "gridcolor": "white",
            "gridwidth": 2,
            "linecolor": "white",
            "showbackground": true,
            "ticks": "",
            "zerolinecolor": "white"
           },
           "zaxis": {
            "backgroundcolor": "#E5ECF6",
            "gridcolor": "white",
            "gridwidth": 2,
            "linecolor": "white",
            "showbackground": true,
            "ticks": "",
            "zerolinecolor": "white"
           }
          },
          "shapedefaults": {
           "line": {
            "color": "#2a3f5f"
           }
          },
          "ternary": {
           "aaxis": {
            "gridcolor": "white",
            "linecolor": "white",
            "ticks": ""
           },
           "baxis": {
            "gridcolor": "white",
            "linecolor": "white",
            "ticks": ""
           },
           "bgcolor": "#E5ECF6",
           "caxis": {
            "gridcolor": "white",
            "linecolor": "white",
            "ticks": ""
           }
          },
          "title": {
           "x": 0.05
          },
          "xaxis": {
           "automargin": true,
           "gridcolor": "white",
           "linecolor": "white",
           "ticks": "",
           "title": {
            "standoff": 15
           },
           "zerolinecolor": "white",
           "zerolinewidth": 2
          },
          "yaxis": {
           "automargin": true,
           "gridcolor": "white",
           "linecolor": "white",
           "ticks": "",
           "title": {
            "standoff": 15
           },
           "zerolinecolor": "white",
           "zerolinewidth": 2
          }
         }
        },
        "xaxis": {
         "anchor": "y",
         "domain": [
          0,
          1
         ],
         "title": {
          "text": "date"
         }
        },
        "yaxis": {
         "anchor": "x",
         "domain": [
          0,
          1
         ],
         "title": {
          "text": "Machine Learning"
         }
        }
       }
      }
     },
     "metadata": {},
     "output_type": "display_data"
    }
   ],
   "source": [
    "fig = px.line(dataInd, x=dataInd.index, y='Machine Learning')\n",
    "fig.show()"
   ]
  },
  {
   "cell_type": "code",
   "execution_count": 40,
   "metadata": {},
   "outputs": [
    {
     "data": {
      "application/vnd.plotly.v1+json": {
       "config": {
        "plotlyServerURL": "https://plot.ly"
       },
       "data": [
        {
         "hovertemplate": "date=%{x}<br>Artificial Intelligence=%{y}<extra></extra>",
         "legendgroup": "",
         "line": {
          "color": "#636efa",
          "dash": "solid"
         },
         "marker": {
          "symbol": "circle"
         },
         "mode": "lines",
         "name": "",
         "orientation": "v",
         "showlegend": false,
         "type": "scatter",
         "x": [
          "2018-01-28T00:00:00",
          "2018-02-04T00:00:00",
          "2018-02-11T00:00:00",
          "2018-02-18T00:00:00",
          "2018-02-25T00:00:00",
          "2018-03-04T00:00:00",
          "2018-03-11T00:00:00",
          "2018-03-18T00:00:00",
          "2018-03-25T00:00:00",
          "2018-04-01T00:00:00",
          "2018-04-08T00:00:00",
          "2018-04-15T00:00:00",
          "2018-04-22T00:00:00",
          "2018-04-29T00:00:00",
          "2018-05-06T00:00:00",
          "2018-05-13T00:00:00",
          "2018-05-20T00:00:00",
          "2018-05-27T00:00:00",
          "2018-06-03T00:00:00",
          "2018-06-10T00:00:00",
          "2018-06-17T00:00:00",
          "2018-06-24T00:00:00",
          "2018-07-01T00:00:00",
          "2018-07-08T00:00:00",
          "2018-07-15T00:00:00",
          "2018-07-22T00:00:00",
          "2018-07-29T00:00:00",
          "2018-08-05T00:00:00",
          "2018-08-12T00:00:00",
          "2018-08-19T00:00:00",
          "2018-08-26T00:00:00",
          "2018-09-02T00:00:00",
          "2018-09-09T00:00:00",
          "2018-09-16T00:00:00",
          "2018-09-23T00:00:00",
          "2018-09-30T00:00:00",
          "2018-10-07T00:00:00",
          "2018-10-14T00:00:00",
          "2018-10-21T00:00:00",
          "2018-10-28T00:00:00",
          "2018-11-04T00:00:00",
          "2018-11-11T00:00:00",
          "2018-11-18T00:00:00",
          "2018-11-25T00:00:00",
          "2018-12-02T00:00:00",
          "2018-12-09T00:00:00",
          "2018-12-16T00:00:00",
          "2018-12-23T00:00:00",
          "2018-12-30T00:00:00",
          "2019-01-06T00:00:00",
          "2019-01-13T00:00:00",
          "2019-01-20T00:00:00",
          "2019-01-27T00:00:00",
          "2019-02-03T00:00:00",
          "2019-02-10T00:00:00",
          "2019-02-17T00:00:00",
          "2019-02-24T00:00:00",
          "2019-03-03T00:00:00",
          "2019-03-10T00:00:00",
          "2019-03-17T00:00:00",
          "2019-03-24T00:00:00",
          "2019-03-31T00:00:00",
          "2019-04-07T00:00:00",
          "2019-04-14T00:00:00",
          "2019-04-21T00:00:00",
          "2019-04-28T00:00:00",
          "2019-05-05T00:00:00",
          "2019-05-12T00:00:00",
          "2019-05-19T00:00:00",
          "2019-05-26T00:00:00",
          "2019-06-02T00:00:00",
          "2019-06-09T00:00:00",
          "2019-06-16T00:00:00",
          "2019-06-23T00:00:00",
          "2019-06-30T00:00:00",
          "2019-07-07T00:00:00",
          "2019-07-14T00:00:00",
          "2019-07-21T00:00:00",
          "2019-07-28T00:00:00",
          "2019-08-04T00:00:00",
          "2019-08-11T00:00:00",
          "2019-08-18T00:00:00",
          "2019-08-25T00:00:00",
          "2019-09-01T00:00:00",
          "2019-09-08T00:00:00",
          "2019-09-15T00:00:00",
          "2019-09-22T00:00:00",
          "2019-09-29T00:00:00",
          "2019-10-06T00:00:00",
          "2019-10-13T00:00:00",
          "2019-10-20T00:00:00",
          "2019-10-27T00:00:00",
          "2019-11-03T00:00:00",
          "2019-11-10T00:00:00",
          "2019-11-17T00:00:00",
          "2019-11-24T00:00:00",
          "2019-12-01T00:00:00",
          "2019-12-08T00:00:00",
          "2019-12-15T00:00:00",
          "2019-12-22T00:00:00",
          "2019-12-29T00:00:00",
          "2020-01-05T00:00:00",
          "2020-01-12T00:00:00",
          "2020-01-19T00:00:00",
          "2020-01-26T00:00:00",
          "2020-02-02T00:00:00",
          "2020-02-09T00:00:00",
          "2020-02-16T00:00:00",
          "2020-02-23T00:00:00",
          "2020-03-01T00:00:00",
          "2020-03-08T00:00:00",
          "2020-03-15T00:00:00",
          "2020-03-22T00:00:00",
          "2020-03-29T00:00:00",
          "2020-04-05T00:00:00",
          "2020-04-12T00:00:00",
          "2020-04-19T00:00:00",
          "2020-04-26T00:00:00",
          "2020-05-03T00:00:00",
          "2020-05-10T00:00:00",
          "2020-05-17T00:00:00",
          "2020-05-24T00:00:00",
          "2020-05-31T00:00:00",
          "2020-06-07T00:00:00",
          "2020-06-14T00:00:00",
          "2020-06-21T00:00:00",
          "2020-06-28T00:00:00",
          "2020-07-05T00:00:00",
          "2020-07-12T00:00:00",
          "2020-07-19T00:00:00",
          "2020-07-26T00:00:00",
          "2020-08-02T00:00:00",
          "2020-08-09T00:00:00",
          "2020-08-16T00:00:00",
          "2020-08-23T00:00:00",
          "2020-08-30T00:00:00",
          "2020-09-06T00:00:00",
          "2020-09-13T00:00:00",
          "2020-09-20T00:00:00",
          "2020-09-27T00:00:00",
          "2020-10-04T00:00:00",
          "2020-10-11T00:00:00",
          "2020-10-18T00:00:00",
          "2020-10-25T00:00:00",
          "2020-11-01T00:00:00",
          "2020-11-08T00:00:00",
          "2020-11-15T00:00:00",
          "2020-11-22T00:00:00",
          "2020-11-29T00:00:00",
          "2020-12-06T00:00:00",
          "2020-12-13T00:00:00",
          "2020-12-20T00:00:00",
          "2020-12-27T00:00:00",
          "2021-01-03T00:00:00",
          "2021-01-10T00:00:00",
          "2021-01-17T00:00:00",
          "2021-01-24T00:00:00",
          "2021-01-31T00:00:00",
          "2021-02-07T00:00:00",
          "2021-02-14T00:00:00",
          "2021-02-21T00:00:00",
          "2021-02-28T00:00:00",
          "2021-03-07T00:00:00",
          "2021-03-14T00:00:00",
          "2021-03-21T00:00:00",
          "2021-03-28T00:00:00",
          "2021-04-04T00:00:00",
          "2021-04-11T00:00:00",
          "2021-04-18T00:00:00",
          "2021-04-25T00:00:00",
          "2021-05-02T00:00:00",
          "2021-05-09T00:00:00",
          "2021-05-16T00:00:00",
          "2021-05-23T00:00:00",
          "2021-05-30T00:00:00",
          "2021-06-06T00:00:00",
          "2021-06-13T00:00:00",
          "2021-06-20T00:00:00",
          "2021-06-27T00:00:00",
          "2021-07-04T00:00:00",
          "2021-07-11T00:00:00",
          "2021-07-18T00:00:00",
          "2021-07-25T00:00:00",
          "2021-08-01T00:00:00",
          "2021-08-08T00:00:00",
          "2021-08-15T00:00:00",
          "2021-08-22T00:00:00",
          "2021-08-29T00:00:00",
          "2021-09-05T00:00:00",
          "2021-09-12T00:00:00",
          "2021-09-19T00:00:00",
          "2021-09-26T00:00:00",
          "2021-10-03T00:00:00",
          "2021-10-10T00:00:00",
          "2021-10-17T00:00:00",
          "2021-10-24T00:00:00",
          "2021-10-31T00:00:00",
          "2021-11-07T00:00:00",
          "2021-11-14T00:00:00",
          "2021-11-21T00:00:00",
          "2021-11-28T00:00:00",
          "2021-12-05T00:00:00",
          "2021-12-12T00:00:00",
          "2021-12-19T00:00:00",
          "2021-12-26T00:00:00",
          "2022-01-02T00:00:00",
          "2022-01-09T00:00:00",
          "2022-01-16T00:00:00",
          "2022-01-23T00:00:00",
          "2022-01-30T00:00:00",
          "2022-02-06T00:00:00",
          "2022-02-13T00:00:00",
          "2022-02-20T00:00:00",
          "2022-02-27T00:00:00",
          "2022-03-06T00:00:00",
          "2022-03-13T00:00:00",
          "2022-03-20T00:00:00",
          "2022-03-27T00:00:00",
          "2022-04-03T00:00:00",
          "2022-04-10T00:00:00",
          "2022-04-17T00:00:00",
          "2022-04-24T00:00:00",
          "2022-05-01T00:00:00",
          "2022-05-08T00:00:00",
          "2022-05-15T00:00:00",
          "2022-05-22T00:00:00",
          "2022-05-29T00:00:00",
          "2022-06-05T00:00:00",
          "2022-06-12T00:00:00",
          "2022-06-19T00:00:00",
          "2022-06-26T00:00:00",
          "2022-07-03T00:00:00",
          "2022-07-10T00:00:00",
          "2022-07-17T00:00:00",
          "2022-07-24T00:00:00",
          "2022-07-31T00:00:00",
          "2022-08-07T00:00:00",
          "2022-08-14T00:00:00",
          "2022-08-21T00:00:00",
          "2022-08-28T00:00:00",
          "2022-09-04T00:00:00",
          "2022-09-11T00:00:00",
          "2022-09-18T00:00:00",
          "2022-09-25T00:00:00",
          "2022-10-02T00:00:00",
          "2022-10-09T00:00:00",
          "2022-10-16T00:00:00",
          "2022-10-23T00:00:00",
          "2022-10-30T00:00:00",
          "2022-11-06T00:00:00",
          "2022-11-13T00:00:00",
          "2022-11-20T00:00:00",
          "2022-11-27T00:00:00",
          "2022-12-04T00:00:00",
          "2022-12-11T00:00:00",
          "2022-12-18T00:00:00",
          "2022-12-25T00:00:00",
          "2023-01-01T00:00:00",
          "2023-01-08T00:00:00",
          "2023-01-15T00:00:00"
         ],
         "xaxis": "x",
         "y": [
          27,
          9,
          20,
          19,
          16,
          28,
          33,
          21,
          30,
          22,
          28,
          27,
          27,
          37,
          18,
          28,
          37,
          16,
          22,
          20,
          15,
          12,
          16,
          22,
          8,
          25,
          21,
          20,
          29,
          30,
          32,
          36,
          49,
          73,
          39,
          41,
          44,
          24,
          29,
          40,
          39,
          36,
          39,
          41,
          45,
          48,
          39,
          27,
          22,
          38,
          32,
          43,
          43,
          45,
          41,
          52,
          43,
          38,
          52,
          56,
          40,
          32,
          32,
          32,
          30,
          24,
          37,
          42,
          30,
          23,
          26,
          32,
          89,
          48,
          37,
          40,
          46,
          38,
          43,
          31,
          25,
          47,
          33,
          46,
          57,
          71,
          55,
          77,
          56,
          53,
          50,
          54,
          56,
          60,
          58,
          82,
          57,
          40,
          42,
          35,
          26,
          33,
          53,
          44,
          47,
          39,
          57,
          56,
          38,
          41,
          50,
          39,
          56,
          51,
          42,
          41,
          42,
          35,
          44,
          52,
          46,
          34,
          34,
          35,
          43,
          27,
          36,
          31,
          35,
          40,
          38,
          25,
          34,
          30,
          30,
          36,
          39,
          36,
          29,
          40,
          38,
          49,
          49,
          41,
          40,
          56,
          49,
          42,
          37,
          38,
          38,
          41,
          28,
          32,
          39,
          35,
          32,
          29,
          32,
          44,
          31,
          26,
          26,
          34,
          42,
          48,
          50,
          38,
          40,
          44,
          37,
          30,
          37,
          29,
          29,
          37,
          35,
          42,
          38,
          40,
          29,
          37,
          33,
          32,
          29,
          33,
          47,
          44,
          33,
          37,
          27,
          46,
          55,
          36,
          33,
          49,
          44,
          44,
          44,
          54,
          59,
          54,
          36,
          38,
          42,
          41,
          47,
          41,
          48,
          43,
          43,
          52,
          50,
          43,
          58,
          53,
          70,
          63,
          42,
          42,
          52,
          47,
          22,
          49,
          47,
          57,
          46,
          51,
          51,
          40,
          36,
          33,
          70,
          46,
          50,
          59,
          41,
          50,
          75,
          68,
          65,
          55,
          57,
          75,
          66,
          61,
          72,
          72,
          61,
          53,
          45,
          51,
          57,
          90,
          82,
          60,
          40,
          47,
          59,
          61
         ],
         "yaxis": "y"
        }
       ],
       "layout": {
        "legend": {
         "tracegroupgap": 0
        },
        "margin": {
         "t": 60
        },
        "template": {
         "data": {
          "bar": [
           {
            "error_x": {
             "color": "#2a3f5f"
            },
            "error_y": {
             "color": "#2a3f5f"
            },
            "marker": {
             "line": {
              "color": "#E5ECF6",
              "width": 0.5
             },
             "pattern": {
              "fillmode": "overlay",
              "size": 10,
              "solidity": 0.2
             }
            },
            "type": "bar"
           }
          ],
          "barpolar": [
           {
            "marker": {
             "line": {
              "color": "#E5ECF6",
              "width": 0.5
             },
             "pattern": {
              "fillmode": "overlay",
              "size": 10,
              "solidity": 0.2
             }
            },
            "type": "barpolar"
           }
          ],
          "carpet": [
           {
            "aaxis": {
             "endlinecolor": "#2a3f5f",
             "gridcolor": "white",
             "linecolor": "white",
             "minorgridcolor": "white",
             "startlinecolor": "#2a3f5f"
            },
            "baxis": {
             "endlinecolor": "#2a3f5f",
             "gridcolor": "white",
             "linecolor": "white",
             "minorgridcolor": "white",
             "startlinecolor": "#2a3f5f"
            },
            "type": "carpet"
           }
          ],
          "choropleth": [
           {
            "colorbar": {
             "outlinewidth": 0,
             "ticks": ""
            },
            "type": "choropleth"
           }
          ],
          "contour": [
           {
            "colorbar": {
             "outlinewidth": 0,
             "ticks": ""
            },
            "colorscale": [
             [
              0,
              "#0d0887"
             ],
             [
              0.1111111111111111,
              "#46039f"
             ],
             [
              0.2222222222222222,
              "#7201a8"
             ],
             [
              0.3333333333333333,
              "#9c179e"
             ],
             [
              0.4444444444444444,
              "#bd3786"
             ],
             [
              0.5555555555555556,
              "#d8576b"
             ],
             [
              0.6666666666666666,
              "#ed7953"
             ],
             [
              0.7777777777777778,
              "#fb9f3a"
             ],
             [
              0.8888888888888888,
              "#fdca26"
             ],
             [
              1,
              "#f0f921"
             ]
            ],
            "type": "contour"
           }
          ],
          "contourcarpet": [
           {
            "colorbar": {
             "outlinewidth": 0,
             "ticks": ""
            },
            "type": "contourcarpet"
           }
          ],
          "heatmap": [
           {
            "colorbar": {
             "outlinewidth": 0,
             "ticks": ""
            },
            "colorscale": [
             [
              0,
              "#0d0887"
             ],
             [
              0.1111111111111111,
              "#46039f"
             ],
             [
              0.2222222222222222,
              "#7201a8"
             ],
             [
              0.3333333333333333,
              "#9c179e"
             ],
             [
              0.4444444444444444,
              "#bd3786"
             ],
             [
              0.5555555555555556,
              "#d8576b"
             ],
             [
              0.6666666666666666,
              "#ed7953"
             ],
             [
              0.7777777777777778,
              "#fb9f3a"
             ],
             [
              0.8888888888888888,
              "#fdca26"
             ],
             [
              1,
              "#f0f921"
             ]
            ],
            "type": "heatmap"
           }
          ],
          "heatmapgl": [
           {
            "colorbar": {
             "outlinewidth": 0,
             "ticks": ""
            },
            "colorscale": [
             [
              0,
              "#0d0887"
             ],
             [
              0.1111111111111111,
              "#46039f"
             ],
             [
              0.2222222222222222,
              "#7201a8"
             ],
             [
              0.3333333333333333,
              "#9c179e"
             ],
             [
              0.4444444444444444,
              "#bd3786"
             ],
             [
              0.5555555555555556,
              "#d8576b"
             ],
             [
              0.6666666666666666,
              "#ed7953"
             ],
             [
              0.7777777777777778,
              "#fb9f3a"
             ],
             [
              0.8888888888888888,
              "#fdca26"
             ],
             [
              1,
              "#f0f921"
             ]
            ],
            "type": "heatmapgl"
           }
          ],
          "histogram": [
           {
            "marker": {
             "pattern": {
              "fillmode": "overlay",
              "size": 10,
              "solidity": 0.2
             }
            },
            "type": "histogram"
           }
          ],
          "histogram2d": [
           {
            "colorbar": {
             "outlinewidth": 0,
             "ticks": ""
            },
            "colorscale": [
             [
              0,
              "#0d0887"
             ],
             [
              0.1111111111111111,
              "#46039f"
             ],
             [
              0.2222222222222222,
              "#7201a8"
             ],
             [
              0.3333333333333333,
              "#9c179e"
             ],
             [
              0.4444444444444444,
              "#bd3786"
             ],
             [
              0.5555555555555556,
              "#d8576b"
             ],
             [
              0.6666666666666666,
              "#ed7953"
             ],
             [
              0.7777777777777778,
              "#fb9f3a"
             ],
             [
              0.8888888888888888,
              "#fdca26"
             ],
             [
              1,
              "#f0f921"
             ]
            ],
            "type": "histogram2d"
           }
          ],
          "histogram2dcontour": [
           {
            "colorbar": {
             "outlinewidth": 0,
             "ticks": ""
            },
            "colorscale": [
             [
              0,
              "#0d0887"
             ],
             [
              0.1111111111111111,
              "#46039f"
             ],
             [
              0.2222222222222222,
              "#7201a8"
             ],
             [
              0.3333333333333333,
              "#9c179e"
             ],
             [
              0.4444444444444444,
              "#bd3786"
             ],
             [
              0.5555555555555556,
              "#d8576b"
             ],
             [
              0.6666666666666666,
              "#ed7953"
             ],
             [
              0.7777777777777778,
              "#fb9f3a"
             ],
             [
              0.8888888888888888,
              "#fdca26"
             ],
             [
              1,
              "#f0f921"
             ]
            ],
            "type": "histogram2dcontour"
           }
          ],
          "mesh3d": [
           {
            "colorbar": {
             "outlinewidth": 0,
             "ticks": ""
            },
            "type": "mesh3d"
           }
          ],
          "parcoords": [
           {
            "line": {
             "colorbar": {
              "outlinewidth": 0,
              "ticks": ""
             }
            },
            "type": "parcoords"
           }
          ],
          "pie": [
           {
            "automargin": true,
            "type": "pie"
           }
          ],
          "scatter": [
           {
            "fillpattern": {
             "fillmode": "overlay",
             "size": 10,
             "solidity": 0.2
            },
            "type": "scatter"
           }
          ],
          "scatter3d": [
           {
            "line": {
             "colorbar": {
              "outlinewidth": 0,
              "ticks": ""
             }
            },
            "marker": {
             "colorbar": {
              "outlinewidth": 0,
              "ticks": ""
             }
            },
            "type": "scatter3d"
           }
          ],
          "scattercarpet": [
           {
            "marker": {
             "colorbar": {
              "outlinewidth": 0,
              "ticks": ""
             }
            },
            "type": "scattercarpet"
           }
          ],
          "scattergeo": [
           {
            "marker": {
             "colorbar": {
              "outlinewidth": 0,
              "ticks": ""
             }
            },
            "type": "scattergeo"
           }
          ],
          "scattergl": [
           {
            "marker": {
             "colorbar": {
              "outlinewidth": 0,
              "ticks": ""
             }
            },
            "type": "scattergl"
           }
          ],
          "scattermapbox": [
           {
            "marker": {
             "colorbar": {
              "outlinewidth": 0,
              "ticks": ""
             }
            },
            "type": "scattermapbox"
           }
          ],
          "scatterpolar": [
           {
            "marker": {
             "colorbar": {
              "outlinewidth": 0,
              "ticks": ""
             }
            },
            "type": "scatterpolar"
           }
          ],
          "scatterpolargl": [
           {
            "marker": {
             "colorbar": {
              "outlinewidth": 0,
              "ticks": ""
             }
            },
            "type": "scatterpolargl"
           }
          ],
          "scatterternary": [
           {
            "marker": {
             "colorbar": {
              "outlinewidth": 0,
              "ticks": ""
             }
            },
            "type": "scatterternary"
           }
          ],
          "surface": [
           {
            "colorbar": {
             "outlinewidth": 0,
             "ticks": ""
            },
            "colorscale": [
             [
              0,
              "#0d0887"
             ],
             [
              0.1111111111111111,
              "#46039f"
             ],
             [
              0.2222222222222222,
              "#7201a8"
             ],
             [
              0.3333333333333333,
              "#9c179e"
             ],
             [
              0.4444444444444444,
              "#bd3786"
             ],
             [
              0.5555555555555556,
              "#d8576b"
             ],
             [
              0.6666666666666666,
              "#ed7953"
             ],
             [
              0.7777777777777778,
              "#fb9f3a"
             ],
             [
              0.8888888888888888,
              "#fdca26"
             ],
             [
              1,
              "#f0f921"
             ]
            ],
            "type": "surface"
           }
          ],
          "table": [
           {
            "cells": {
             "fill": {
              "color": "#EBF0F8"
             },
             "line": {
              "color": "white"
             }
            },
            "header": {
             "fill": {
              "color": "#C8D4E3"
             },
             "line": {
              "color": "white"
             }
            },
            "type": "table"
           }
          ]
         },
         "layout": {
          "annotationdefaults": {
           "arrowcolor": "#2a3f5f",
           "arrowhead": 0,
           "arrowwidth": 1
          },
          "autotypenumbers": "strict",
          "coloraxis": {
           "colorbar": {
            "outlinewidth": 0,
            "ticks": ""
           }
          },
          "colorscale": {
           "diverging": [
            [
             0,
             "#8e0152"
            ],
            [
             0.1,
             "#c51b7d"
            ],
            [
             0.2,
             "#de77ae"
            ],
            [
             0.3,
             "#f1b6da"
            ],
            [
             0.4,
             "#fde0ef"
            ],
            [
             0.5,
             "#f7f7f7"
            ],
            [
             0.6,
             "#e6f5d0"
            ],
            [
             0.7,
             "#b8e186"
            ],
            [
             0.8,
             "#7fbc41"
            ],
            [
             0.9,
             "#4d9221"
            ],
            [
             1,
             "#276419"
            ]
           ],
           "sequential": [
            [
             0,
             "#0d0887"
            ],
            [
             0.1111111111111111,
             "#46039f"
            ],
            [
             0.2222222222222222,
             "#7201a8"
            ],
            [
             0.3333333333333333,
             "#9c179e"
            ],
            [
             0.4444444444444444,
             "#bd3786"
            ],
            [
             0.5555555555555556,
             "#d8576b"
            ],
            [
             0.6666666666666666,
             "#ed7953"
            ],
            [
             0.7777777777777778,
             "#fb9f3a"
            ],
            [
             0.8888888888888888,
             "#fdca26"
            ],
            [
             1,
             "#f0f921"
            ]
           ],
           "sequentialminus": [
            [
             0,
             "#0d0887"
            ],
            [
             0.1111111111111111,
             "#46039f"
            ],
            [
             0.2222222222222222,
             "#7201a8"
            ],
            [
             0.3333333333333333,
             "#9c179e"
            ],
            [
             0.4444444444444444,
             "#bd3786"
            ],
            [
             0.5555555555555556,
             "#d8576b"
            ],
            [
             0.6666666666666666,
             "#ed7953"
            ],
            [
             0.7777777777777778,
             "#fb9f3a"
            ],
            [
             0.8888888888888888,
             "#fdca26"
            ],
            [
             1,
             "#f0f921"
            ]
           ]
          },
          "colorway": [
           "#636efa",
           "#EF553B",
           "#00cc96",
           "#ab63fa",
           "#FFA15A",
           "#19d3f3",
           "#FF6692",
           "#B6E880",
           "#FF97FF",
           "#FECB52"
          ],
          "font": {
           "color": "#2a3f5f"
          },
          "geo": {
           "bgcolor": "white",
           "lakecolor": "white",
           "landcolor": "#E5ECF6",
           "showlakes": true,
           "showland": true,
           "subunitcolor": "white"
          },
          "hoverlabel": {
           "align": "left"
          },
          "hovermode": "closest",
          "mapbox": {
           "style": "light"
          },
          "paper_bgcolor": "white",
          "plot_bgcolor": "#E5ECF6",
          "polar": {
           "angularaxis": {
            "gridcolor": "white",
            "linecolor": "white",
            "ticks": ""
           },
           "bgcolor": "#E5ECF6",
           "radialaxis": {
            "gridcolor": "white",
            "linecolor": "white",
            "ticks": ""
           }
          },
          "scene": {
           "xaxis": {
            "backgroundcolor": "#E5ECF6",
            "gridcolor": "white",
            "gridwidth": 2,
            "linecolor": "white",
            "showbackground": true,
            "ticks": "",
            "zerolinecolor": "white"
           },
           "yaxis": {
            "backgroundcolor": "#E5ECF6",
            "gridcolor": "white",
            "gridwidth": 2,
            "linecolor": "white",
            "showbackground": true,
            "ticks": "",
            "zerolinecolor": "white"
           },
           "zaxis": {
            "backgroundcolor": "#E5ECF6",
            "gridcolor": "white",
            "gridwidth": 2,
            "linecolor": "white",
            "showbackground": true,
            "ticks": "",
            "zerolinecolor": "white"
           }
          },
          "shapedefaults": {
           "line": {
            "color": "#2a3f5f"
           }
          },
          "ternary": {
           "aaxis": {
            "gridcolor": "white",
            "linecolor": "white",
            "ticks": ""
           },
           "baxis": {
            "gridcolor": "white",
            "linecolor": "white",
            "ticks": ""
           },
           "bgcolor": "#E5ECF6",
           "caxis": {
            "gridcolor": "white",
            "linecolor": "white",
            "ticks": ""
           }
          },
          "title": {
           "x": 0.05
          },
          "xaxis": {
           "automargin": true,
           "gridcolor": "white",
           "linecolor": "white",
           "ticks": "",
           "title": {
            "standoff": 15
           },
           "zerolinecolor": "white",
           "zerolinewidth": 2
          },
          "yaxis": {
           "automargin": true,
           "gridcolor": "white",
           "linecolor": "white",
           "ticks": "",
           "title": {
            "standoff": 15
           },
           "zerolinecolor": "white",
           "zerolinewidth": 2
          }
         }
        },
        "xaxis": {
         "anchor": "y",
         "domain": [
          0,
          1
         ],
         "title": {
          "text": "date"
         }
        },
        "yaxis": {
         "anchor": "x",
         "domain": [
          0,
          1
         ],
         "title": {
          "text": "Artificial Intelligence"
         }
        }
       }
      }
     },
     "metadata": {},
     "output_type": "display_data"
    }
   ],
   "source": [
    "fig = px.line(dataInd, x=dataInd.index, y='Artificial Intelligence')\n",
    "fig.show()"
   ]
  },
  {
   "cell_type": "code",
   "execution_count": null,
   "metadata": {},
   "outputs": [],
   "source": []
  }
 ],
 "metadata": {
  "kernelspec": {
   "display_name": "Python 3",
   "language": "python",
   "name": "python3"
  },
  "language_info": {
   "codemirror_mode": {
    "name": "ipython",
    "version": 3
   },
   "file_extension": ".py",
   "mimetype": "text/x-python",
   "name": "python",
   "nbconvert_exporter": "python",
   "pygments_lexer": "ipython3",
   "version": "3.10.8"
  },
  "orig_nbformat": 4,
  "vscode": {
   "interpreter": {
    "hash": "a9cff5a362bc38ef45d817ae74b1af54d6a076e3d773891282bce078b815ba34"
   }
  }
 },
 "nbformat": 4,
 "nbformat_minor": 2
}
