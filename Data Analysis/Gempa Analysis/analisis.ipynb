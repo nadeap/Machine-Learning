{
 "cells": [
  {
   "attachments": {},
   "cell_type": "markdown",
   "metadata": {},
   "source": [
    "Sumber Dataset: https://www.kaggle.com/datasets/kekavigi/earthquakes-in-indonesia"
   ]
  },
  {
   "attachments": {},
   "cell_type": "markdown",
   "metadata": {},
   "source": [
    "### Install Library"
   ]
  },
  {
   "cell_type": "code",
   "execution_count": 1,
   "metadata": {},
   "outputs": [],
   "source": [
    "import pandas as pd\n",
    "import numpy as np\n",
    "import matplotlib.pyplot as plt\n",
    "import seaborn as sns"
   ]
  },
  {
   "cell_type": "code",
   "execution_count": 2,
   "metadata": {},
   "outputs": [
    {
     "data": {
      "text/html": [
       "<div>\n",
       "<style scoped>\n",
       "    .dataframe tbody tr th:only-of-type {\n",
       "        vertical-align: middle;\n",
       "    }\n",
       "\n",
       "    .dataframe tbody tr th {\n",
       "        vertical-align: top;\n",
       "    }\n",
       "\n",
       "    .dataframe thead th {\n",
       "        text-align: right;\n",
       "    }\n",
       "</style>\n",
       "<table border=\"1\" class=\"dataframe\">\n",
       "  <thead>\n",
       "    <tr style=\"text-align: right;\">\n",
       "      <th></th>\n",
       "      <th>tgl</th>\n",
       "      <th>ot</th>\n",
       "      <th>lat</th>\n",
       "      <th>lon</th>\n",
       "      <th>depth</th>\n",
       "      <th>mag</th>\n",
       "      <th>remark</th>\n",
       "      <th>strike1</th>\n",
       "      <th>dip1</th>\n",
       "      <th>rake1</th>\n",
       "      <th>strike2</th>\n",
       "      <th>dip2</th>\n",
       "      <th>rake2</th>\n",
       "    </tr>\n",
       "  </thead>\n",
       "  <tbody>\n",
       "    <tr>\n",
       "      <th>0</th>\n",
       "      <td>2008/11/01</td>\n",
       "      <td>21:02:43.058</td>\n",
       "      <td>-9.18</td>\n",
       "      <td>119.06</td>\n",
       "      <td>10</td>\n",
       "      <td>4.9</td>\n",
       "      <td>Sumba Region - Indonesia</td>\n",
       "      <td>NaN</td>\n",
       "      <td>NaN</td>\n",
       "      <td>NaN</td>\n",
       "      <td>NaN</td>\n",
       "      <td>NaN</td>\n",
       "      <td>NaN</td>\n",
       "    </tr>\n",
       "    <tr>\n",
       "      <th>1</th>\n",
       "      <td>2008/11/01</td>\n",
       "      <td>20:58:50.248</td>\n",
       "      <td>-6.55</td>\n",
       "      <td>129.64</td>\n",
       "      <td>10</td>\n",
       "      <td>4.6</td>\n",
       "      <td>Banda Sea</td>\n",
       "      <td>NaN</td>\n",
       "      <td>NaN</td>\n",
       "      <td>NaN</td>\n",
       "      <td>NaN</td>\n",
       "      <td>NaN</td>\n",
       "      <td>NaN</td>\n",
       "    </tr>\n",
       "    <tr>\n",
       "      <th>2</th>\n",
       "      <td>2008/11/01</td>\n",
       "      <td>17:43:12.941</td>\n",
       "      <td>-7.01</td>\n",
       "      <td>106.63</td>\n",
       "      <td>121</td>\n",
       "      <td>3.7</td>\n",
       "      <td>Java - Indonesia</td>\n",
       "      <td>NaN</td>\n",
       "      <td>NaN</td>\n",
       "      <td>NaN</td>\n",
       "      <td>NaN</td>\n",
       "      <td>NaN</td>\n",
       "      <td>NaN</td>\n",
       "    </tr>\n",
       "    <tr>\n",
       "      <th>3</th>\n",
       "      <td>2008/11/01</td>\n",
       "      <td>16:24:14.755</td>\n",
       "      <td>-3.30</td>\n",
       "      <td>127.85</td>\n",
       "      <td>10</td>\n",
       "      <td>3.2</td>\n",
       "      <td>Seram - Indonesia</td>\n",
       "      <td>NaN</td>\n",
       "      <td>NaN</td>\n",
       "      <td>NaN</td>\n",
       "      <td>NaN</td>\n",
       "      <td>NaN</td>\n",
       "      <td>NaN</td>\n",
       "    </tr>\n",
       "    <tr>\n",
       "      <th>4</th>\n",
       "      <td>2008/11/01</td>\n",
       "      <td>16:20:37.327</td>\n",
       "      <td>-6.41</td>\n",
       "      <td>129.54</td>\n",
       "      <td>70</td>\n",
       "      <td>4.3</td>\n",
       "      <td>Banda Sea</td>\n",
       "      <td>NaN</td>\n",
       "      <td>NaN</td>\n",
       "      <td>NaN</td>\n",
       "      <td>NaN</td>\n",
       "      <td>NaN</td>\n",
       "      <td>NaN</td>\n",
       "    </tr>\n",
       "  </tbody>\n",
       "</table>\n",
       "</div>"
      ],
      "text/plain": [
       "          tgl            ot   lat     lon  depth  mag  \\\n",
       "0  2008/11/01  21:02:43.058 -9.18  119.06     10  4.9   \n",
       "1  2008/11/01  20:58:50.248 -6.55  129.64     10  4.6   \n",
       "2  2008/11/01  17:43:12.941 -7.01  106.63    121  3.7   \n",
       "3  2008/11/01  16:24:14.755 -3.30  127.85     10  3.2   \n",
       "4  2008/11/01  16:20:37.327 -6.41  129.54     70  4.3   \n",
       "\n",
       "                     remark  strike1  dip1  rake1  strike2  dip2  rake2  \n",
       "0  Sumba Region - Indonesia      NaN   NaN    NaN      NaN   NaN    NaN  \n",
       "1                 Banda Sea      NaN   NaN    NaN      NaN   NaN    NaN  \n",
       "2          Java - Indonesia      NaN   NaN    NaN      NaN   NaN    NaN  \n",
       "3         Seram - Indonesia      NaN   NaN    NaN      NaN   NaN    NaN  \n",
       "4                 Banda Sea      NaN   NaN    NaN      NaN   NaN    NaN  "
      ]
     },
     "execution_count": 2,
     "metadata": {},
     "output_type": "execute_result"
    }
   ],
   "source": [
    "data = pd.read_csv('katalog_gempa.csv')\n",
    "data.head()"
   ]
  },
  {
   "cell_type": "code",
   "execution_count": 3,
   "metadata": {},
   "outputs": [],
   "source": [
    "data = data.drop(columns=['strike1', 'dip1', 'rake1', 'strike2', 'dip2', 'rake2'])"
   ]
  },
  {
   "cell_type": "code",
   "execution_count": 4,
   "metadata": {},
   "outputs": [
    {
     "data": {
      "text/html": [
       "<div>\n",
       "<style scoped>\n",
       "    .dataframe tbody tr th:only-of-type {\n",
       "        vertical-align: middle;\n",
       "    }\n",
       "\n",
       "    .dataframe tbody tr th {\n",
       "        vertical-align: top;\n",
       "    }\n",
       "\n",
       "    .dataframe thead th {\n",
       "        text-align: right;\n",
       "    }\n",
       "</style>\n",
       "<table border=\"1\" class=\"dataframe\">\n",
       "  <thead>\n",
       "    <tr style=\"text-align: right;\">\n",
       "      <th></th>\n",
       "      <th>tgl</th>\n",
       "      <th>ot</th>\n",
       "      <th>lat</th>\n",
       "      <th>lon</th>\n",
       "      <th>depth</th>\n",
       "      <th>mag</th>\n",
       "      <th>remark</th>\n",
       "    </tr>\n",
       "  </thead>\n",
       "  <tbody>\n",
       "    <tr>\n",
       "      <th>0</th>\n",
       "      <td>2008/11/01</td>\n",
       "      <td>21:02:43.058</td>\n",
       "      <td>-9.18</td>\n",
       "      <td>119.06</td>\n",
       "      <td>10</td>\n",
       "      <td>4.9</td>\n",
       "      <td>Sumba Region - Indonesia</td>\n",
       "    </tr>\n",
       "    <tr>\n",
       "      <th>1</th>\n",
       "      <td>2008/11/01</td>\n",
       "      <td>20:58:50.248</td>\n",
       "      <td>-6.55</td>\n",
       "      <td>129.64</td>\n",
       "      <td>10</td>\n",
       "      <td>4.6</td>\n",
       "      <td>Banda Sea</td>\n",
       "    </tr>\n",
       "    <tr>\n",
       "      <th>2</th>\n",
       "      <td>2008/11/01</td>\n",
       "      <td>17:43:12.941</td>\n",
       "      <td>-7.01</td>\n",
       "      <td>106.63</td>\n",
       "      <td>121</td>\n",
       "      <td>3.7</td>\n",
       "      <td>Java - Indonesia</td>\n",
       "    </tr>\n",
       "    <tr>\n",
       "      <th>3</th>\n",
       "      <td>2008/11/01</td>\n",
       "      <td>16:24:14.755</td>\n",
       "      <td>-3.30</td>\n",
       "      <td>127.85</td>\n",
       "      <td>10</td>\n",
       "      <td>3.2</td>\n",
       "      <td>Seram - Indonesia</td>\n",
       "    </tr>\n",
       "    <tr>\n",
       "      <th>4</th>\n",
       "      <td>2008/11/01</td>\n",
       "      <td>16:20:37.327</td>\n",
       "      <td>-6.41</td>\n",
       "      <td>129.54</td>\n",
       "      <td>70</td>\n",
       "      <td>4.3</td>\n",
       "      <td>Banda Sea</td>\n",
       "    </tr>\n",
       "  </tbody>\n",
       "</table>\n",
       "</div>"
      ],
      "text/plain": [
       "          tgl            ot   lat     lon  depth  mag  \\\n",
       "0  2008/11/01  21:02:43.058 -9.18  119.06     10  4.9   \n",
       "1  2008/11/01  20:58:50.248 -6.55  129.64     10  4.6   \n",
       "2  2008/11/01  17:43:12.941 -7.01  106.63    121  3.7   \n",
       "3  2008/11/01  16:24:14.755 -3.30  127.85     10  3.2   \n",
       "4  2008/11/01  16:20:37.327 -6.41  129.54     70  4.3   \n",
       "\n",
       "                     remark  \n",
       "0  Sumba Region - Indonesia  \n",
       "1                 Banda Sea  \n",
       "2          Java - Indonesia  \n",
       "3         Seram - Indonesia  \n",
       "4                 Banda Sea  "
      ]
     },
     "execution_count": 4,
     "metadata": {},
     "output_type": "execute_result"
    }
   ],
   "source": [
    "data.head()"
   ]
  },
  {
   "attachments": {},
   "cell_type": "markdown",
   "metadata": {},
   "source": [
    "### Data Exploration"
   ]
  },
  {
   "cell_type": "code",
   "execution_count": 5,
   "metadata": {},
   "outputs": [
    {
     "data": {
      "text/plain": [
       "(92227, 7)"
      ]
     },
     "execution_count": 5,
     "metadata": {},
     "output_type": "execute_result"
    }
   ],
   "source": [
    "data.shape"
   ]
  },
  {
   "cell_type": "code",
   "execution_count": 6,
   "metadata": {},
   "outputs": [
    {
     "name": "stdout",
     "output_type": "stream",
     "text": [
      "<class 'pandas.core.frame.DataFrame'>\n",
      "RangeIndex: 92227 entries, 0 to 92226\n",
      "Data columns (total 7 columns):\n",
      " #   Column  Non-Null Count  Dtype  \n",
      "---  ------  --------------  -----  \n",
      " 0   tgl     92227 non-null  object \n",
      " 1   ot      92227 non-null  object \n",
      " 2   lat     92227 non-null  float64\n",
      " 3   lon     92227 non-null  float64\n",
      " 4   depth   92227 non-null  int64  \n",
      " 5   mag     92227 non-null  float64\n",
      " 6   remark  92227 non-null  object \n",
      "dtypes: float64(3), int64(1), object(3)\n",
      "memory usage: 4.9+ MB\n"
     ]
    }
   ],
   "source": [
    "data.info()"
   ]
  },
  {
   "cell_type": "code",
   "execution_count": 7,
   "metadata": {},
   "outputs": [],
   "source": [
    "data['tgl'] = pd.to_datetime(data['tgl'])"
   ]
  },
  {
   "cell_type": "code",
   "execution_count": 8,
   "metadata": {},
   "outputs": [
    {
     "name": "stdout",
     "output_type": "stream",
     "text": [
      "<class 'pandas.core.frame.DataFrame'>\n",
      "RangeIndex: 92227 entries, 0 to 92226\n",
      "Data columns (total 7 columns):\n",
      " #   Column  Non-Null Count  Dtype         \n",
      "---  ------  --------------  -----         \n",
      " 0   tgl     92227 non-null  datetime64[ns]\n",
      " 1   ot      92227 non-null  object        \n",
      " 2   lat     92227 non-null  float64       \n",
      " 3   lon     92227 non-null  float64       \n",
      " 4   depth   92227 non-null  int64         \n",
      " 5   mag     92227 non-null  float64       \n",
      " 6   remark  92227 non-null  object        \n",
      "dtypes: datetime64[ns](1), float64(3), int64(1), object(2)\n",
      "memory usage: 4.9+ MB\n"
     ]
    }
   ],
   "source": [
    "data.info()"
   ]
  },
  {
   "cell_type": "code",
   "execution_count": 9,
   "metadata": {},
   "outputs": [
    {
     "data": {
      "text/plain": [
       "tgl       0\n",
       "ot        0\n",
       "lat       0\n",
       "lon       0\n",
       "depth     0\n",
       "mag       0\n",
       "remark    0\n",
       "dtype: int64"
      ]
     },
     "execution_count": 9,
     "metadata": {},
     "output_type": "execute_result"
    }
   ],
   "source": [
    "data.isnull().sum()"
   ]
  },
  {
   "cell_type": "code",
   "execution_count": 12,
   "metadata": {},
   "outputs": [
    {
     "data": {
      "text/plain": [
       "4398"
      ]
     },
     "execution_count": 12,
     "metadata": {},
     "output_type": "execute_result"
    }
   ],
   "source": [
    "data['tgl'].nunique()"
   ]
  },
  {
   "cell_type": "code",
   "execution_count": 13,
   "metadata": {},
   "outputs": [
    {
     "data": {
      "text/plain": [
       "654"
      ]
     },
     "execution_count": 13,
     "metadata": {},
     "output_type": "execute_result"
    }
   ],
   "source": [
    "data['depth'].nunique()"
   ]
  },
  {
   "cell_type": "code",
   "execution_count": 14,
   "metadata": {},
   "outputs": [
    {
     "data": {
      "text/plain": [
       "67"
      ]
     },
     "execution_count": 14,
     "metadata": {},
     "output_type": "execute_result"
    }
   ],
   "source": [
    "data['mag'].nunique()"
   ]
  },
  {
   "cell_type": "code",
   "execution_count": 15,
   "metadata": {},
   "outputs": [
    {
     "data": {
      "text/plain": [
       "51"
      ]
     },
     "execution_count": 15,
     "metadata": {},
     "output_type": "execute_result"
    }
   ],
   "source": [
    "data['remark'].nunique()"
   ]
  },
  {
   "cell_type": "code",
   "execution_count": null,
   "metadata": {},
   "outputs": [],
   "source": []
  }
 ],
 "metadata": {
  "kernelspec": {
   "display_name": "Python 3",
   "language": "python",
   "name": "python3"
  },
  "language_info": {
   "codemirror_mode": {
    "name": "ipython",
    "version": 3
   },
   "file_extension": ".py",
   "mimetype": "text/x-python",
   "name": "python",
   "nbconvert_exporter": "python",
   "pygments_lexer": "ipython3",
   "version": "3.10.8"
  },
  "orig_nbformat": 4,
  "vscode": {
   "interpreter": {
    "hash": "a9cff5a362bc38ef45d817ae74b1af54d6a076e3d773891282bce078b815ba34"
   }
  }
 },
 "nbformat": 4,
 "nbformat_minor": 2
}
