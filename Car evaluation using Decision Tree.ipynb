{
 "cells": [
  {
   "cell_type": "markdown",
   "id": "857528cb",
   "metadata": {},
   "source": [
    "Modifikasi Tugas Praktik AI Fundamental\n",
    "\n",
    "Nadea Putri Nur Fauzi - Ular\n",
    "\n",
    "Klasifikasi Mobil Menggunakan Decision Tree\n",
    "\n",
    "Dataset : https://raw.githubusercontent.com/Wayan123/dataset-ml/main/car_evaluation.csv"
   ]
  },
  {
   "cell_type": "markdown",
   "id": "57250613",
   "metadata": {},
   "source": [
    "### Step 1 (Import Library)"
   ]
  },
  {
   "cell_type": "code",
   "execution_count": 38,
   "id": "016c8144",
   "metadata": {},
   "outputs": [],
   "source": [
    "import pandas as pd\n",
    "import matplotlib.pyplot as plt\n",
    "import numpy as np\n",
    "import seaborn as sns\n",
    "%matplotlib inline\n",
    "import warnings\n",
    "warnings.filterwarnings('ignore')"
   ]
  },
  {
   "cell_type": "markdown",
   "id": "a214dbfc",
   "metadata": {},
   "source": [
    "### Step 2 (Open Dataset)"
   ]
  },
  {
   "cell_type": "code",
   "execution_count": 39,
   "id": "d91b6b5a",
   "metadata": {},
   "outputs": [
    {
     "data": {
      "text/html": [
       "<div>\n",
       "<style scoped>\n",
       "    .dataframe tbody tr th:only-of-type {\n",
       "        vertical-align: middle;\n",
       "    }\n",
       "\n",
       "    .dataframe tbody tr th {\n",
       "        vertical-align: top;\n",
       "    }\n",
       "\n",
       "    .dataframe thead th {\n",
       "        text-align: right;\n",
       "    }\n",
       "</style>\n",
       "<table border=\"1\" class=\"dataframe\">\n",
       "  <thead>\n",
       "    <tr style=\"text-align: right;\">\n",
       "      <th></th>\n",
       "      <th>0</th>\n",
       "      <th>1</th>\n",
       "      <th>2</th>\n",
       "      <th>3</th>\n",
       "      <th>4</th>\n",
       "      <th>5</th>\n",
       "      <th>6</th>\n",
       "    </tr>\n",
       "  </thead>\n",
       "  <tbody>\n",
       "    <tr>\n",
       "      <th>0</th>\n",
       "      <td>vhigh</td>\n",
       "      <td>vhigh</td>\n",
       "      <td>2</td>\n",
       "      <td>2</td>\n",
       "      <td>small</td>\n",
       "      <td>low</td>\n",
       "      <td>unacc</td>\n",
       "    </tr>\n",
       "    <tr>\n",
       "      <th>1</th>\n",
       "      <td>vhigh</td>\n",
       "      <td>vhigh</td>\n",
       "      <td>2</td>\n",
       "      <td>2</td>\n",
       "      <td>small</td>\n",
       "      <td>med</td>\n",
       "      <td>unacc</td>\n",
       "    </tr>\n",
       "    <tr>\n",
       "      <th>2</th>\n",
       "      <td>vhigh</td>\n",
       "      <td>vhigh</td>\n",
       "      <td>2</td>\n",
       "      <td>2</td>\n",
       "      <td>small</td>\n",
       "      <td>high</td>\n",
       "      <td>unacc</td>\n",
       "    </tr>\n",
       "    <tr>\n",
       "      <th>3</th>\n",
       "      <td>vhigh</td>\n",
       "      <td>vhigh</td>\n",
       "      <td>2</td>\n",
       "      <td>2</td>\n",
       "      <td>med</td>\n",
       "      <td>low</td>\n",
       "      <td>unacc</td>\n",
       "    </tr>\n",
       "    <tr>\n",
       "      <th>4</th>\n",
       "      <td>vhigh</td>\n",
       "      <td>vhigh</td>\n",
       "      <td>2</td>\n",
       "      <td>2</td>\n",
       "      <td>med</td>\n",
       "      <td>med</td>\n",
       "      <td>unacc</td>\n",
       "    </tr>\n",
       "  </tbody>\n",
       "</table>\n",
       "</div>"
      ],
      "text/plain": [
       "       0      1  2  3      4     5      6\n",
       "0  vhigh  vhigh  2  2  small   low  unacc\n",
       "1  vhigh  vhigh  2  2  small   med  unacc\n",
       "2  vhigh  vhigh  2  2  small  high  unacc\n",
       "3  vhigh  vhigh  2  2    med   low  unacc\n",
       "4  vhigh  vhigh  2  2    med   med  unacc"
      ]
     },
     "execution_count": 39,
     "metadata": {},
     "output_type": "execute_result"
    }
   ],
   "source": [
    "url = 'https://raw.githubusercontent.com/Wayan123/dataset-ml/main/car_evaluation.csv'\n",
    "data = pd.read_csv(url, header=None)\n",
    "data.head()"
   ]
  },
  {
   "cell_type": "markdown",
   "id": "e8d83129",
   "metadata": {},
   "source": [
    "### Step 3 (Explorartory Data Analysis)"
   ]
  },
  {
   "cell_type": "code",
   "execution_count": 40,
   "id": "b0f2aadb",
   "metadata": {},
   "outputs": [
    {
     "data": {
      "text/plain": [
       "['buying', 'maint', 'doors', 'persons', 'lug_boot', 'safety', 'class']"
      ]
     },
     "execution_count": 40,
     "metadata": {},
     "output_type": "execute_result"
    }
   ],
   "source": [
    "#memberi nama kolom\n",
    "col_names = ['buying', 'maint', 'doors', 'persons', 'lug_boot', 'safety', 'class']\n",
    "data.columns = col_names\n",
    "col_names"
   ]
  },
  {
   "cell_type": "code",
   "execution_count": 41,
   "id": "09641a96",
   "metadata": {},
   "outputs": [
    {
     "data": {
      "text/html": [
       "<div>\n",
       "<style scoped>\n",
       "    .dataframe tbody tr th:only-of-type {\n",
       "        vertical-align: middle;\n",
       "    }\n",
       "\n",
       "    .dataframe tbody tr th {\n",
       "        vertical-align: top;\n",
       "    }\n",
       "\n",
       "    .dataframe thead th {\n",
       "        text-align: right;\n",
       "    }\n",
       "</style>\n",
       "<table border=\"1\" class=\"dataframe\">\n",
       "  <thead>\n",
       "    <tr style=\"text-align: right;\">\n",
       "      <th></th>\n",
       "      <th>buying</th>\n",
       "      <th>maint</th>\n",
       "      <th>doors</th>\n",
       "      <th>persons</th>\n",
       "      <th>lug_boot</th>\n",
       "      <th>safety</th>\n",
       "      <th>class</th>\n",
       "    </tr>\n",
       "  </thead>\n",
       "  <tbody>\n",
       "    <tr>\n",
       "      <th>0</th>\n",
       "      <td>vhigh</td>\n",
       "      <td>vhigh</td>\n",
       "      <td>2</td>\n",
       "      <td>2</td>\n",
       "      <td>small</td>\n",
       "      <td>low</td>\n",
       "      <td>unacc</td>\n",
       "    </tr>\n",
       "    <tr>\n",
       "      <th>1</th>\n",
       "      <td>vhigh</td>\n",
       "      <td>vhigh</td>\n",
       "      <td>2</td>\n",
       "      <td>2</td>\n",
       "      <td>small</td>\n",
       "      <td>med</td>\n",
       "      <td>unacc</td>\n",
       "    </tr>\n",
       "    <tr>\n",
       "      <th>2</th>\n",
       "      <td>vhigh</td>\n",
       "      <td>vhigh</td>\n",
       "      <td>2</td>\n",
       "      <td>2</td>\n",
       "      <td>small</td>\n",
       "      <td>high</td>\n",
       "      <td>unacc</td>\n",
       "    </tr>\n",
       "    <tr>\n",
       "      <th>3</th>\n",
       "      <td>vhigh</td>\n",
       "      <td>vhigh</td>\n",
       "      <td>2</td>\n",
       "      <td>2</td>\n",
       "      <td>med</td>\n",
       "      <td>low</td>\n",
       "      <td>unacc</td>\n",
       "    </tr>\n",
       "    <tr>\n",
       "      <th>4</th>\n",
       "      <td>vhigh</td>\n",
       "      <td>vhigh</td>\n",
       "      <td>2</td>\n",
       "      <td>2</td>\n",
       "      <td>med</td>\n",
       "      <td>med</td>\n",
       "      <td>unacc</td>\n",
       "    </tr>\n",
       "  </tbody>\n",
       "</table>\n",
       "</div>"
      ],
      "text/plain": [
       "  buying  maint doors persons lug_boot safety  class\n",
       "0  vhigh  vhigh     2       2    small    low  unacc\n",
       "1  vhigh  vhigh     2       2    small    med  unacc\n",
       "2  vhigh  vhigh     2       2    small   high  unacc\n",
       "3  vhigh  vhigh     2       2      med    low  unacc\n",
       "4  vhigh  vhigh     2       2      med    med  unacc"
      ]
     },
     "execution_count": 41,
     "metadata": {},
     "output_type": "execute_result"
    }
   ],
   "source": [
    "data.head()"
   ]
  },
  {
   "cell_type": "code",
   "execution_count": 42,
   "id": "3bceae5c",
   "metadata": {},
   "outputs": [
    {
     "data": {
      "text/plain": [
       "(1728, 7)"
      ]
     },
     "execution_count": 42,
     "metadata": {},
     "output_type": "execute_result"
    }
   ],
   "source": [
    "data.shape"
   ]
  },
  {
   "cell_type": "code",
   "execution_count": 43,
   "id": "ffb1ab17",
   "metadata": {},
   "outputs": [
    {
     "name": "stdout",
     "output_type": "stream",
     "text": [
      "<class 'pandas.core.frame.DataFrame'>\n",
      "RangeIndex: 1728 entries, 0 to 1727\n",
      "Data columns (total 7 columns):\n",
      " #   Column    Non-Null Count  Dtype \n",
      "---  ------    --------------  ----- \n",
      " 0   buying    1728 non-null   object\n",
      " 1   maint     1728 non-null   object\n",
      " 2   doors     1728 non-null   object\n",
      " 3   persons   1728 non-null   object\n",
      " 4   lug_boot  1728 non-null   object\n",
      " 5   safety    1728 non-null   object\n",
      " 6   class     1728 non-null   object\n",
      "dtypes: object(7)\n",
      "memory usage: 94.6+ KB\n"
     ]
    }
   ],
   "source": [
    "data.info()"
   ]
  },
  {
   "cell_type": "code",
   "execution_count": 44,
   "id": "632e404f",
   "metadata": {},
   "outputs": [
    {
     "name": "stdout",
     "output_type": "stream",
     "text": [
      "vhigh    432\n",
      "high     432\n",
      "med      432\n",
      "low      432\n",
      "Name: buying, dtype: int64\n",
      "vhigh    432\n",
      "high     432\n",
      "med      432\n",
      "low      432\n",
      "Name: maint, dtype: int64\n",
      "2        432\n",
      "3        432\n",
      "4        432\n",
      "5more    432\n",
      "Name: doors, dtype: int64\n",
      "2       576\n",
      "4       576\n",
      "more    576\n",
      "Name: persons, dtype: int64\n",
      "small    576\n",
      "med      576\n",
      "big      576\n",
      "Name: lug_boot, dtype: int64\n",
      "low     576\n",
      "med     576\n",
      "high    576\n",
      "Name: safety, dtype: int64\n",
      "unacc    1210\n",
      "acc       384\n",
      "good       69\n",
      "vgood      65\n",
      "Name: class, dtype: int64\n"
     ]
    }
   ],
   "source": [
    "#melihat isi dan jumlah bagian per kolom\n",
    "col_names = ['buying', 'maint', 'doors', 'persons', 'lug_boot', 'safety', 'class']\n",
    "for col in col_names:\n",
    "    print(data[col].value_counts())"
   ]
  },
  {
   "cell_type": "code",
   "execution_count": 45,
   "id": "a63c82ed",
   "metadata": {},
   "outputs": [
    {
     "data": {
      "text/plain": [
       "<AxesSubplot:xlabel='class', ylabel='count'>"
      ]
     },
     "execution_count": 45,
     "metadata": {},
     "output_type": "execute_result"
    },
    {
     "data": {
      "image/png": "[encoded data removed]",
      "text/plain": [
       "<Figure size 432x288 with 1 Axes>"
      ]
     },
     "metadata": {
      "needs_background": "light"
     },
     "output_type": "display_data"
    }
   ],
   "source": [
    "#melihat grafik kelas \n",
    "sns.countplot(data['class'])"
   ]
  },
  {
   "cell_type": "code",
   "execution_count": 46,
   "id": "3a3686a2",
   "metadata": {},
   "outputs": [
    {
     "data": {
      "text/plain": [
       "buying      0\n",
       "maint       0\n",
       "doors       0\n",
       "persons     0\n",
       "lug_boot    0\n",
       "safety      0\n",
       "class       0\n",
       "dtype: int64"
      ]
     },
     "execution_count": 46,
     "metadata": {},
     "output_type": "execute_result"
    }
   ],
   "source": [
    "#melihat data null\n",
    "data.isnull().sum()"
   ]
  },
  {
   "cell_type": "markdown",
   "id": "89bed612",
   "metadata": {},
   "source": [
    "Summary Data :\n",
    "\n",
    "1. Jumlah data yaitu 1728 baris dengan 7 kolom (buying, maint, doors, persons, lug_boot, safety dan class).\n",
    "\n",
    "2. Kelas data (kolom class) ada 4  yaitu unacc, acc, vgood dan good.\n",
    "\n",
    "3. Tidak ada data null (kosong)"
   ]
  },
  {
   "cell_type": "markdown",
   "id": "5543ea29",
   "metadata": {},
   "source": [
    "### Step 4 (Membagi Variabel Vector dan Target)"
   ]
  },
  {
   "cell_type": "code",
   "execution_count": 47,
   "id": "3f9c768e",
   "metadata": {},
   "outputs": [],
   "source": [
    "x = data[['buying', 'maint', 'doors', 'persons', 'lug_boot', 'safety']] #vector\n",
    "y = data['class'] #target"
   ]
  },
  {
   "cell_type": "code",
   "execution_count": 48,
   "id": "b7810a46",
   "metadata": {},
   "outputs": [
    {
     "data": {
      "text/html": [
       "<div>\n",
       "<style scoped>\n",
       "    .dataframe tbody tr th:only-of-type {\n",
       "        vertical-align: middle;\n",
       "    }\n",
       "\n",
       "    .dataframe tbody tr th {\n",
       "        vertical-align: top;\n",
       "    }\n",
       "\n",
       "    .dataframe thead th {\n",
       "        text-align: right;\n",
       "    }\n",
       "</style>\n",
       "<table border=\"1\" class=\"dataframe\">\n",
       "  <thead>\n",
       "    <tr style=\"text-align: right;\">\n",
       "      <th></th>\n",
       "      <th>buying</th>\n",
       "      <th>maint</th>\n",
       "      <th>doors</th>\n",
       "      <th>persons</th>\n",
       "      <th>lug_boot</th>\n",
       "      <th>safety</th>\n",
       "    </tr>\n",
       "  </thead>\n",
       "  <tbody>\n",
       "    <tr>\n",
       "      <th>0</th>\n",
       "      <td>vhigh</td>\n",
       "      <td>vhigh</td>\n",
       "      <td>2</td>\n",
       "      <td>2</td>\n",
       "      <td>small</td>\n",
       "      <td>low</td>\n",
       "    </tr>\n",
       "    <tr>\n",
       "      <th>1</th>\n",
       "      <td>vhigh</td>\n",
       "      <td>vhigh</td>\n",
       "      <td>2</td>\n",
       "      <td>2</td>\n",
       "      <td>small</td>\n",
       "      <td>med</td>\n",
       "    </tr>\n",
       "    <tr>\n",
       "      <th>2</th>\n",
       "      <td>vhigh</td>\n",
       "      <td>vhigh</td>\n",
       "      <td>2</td>\n",
       "      <td>2</td>\n",
       "      <td>small</td>\n",
       "      <td>high</td>\n",
       "    </tr>\n",
       "    <tr>\n",
       "      <th>3</th>\n",
       "      <td>vhigh</td>\n",
       "      <td>vhigh</td>\n",
       "      <td>2</td>\n",
       "      <td>2</td>\n",
       "      <td>med</td>\n",
       "      <td>low</td>\n",
       "    </tr>\n",
       "    <tr>\n",
       "      <th>4</th>\n",
       "      <td>vhigh</td>\n",
       "      <td>vhigh</td>\n",
       "      <td>2</td>\n",
       "      <td>2</td>\n",
       "      <td>med</td>\n",
       "      <td>med</td>\n",
       "    </tr>\n",
       "  </tbody>\n",
       "</table>\n",
       "</div>"
      ],
      "text/plain": [
       "  buying  maint doors persons lug_boot safety\n",
       "0  vhigh  vhigh     2       2    small    low\n",
       "1  vhigh  vhigh     2       2    small    med\n",
       "2  vhigh  vhigh     2       2    small   high\n",
       "3  vhigh  vhigh     2       2      med    low\n",
       "4  vhigh  vhigh     2       2      med    med"
      ]
     },
     "execution_count": 48,
     "metadata": {},
     "output_type": "execute_result"
    }
   ],
   "source": [
    "x.head()"
   ]
  },
  {
   "cell_type": "code",
   "execution_count": 49,
   "id": "c7c3cd14",
   "metadata": {},
   "outputs": [
    {
     "data": {
      "text/plain": [
       "0    unacc\n",
       "1    unacc\n",
       "2    unacc\n",
       "3    unacc\n",
       "4    unacc\n",
       "Name: class, dtype: object"
      ]
     },
     "execution_count": 49,
     "metadata": {},
     "output_type": "execute_result"
    }
   ],
   "source": [
    "y.head()"
   ]
  },
  {
   "cell_type": "markdown",
   "id": "e6451ce7",
   "metadata": {},
   "source": [
    "### Step 5 (Membagi Data Menjadi Training dan Testing)"
   ]
  },
  {
   "cell_type": "code",
   "execution_count": 50,
   "id": "7d57606a",
   "metadata": {},
   "outputs": [],
   "source": [
    "from sklearn.model_selection import train_test_split\n",
    "x_train, x_test, y_train, y_test = train_test_split(x, y, test_size = 0.25, random_state = 42)"
   ]
  },
  {
   "cell_type": "code",
   "execution_count": 51,
   "id": "1e856d5b",
   "metadata": {},
   "outputs": [
    {
     "data": {
      "text/plain": [
       "((1296, 6), (432, 6))"
      ]
     },
     "execution_count": 51,
     "metadata": {},
     "output_type": "execute_result"
    }
   ],
   "source": [
    "x_train.shape, x_test.shape"
   ]
  },
  {
   "cell_type": "markdown",
   "id": "d3ebefd8",
   "metadata": {},
   "source": [
    "### Step 6 (Encoder Data)"
   ]
  },
  {
   "cell_type": "code",
   "execution_count": 53,
   "id": "27f26159",
   "metadata": {},
   "outputs": [],
   "source": [
    "import category_encoders as ce\n",
    "encoder = ce.OrdinalEncoder(cols=['buying', 'maint', 'doors', 'persons', 'lug_boot', 'safety'])\n",
    "x_train = encoder.fit_transform(x_train)\n",
    "x_test = encoder.transform(x_test)"
   ]
  },
  {
   "cell_type": "code",
   "execution_count": 54,
   "id": "4b692f7d",
   "metadata": {},
   "outputs": [
    {
     "data": {
      "text/html": [
       "<div>\n",
       "<style scoped>\n",
       "    .dataframe tbody tr th:only-of-type {\n",
       "        vertical-align: middle;\n",
       "    }\n",
       "\n",
       "    .dataframe tbody tr th {\n",
       "        vertical-align: top;\n",
       "    }\n",
       "\n",
       "    .dataframe thead th {\n",
       "        text-align: right;\n",
       "    }\n",
       "</style>\n",
       "<table border=\"1\" class=\"dataframe\">\n",
       "  <thead>\n",
       "    <tr style=\"text-align: right;\">\n",
       "      <th></th>\n",
       "      <th>buying</th>\n",
       "      <th>maint</th>\n",
       "      <th>doors</th>\n",
       "      <th>persons</th>\n",
       "      <th>lug_boot</th>\n",
       "      <th>safety</th>\n",
       "    </tr>\n",
       "  </thead>\n",
       "  <tbody>\n",
       "    <tr>\n",
       "      <th>1036</th>\n",
       "      <td>1</td>\n",
       "      <td>1</td>\n",
       "      <td>1</td>\n",
       "      <td>1</td>\n",
       "      <td>1</td>\n",
       "      <td>1</td>\n",
       "    </tr>\n",
       "    <tr>\n",
       "      <th>757</th>\n",
       "      <td>2</td>\n",
       "      <td>2</td>\n",
       "      <td>2</td>\n",
       "      <td>2</td>\n",
       "      <td>1</td>\n",
       "      <td>1</td>\n",
       "    </tr>\n",
       "    <tr>\n",
       "      <th>589</th>\n",
       "      <td>2</td>\n",
       "      <td>1</td>\n",
       "      <td>3</td>\n",
       "      <td>3</td>\n",
       "      <td>2</td>\n",
       "      <td>1</td>\n",
       "    </tr>\n",
       "    <tr>\n",
       "      <th>907</th>\n",
       "      <td>1</td>\n",
       "      <td>3</td>\n",
       "      <td>3</td>\n",
       "      <td>1</td>\n",
       "      <td>3</td>\n",
       "      <td>1</td>\n",
       "    </tr>\n",
       "    <tr>\n",
       "      <th>1159</th>\n",
       "      <td>1</td>\n",
       "      <td>4</td>\n",
       "      <td>1</td>\n",
       "      <td>3</td>\n",
       "      <td>3</td>\n",
       "      <td>1</td>\n",
       "    </tr>\n",
       "  </tbody>\n",
       "</table>\n",
       "</div>"
      ],
      "text/plain": [
       "      buying  maint  doors  persons  lug_boot  safety\n",
       "1036       1      1      1        1         1       1\n",
       "757        2      2      2        2         1       1\n",
       "589        2      1      3        3         2       1\n",
       "907        1      3      3        1         3       1\n",
       "1159       1      4      1        3         3       1"
      ]
     },
     "execution_count": 54,
     "metadata": {},
     "output_type": "execute_result"
    }
   ],
   "source": [
    "x_train.head()"
   ]
  },
  {
   "cell_type": "code",
   "execution_count": 55,
   "id": "c2ffa079",
   "metadata": {},
   "outputs": [
    {
     "data": {
      "text/html": [
       "<div>\n",
       "<style scoped>\n",
       "    .dataframe tbody tr th:only-of-type {\n",
       "        vertical-align: middle;\n",
       "    }\n",
       "\n",
       "    .dataframe tbody tr th {\n",
       "        vertical-align: top;\n",
       "    }\n",
       "\n",
       "    .dataframe thead th {\n",
       "        text-align: right;\n",
       "    }\n",
       "</style>\n",
       "<table border=\"1\" class=\"dataframe\">\n",
       "  <thead>\n",
       "    <tr style=\"text-align: right;\">\n",
       "      <th></th>\n",
       "      <th>buying</th>\n",
       "      <th>maint</th>\n",
       "      <th>doors</th>\n",
       "      <th>persons</th>\n",
       "      <th>lug_boot</th>\n",
       "      <th>safety</th>\n",
       "    </tr>\n",
       "  </thead>\n",
       "  <tbody>\n",
       "    <tr>\n",
       "      <th>599</th>\n",
       "      <td>2</td>\n",
       "      <td>1</td>\n",
       "      <td>1</td>\n",
       "      <td>2</td>\n",
       "      <td>2</td>\n",
       "      <td>2</td>\n",
       "    </tr>\n",
       "    <tr>\n",
       "      <th>1201</th>\n",
       "      <td>1</td>\n",
       "      <td>2</td>\n",
       "      <td>2</td>\n",
       "      <td>1</td>\n",
       "      <td>2</td>\n",
       "      <td>1</td>\n",
       "    </tr>\n",
       "    <tr>\n",
       "      <th>628</th>\n",
       "      <td>2</td>\n",
       "      <td>1</td>\n",
       "      <td>4</td>\n",
       "      <td>2</td>\n",
       "      <td>3</td>\n",
       "      <td>1</td>\n",
       "    </tr>\n",
       "    <tr>\n",
       "      <th>1498</th>\n",
       "      <td>3</td>\n",
       "      <td>1</td>\n",
       "      <td>4</td>\n",
       "      <td>1</td>\n",
       "      <td>2</td>\n",
       "      <td>1</td>\n",
       "    </tr>\n",
       "    <tr>\n",
       "      <th>1263</th>\n",
       "      <td>1</td>\n",
       "      <td>2</td>\n",
       "      <td>1</td>\n",
       "      <td>3</td>\n",
       "      <td>2</td>\n",
       "      <td>3</td>\n",
       "    </tr>\n",
       "  </tbody>\n",
       "</table>\n",
       "</div>"
      ],
      "text/plain": [
       "      buying  maint  doors  persons  lug_boot  safety\n",
       "599        2      1      1        2         2       2\n",
       "1201       1      2      2        1         2       1\n",
       "628        2      1      4        2         3       1\n",
       "1498       3      1      4        1         2       1\n",
       "1263       1      2      1        3         2       3"
      ]
     },
     "execution_count": 55,
     "metadata": {},
     "output_type": "execute_result"
    }
   ],
   "source": [
    "x_test.head()"
   ]
  },
  {
   "cell_type": "markdown",
   "id": "07d9052a",
   "metadata": {},
   "source": [
    "### Step 7 (Pemodelan DTree Menggunakan Index Gini)"
   ]
  },
  {
   "cell_type": "code",
   "execution_count": 56,
   "id": "931efb66",
   "metadata": {},
   "outputs": [
    {
     "name": "stdout",
     "output_type": "stream",
     "text": [
      "Hasil Training model untuk max_depth 1 adalah : 0.7067901234567902\n",
      "Hasil Testing model untuk max_depth 1 adalah : 0.6805555555555556\n",
      "\n",
      "Hasil Training model untuk max_depth 2 adalah : 0.7445987654320988\n",
      "Hasil Testing model untuk max_depth 2 adalah : 0.7476851851851852\n",
      "\n",
      "Hasil Training model untuk max_depth 3 adalah : 0.7862654320987654\n",
      "Hasil Testing model untuk max_depth 3 adalah : 0.8078703703703703\n",
      "\n",
      "Hasil Training model untuk max_depth 4 adalah : 0.8109567901234568\n",
      "Hasil Testing model untuk max_depth 4 adalah : 0.8287037037037037\n",
      "\n",
      "Hasil Training model untuk max_depth 5 adalah : 0.8240740740740741\n",
      "Hasil Testing model untuk max_depth 5 adalah : 0.8055555555555556\n",
      "\n",
      "Hasil Training model untuk max_depth 6 adalah : 0.8595679012345679\n",
      "Hasil Testing model untuk max_depth 6 adalah : 0.8402777777777778\n",
      "\n",
      "Hasil Training model untuk max_depth 7 adalah : 0.8850308641975309\n",
      "Hasil Testing model untuk max_depth 7 adalah : 0.8541666666666666\n",
      "\n",
      "Hasil Training model untuk max_depth 8 adalah : 0.9174382716049383\n",
      "Hasil Testing model untuk max_depth 8 adalah : 0.8379629629629629\n",
      "\n",
      "Hasil Training model untuk max_depth 9 adalah : 0.9483024691358025\n",
      "Hasil Testing model untuk max_depth 9 adalah : 0.8888888888888888\n",
      "\n",
      "Hasil Training model untuk max_depth 10 adalah : 0.9637345679012346\n",
      "Hasil Testing model untuk max_depth 10 adalah : 0.8888888888888888\n",
      "\n",
      "Hasil Training model untuk max_depth 11 adalah : 0.9868827160493827\n",
      "Hasil Testing model untuk max_depth 11 adalah : 0.8888888888888888\n",
      "\n",
      "Hasil Training model untuk max_depth 12 adalah : 0.9953703703703703\n",
      "Hasil Testing model untuk max_depth 12 adalah : 0.8958333333333334\n",
      "\n",
      "Hasil Training model untuk max_depth 13 adalah : 0.9992283950617284\n",
      "Hasil Testing model untuk max_depth 13 adalah : 0.8888888888888888\n",
      "\n",
      "Hasil Training model untuk max_depth 14 adalah : 1.0\n",
      "Hasil Testing model untuk max_depth 14 adalah : 0.8865740740740741\n",
      "\n",
      "Hasil Training model untuk max_depth 15 adalah : 1.0\n",
      "Hasil Testing model untuk max_depth 15 adalah : 0.8865740740740741\n",
      "\n",
      "Hasil Training model untuk max_depth 16 adalah : 1.0\n",
      "Hasil Testing model untuk max_depth 16 adalah : 0.8865740740740741\n",
      "\n",
      "Hasil Training model untuk max_depth 17 adalah : 1.0\n",
      "Hasil Testing model untuk max_depth 17 adalah : 0.8865740740740741\n",
      "\n",
      "Hasil Training model untuk max_depth 18 adalah : 1.0\n",
      "Hasil Testing model untuk max_depth 18 adalah : 0.8865740740740741\n",
      "\n",
      "Hasil Training model untuk max_depth 19 adalah : 1.0\n",
      "Hasil Testing model untuk max_depth 19 adalah : 0.8865740740740741\n",
      "\n"
     ]
    }
   ],
   "source": [
    "from sklearn.tree import DecisionTreeClassifier\n",
    "for max_d in range(1,20):\n",
    "  model = DecisionTreeClassifier(max_depth=max_d, random_state=42)\n",
    "  model.fit(x_train, y_train)\n",
    "  print('Hasil Training model untuk max_depth {} adalah :'.format(max_d), model.score(x_train,y_train))\n",
    "  print('Hasil Testing model untuk max_depth {} adalah :'.format(max_d), model.score(x_test,y_test))\n",
    "  print('')"
   ]
  },
  {
   "cell_type": "code",
   "execution_count": 57,
   "id": "3dbfbd7f",
   "metadata": {},
   "outputs": [
    {
     "data": {
      "text/plain": [
       "DecisionTreeClassifier(max_depth=6, random_state=0)"
      ]
     },
     "execution_count": 57,
     "metadata": {},
     "output_type": "execute_result"
    }
   ],
   "source": [
    "from sklearn.tree import DecisionTreeClassifier\n",
    "\n",
    "modelGini = DecisionTreeClassifier(criterion='gini', max_depth=6, random_state=0)\n",
    "modelGini.fit(x_train, y_train)"
   ]
  },
  {
   "cell_type": "code",
   "execution_count": 58,
   "id": "bec81f66",
   "metadata": {},
   "outputs": [],
   "source": [
    "y_pred_gini = modelGini.predict(x_test)"
   ]
  },
  {
   "cell_type": "code",
   "execution_count": 59,
   "id": "3dcd59db",
   "metadata": {},
   "outputs": [
    {
     "name": "stdout",
     "output_type": "stream",
     "text": [
      "[[ 82   4  14   3]\n",
      " [ 11   2   2   0]\n",
      " [ 18   0 276   0]\n",
      " [ 17   0   0   3]]\n"
     ]
    },
    {
     "data": {
      "text/plain": [
       "0.8402777777777778"
      ]
     },
     "execution_count": 59,
     "metadata": {},
     "output_type": "execute_result"
    }
   ],
   "source": [
    "from sklearn.metrics import confusion_matrix, accuracy_score\n",
    "cm = confusion_matrix(y_test, y_pred_gini)\n",
    "print(cm)\n",
    "accuracy_score(y_test, y_pred_gini)"
   ]
  },
  {
   "cell_type": "code",
   "execution_count": 60,
   "id": "1002cd52",
   "metadata": {},
   "outputs": [
    {
     "data": {
      "text/plain": [
       "array(['unacc', 'unacc', 'acc', ..., 'acc', 'unacc', 'unacc'],\n",
       "      dtype=object)"
      ]
     },
     "execution_count": 60,
     "metadata": {},
     "output_type": "execute_result"
    }
   ],
   "source": [
    "y_pred_train_gini = modelGini.predict(x_train)\n",
    "\n",
    "y_pred_train_gini"
   ]
  },
  {
   "cell_type": "code",
   "execution_count": 61,
   "id": "3aa6443c",
   "metadata": {},
   "outputs": [
    {
     "name": "stdout",
     "output_type": "stream",
     "text": [
      "[[241   4  35   1]\n",
      " [ 45   6   3   0]\n",
      " [ 58   0 858   0]\n",
      " [ 36   0   0   9]]\n"
     ]
    },
    {
     "data": {
      "text/plain": [
       "0.8595679012345679"
      ]
     },
     "execution_count": 61,
     "metadata": {},
     "output_type": "execute_result"
    }
   ],
   "source": [
    "cm = confusion_matrix(y_train, y_pred_train_gini)\n",
    "print(cm)\n",
    "accuracy_score(y_train, y_pred_train_gini)"
   ]
  },
  {
   "cell_type": "code",
   "execution_count": 62,
   "id": "61cefa85",
   "metadata": {},
   "outputs": [
    {
     "name": "stdout",
     "output_type": "stream",
     "text": [
      "Training set score: 0.8596\n",
      "Test set score: 0.8403\n"
     ]
    }
   ],
   "source": [
    "#Hasil Akurasi Training dan Testing\n",
    "print('Training set score: {:.4f}'.format(modelGini.score(x_train, y_train)))\n",
    "print('Test set score: {:.4f}'.format(modelGini.score(x_test, y_test)))"
   ]
  },
  {
   "cell_type": "markdown",
   "id": "93d90191",
   "metadata": {},
   "source": [
    "### Step 8 (Pemodelan DTree Menggunakan Nilai Entropi)"
   ]
  },
  {
   "cell_type": "code",
   "execution_count": 63,
   "id": "076a5c7e",
   "metadata": {},
   "outputs": [
    {
     "data": {
      "text/plain": [
       "DecisionTreeClassifier(criterion='entropy', max_depth=6, random_state=0)"
      ]
     },
     "execution_count": 63,
     "metadata": {},
     "output_type": "execute_result"
    }
   ],
   "source": [
    "modelEn = DecisionTreeClassifier(criterion='entropy', max_depth=6, random_state=0)\n",
    "\n",
    "modelEn.fit(x_train, y_train)"
   ]
  },
  {
   "cell_type": "code",
   "execution_count": 64,
   "id": "0887a0f5",
   "metadata": {},
   "outputs": [],
   "source": [
    "y_pred_en = modelEn.predict(x_test)"
   ]
  },
  {
   "cell_type": "code",
   "execution_count": 65,
   "id": "13a26e7c",
   "metadata": {},
   "outputs": [
    {
     "name": "stdout",
     "output_type": "stream",
     "text": [
      "[[ 79   4  17   3]\n",
      " [ 12   2   1   0]\n",
      " [ 19   0 275   0]\n",
      " [ 17   0   0   3]]\n"
     ]
    },
    {
     "data": {
      "text/plain": [
       "0.8310185185185185"
      ]
     },
     "execution_count": 65,
     "metadata": {},
     "output_type": "execute_result"
    }
   ],
   "source": [
    "cm = confusion_matrix(y_test, y_pred_en)\n",
    "print(cm)\n",
    "accuracy_score(y_test, y_pred_en)"
   ]
  },
  {
   "cell_type": "code",
   "execution_count": 66,
   "id": "1aa68d9d",
   "metadata": {},
   "outputs": [
    {
     "data": {
      "text/plain": [
       "array(['unacc', 'unacc', 'acc', ..., 'acc', 'unacc', 'unacc'],\n",
       "      dtype=object)"
      ]
     },
     "execution_count": 66,
     "metadata": {},
     "output_type": "execute_result"
    }
   ],
   "source": [
    "y_pred_train_en = modelEn.predict(x_train)\n",
    "\n",
    "y_pred_train_en"
   ]
  },
  {
   "cell_type": "code",
   "execution_count": 67,
   "id": "93cab027",
   "metadata": {},
   "outputs": [
    {
     "name": "stdout",
     "output_type": "stream",
     "text": [
      "[[242   4  34   1]\n",
      " [ 47   6   1   0]\n",
      " [ 64   0 852   0]\n",
      " [ 36   0   0   9]]\n"
     ]
    },
    {
     "data": {
      "text/plain": [
       "0.8557098765432098"
      ]
     },
     "execution_count": 67,
     "metadata": {},
     "output_type": "execute_result"
    }
   ],
   "source": [
    "cm = confusion_matrix(y_train, y_pred_train_en)\n",
    "print(cm)\n",
    "accuracy_score(y_train, y_pred_train_en)"
   ]
  },
  {
   "cell_type": "code",
   "execution_count": 68,
   "id": "24b4026e",
   "metadata": {},
   "outputs": [
    {
     "name": "stdout",
     "output_type": "stream",
     "text": [
      "Training set score: 0.8557\n",
      "Test set score: 0.8310\n"
     ]
    }
   ],
   "source": [
    "#Hasil Akurasi Training dan Testing\n",
    "print('Training set score: {:.4f}'.format(modelEn.score(x_train, y_train)))\n",
    "print('Test set score: {:.4f}'.format(modelEn.score(x_test, y_test)))"
   ]
  },
  {
   "cell_type": "markdown",
   "id": "578b4202",
   "metadata": {},
   "source": [
    "### Step 9 (Classification Report Gini Model)"
   ]
  },
  {
   "cell_type": "code",
   "execution_count": 69,
   "id": "fd9172c4",
   "metadata": {},
   "outputs": [
    {
     "name": "stdout",
     "output_type": "stream",
     "text": [
      "              precision    recall  f1-score   support\n",
      "\n",
      "         acc       0.64      0.80      0.71       103\n",
      "        good       0.33      0.13      0.19        15\n",
      "       unacc       0.95      0.94      0.94       294\n",
      "       vgood       0.50      0.15      0.23        20\n",
      "\n",
      "    accuracy                           0.84       432\n",
      "   macro avg       0.60      0.50      0.52       432\n",
      "weighted avg       0.83      0.84      0.83       432\n",
      "\n"
     ]
    }
   ],
   "source": [
    "from sklearn.metrics import classification_report\n",
    "\n",
    "print(classification_report(y_test, y_pred_gini))"
   ]
  },
  {
   "cell_type": "code",
   "execution_count": 70,
   "id": "16edaa62",
   "metadata": {},
   "outputs": [
    {
     "data": {
      "text/plain": [
       "array(['unacc'], dtype=object)"
      ]
     },
     "execution_count": 70,
     "metadata": {},
     "output_type": "execute_result"
    }
   ],
   "source": [
    "newdata = modelGini.predict(np.array([[1,2,3,2,3,1]]))\n",
    "newdata"
   ]
  },
  {
   "cell_type": "code",
   "execution_count": 71,
   "id": "320a86af",
   "metadata": {},
   "outputs": [
    {
     "data": {
      "text/plain": [
       "array(['acc'], dtype=object)"
      ]
     },
     "execution_count": 71,
     "metadata": {},
     "output_type": "execute_result"
    }
   ],
   "source": [
    "newdata = modelGini.predict(np.array([[1,3,4,1,3,1]]))\n",
    "newdata"
   ]
  },
  {
   "cell_type": "markdown",
   "id": "c07f9434",
   "metadata": {},
   "source": [
    "Sumber:\n",
    "\n",
    "https://www.section.io/engineering-education/hyperparmeter-tuning/#:~:text=Hyperparameter%20tuning%20in%20Decision%20Trees.%20This%20process%20of,argument%20represents%20the%20maximum%20depth%20of%20a%20tree."
   ]
  },
  {
   "cell_type": "code",
   "execution_count": null,
   "id": "d71ae477",
   "metadata": {},
   "outputs": [],
   "source": []
  }
 ],
 "metadata": {
  "kernelspec": {
   "display_name": "Python 3 (ipykernel)",
   "language": "python",
   "name": "python3"
  },
  "language_info": {
   "codemirror_mode": {
    "name": "ipython",
    "version": 3
   },
   "file_extension": ".py",
   "mimetype": "text/x-python",
   "name": "python",
   "nbconvert_exporter": "python",
   "pygments_lexer": "ipython3",
   "version": "3.7.6"
  }
 },
 "nbformat": 4,
 "nbformat_minor": 5
}
