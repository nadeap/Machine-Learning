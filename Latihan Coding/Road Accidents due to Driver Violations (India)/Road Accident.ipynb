{
 "cells": [
  {
   "cell_type": "code",
   "execution_count": 1,
   "metadata": {},
   "outputs": [],
   "source": [
    "import pandas as pd\n",
    "import numpy as np\n",
    "import matplotlib.pyplot as plt\n",
    "import seaborn as sns"
   ]
  },
  {
   "attachments": {},
   "cell_type": "markdown",
   "metadata": {},
   "source": [
    "### This dataset contains region wise records of road accidents from 2014 to 2016 in India, as a result of driver violations\n",
    "\n",
    "sno: Nomor seri negara bagian/UT (Integer)\n",
    "\n",
    "stateut: Nama negara bagian/UT (String)\n",
    "\n",
    "region: Wilayah negara bagian/UT (String)\n",
    "\n",
    "alcintake2014: Jumlah kecelakaan akibat asupan alkohol pada tahun 2014 (Integer)\n",
    "\n",
    "overspeed2014: Jumlah kecelakaan karena overspeeding pada tahun 2014 (Integer)\n",
    "\n",
    "overtaking2014: Jumlah kecelakaan akibat menyalip pada tahun 2014 (Integer)\n",
    "\n",
    "lanejumping2014: Jumlah kecelakaan akibat lane jumping pada tahun 2014 (Integer)\n",
    "\n",
    "asleep2014: Jumlah kecelakaan karena tidur di belakang kemudi pada tahun 2014 (Integer)\n",
    "\n",
    "othercause2014: Jumlah kecelakaan karena penyebab lain-lain pada tahun 2014 (Integer)\n",
    "\n",
    "alcintake2016: Number of accidents due to alcohol intake in 2016 (Integer)\n",
    "\n",
    "overspeed2016: Number of accidents due to overspeeding in 2016 (Integer)\n",
    "\n",
    "lanejumping2016: Number of accidents due to lane jumping in 2016 (Integer)\n",
    "\n",
    "overtaking2016: Number of accidents due to overtaking in 2016 (Integer)\n",
    "\n",
    "asleep2016: Number of accidents due to sleeping at the wheel in 2016 (Integer)\n",
    "\n",
    "othercause2016: Number of accidents due to miscellaneous causes in 2016 (Integer)"
   ]
  },
  {
   "cell_type": "code",
   "execution_count": 15,
   "metadata": {},
   "outputs": [
    {
     "data": {
      "text/html": [
       "<div>\n",
       "<style scoped>\n",
       "    .dataframe tbody tr th:only-of-type {\n",
       "        vertical-align: middle;\n",
       "    }\n",
       "\n",
       "    .dataframe tbody tr th {\n",
       "        vertical-align: top;\n",
       "    }\n",
       "\n",
       "    .dataframe thead th {\n",
       "        text-align: right;\n",
       "    }\n",
       "</style>\n",
       "<table border=\"1\" class=\"dataframe\">\n",
       "  <thead>\n",
       "    <tr style=\"text-align: right;\">\n",
       "      <th></th>\n",
       "      <th>index</th>\n",
       "      <th>sno</th>\n",
       "      <th>stateut</th>\n",
       "      <th>region</th>\n",
       "      <th>regionid</th>\n",
       "      <th>alcintake2014</th>\n",
       "      <th>overspeed2014</th>\n",
       "      <th>overtaking2014</th>\n",
       "      <th>lanejumping2014</th>\n",
       "      <th>wrongside2014</th>\n",
       "      <th>...</th>\n",
       "      <th>asleep2014</th>\n",
       "      <th>othercause2014</th>\n",
       "      <th>alcintake2016</th>\n",
       "      <th>overspeed2016</th>\n",
       "      <th>signalavoid2016</th>\n",
       "      <th>wrongside2016</th>\n",
       "      <th>lanejumping2016</th>\n",
       "      <th>overtaking2016</th>\n",
       "      <th>asleep2016</th>\n",
       "      <th>othercause2016</th>\n",
       "    </tr>\n",
       "  </thead>\n",
       "  <tbody>\n",
       "    <tr>\n",
       "      <th>0</th>\n",
       "      <td>0</td>\n",
       "      <td>1</td>\n",
       "      <td>Andhra Pradesh</td>\n",
       "      <td>south</td>\n",
       "      <td>2</td>\n",
       "      <td>594</td>\n",
       "      <td>12747.0</td>\n",
       "      <td>507</td>\n",
       "      <td>328</td>\n",
       "      <td>668</td>\n",
       "      <td>...</td>\n",
       "      <td>154</td>\n",
       "      <td>1938</td>\n",
       "      <td>128</td>\n",
       "      <td>17286</td>\n",
       "      <td>40</td>\n",
       "      <td>667</td>\n",
       "      <td>325</td>\n",
       "      <td>1024</td>\n",
       "      <td>306</td>\n",
       "      <td>2868</td>\n",
       "    </tr>\n",
       "    <tr>\n",
       "      <th>1</th>\n",
       "      <td>1</td>\n",
       "      <td>2</td>\n",
       "      <td>Arunachal Pradesh</td>\n",
       "      <td>northeast</td>\n",
       "      <td>5</td>\n",
       "      <td>11</td>\n",
       "      <td>16.0</td>\n",
       "      <td>0</td>\n",
       "      <td>0</td>\n",
       "      <td>0</td>\n",
       "      <td>...</td>\n",
       "      <td>0</td>\n",
       "      <td>22</td>\n",
       "      <td>15</td>\n",
       "      <td>45</td>\n",
       "      <td>0</td>\n",
       "      <td>7</td>\n",
       "      <td>11</td>\n",
       "      <td>8</td>\n",
       "      <td>8</td>\n",
       "      <td>18</td>\n",
       "    </tr>\n",
       "    <tr>\n",
       "      <th>2</th>\n",
       "      <td>2</td>\n",
       "      <td>3</td>\n",
       "      <td>Assam</td>\n",
       "      <td>northeast</td>\n",
       "      <td>5</td>\n",
       "      <td>613</td>\n",
       "      <td>4596.0</td>\n",
       "      <td>129</td>\n",
       "      <td>104</td>\n",
       "      <td>156</td>\n",
       "      <td>...</td>\n",
       "      <td>3</td>\n",
       "      <td>628</td>\n",
       "      <td>352</td>\n",
       "      <td>3520</td>\n",
       "      <td>64</td>\n",
       "      <td>334</td>\n",
       "      <td>156</td>\n",
       "      <td>371</td>\n",
       "      <td>3</td>\n",
       "      <td>873</td>\n",
       "    </tr>\n",
       "    <tr>\n",
       "      <th>3</th>\n",
       "      <td>3</td>\n",
       "      <td>4</td>\n",
       "      <td>Bihar</td>\n",
       "      <td>north</td>\n",
       "      <td>1</td>\n",
       "      <td>1680</td>\n",
       "      <td>1496.0</td>\n",
       "      <td>278</td>\n",
       "      <td>236</td>\n",
       "      <td>308</td>\n",
       "      <td>...</td>\n",
       "      <td>72</td>\n",
       "      <td>439</td>\n",
       "      <td>593</td>\n",
       "      <td>2323</td>\n",
       "      <td>8</td>\n",
       "      <td>458</td>\n",
       "      <td>156</td>\n",
       "      <td>573</td>\n",
       "      <td>122</td>\n",
       "      <td>612</td>\n",
       "    </tr>\n",
       "    <tr>\n",
       "      <th>4</th>\n",
       "      <td>4</td>\n",
       "      <td>5</td>\n",
       "      <td>Chhattisgarh</td>\n",
       "      <td>centre</td>\n",
       "      <td>9</td>\n",
       "      <td>335</td>\n",
       "      <td>6720.0</td>\n",
       "      <td>188</td>\n",
       "      <td>313</td>\n",
       "      <td>266</td>\n",
       "      <td>...</td>\n",
       "      <td>81</td>\n",
       "      <td>520</td>\n",
       "      <td>145</td>\n",
       "      <td>6660</td>\n",
       "      <td>62</td>\n",
       "      <td>410</td>\n",
       "      <td>175</td>\n",
       "      <td>467</td>\n",
       "      <td>144</td>\n",
       "      <td>953</td>\n",
       "    </tr>\n",
       "  </tbody>\n",
       "</table>\n",
       "<p>5 rows × 21 columns</p>\n",
       "</div>"
      ],
      "text/plain": [
       "   index  sno            stateut     region  regionid  alcintake2014  \\\n",
       "0      0    1     Andhra Pradesh      south         2            594   \n",
       "1      1    2  Arunachal Pradesh  northeast         5             11   \n",
       "2      2    3              Assam  northeast         5            613   \n",
       "3      3    4              Bihar      north         1           1680   \n",
       "4      4    5       Chhattisgarh     centre         9            335   \n",
       "\n",
       "   overspeed2014  overtaking2014  lanejumping2014  wrongside2014  ...  \\\n",
       "0        12747.0             507              328            668  ...   \n",
       "1           16.0               0                0              0  ...   \n",
       "2         4596.0             129              104            156  ...   \n",
       "3         1496.0             278              236            308  ...   \n",
       "4         6720.0             188              313            266  ...   \n",
       "\n",
       "   asleep2014  othercause2014  alcintake2016  overspeed2016  signalavoid2016  \\\n",
       "0         154            1938            128          17286               40   \n",
       "1           0              22             15             45                0   \n",
       "2           3             628            352           3520               64   \n",
       "3          72             439            593           2323                8   \n",
       "4          81             520            145           6660               62   \n",
       "\n",
       "   wrongside2016  lanejumping2016  overtaking2016  asleep2016  othercause2016  \n",
       "0            667              325            1024         306            2868  \n",
       "1              7               11               8           8              18  \n",
       "2            334              156             371           3             873  \n",
       "3            458              156             573         122             612  \n",
       "4            410              175             467         144             953  \n",
       "\n",
       "[5 rows x 21 columns]"
      ]
     },
     "execution_count": 15,
     "metadata": {},
     "output_type": "execute_result"
    }
   ],
   "source": [
    "data = pd.read_csv('driverresponse.csv')\n",
    "data.head()"
   ]
  },
  {
   "cell_type": "code",
   "execution_count": 3,
   "metadata": {},
   "outputs": [
    {
     "data": {
      "text/plain": [
       "(36, 21)"
      ]
     },
     "execution_count": 3,
     "metadata": {},
     "output_type": "execute_result"
    }
   ],
   "source": [
    "data.shape"
   ]
  },
  {
   "cell_type": "code",
   "execution_count": 16,
   "metadata": {},
   "outputs": [],
   "source": [
    "data = data.drop(columns='index')"
   ]
  },
  {
   "cell_type": "code",
   "execution_count": 6,
   "metadata": {},
   "outputs": [
    {
     "name": "stdout",
     "output_type": "stream",
     "text": [
      "<class 'pandas.core.frame.DataFrame'>\n",
      "RangeIndex: 36 entries, 0 to 35\n",
      "Data columns (total 20 columns):\n",
      " #   Column           Non-Null Count  Dtype  \n",
      "---  ------           --------------  -----  \n",
      " 0   sno              36 non-null     int64  \n",
      " 1   stateut          36 non-null     object \n",
      " 2   region           36 non-null     object \n",
      " 3   regionid         36 non-null     int64  \n",
      " 4   alcintake2014    36 non-null     int64  \n",
      " 5   overspeed2014    35 non-null     float64\n",
      " 6   overtaking2014   36 non-null     int64  \n",
      " 7   lanejumping2014  36 non-null     int64  \n",
      " 8   wrongside2014    36 non-null     int64  \n",
      " 9   signalavoid2014  36 non-null     int64  \n",
      " 10  asleep2014       36 non-null     int64  \n",
      " 11  othercause2014   36 non-null     int64  \n",
      " 12  alcintake2016    36 non-null     int64  \n",
      " 13  overspeed2016    36 non-null     int64  \n",
      " 14  signalavoid2016  36 non-null     int64  \n",
      " 15  wrongside2016    36 non-null     int64  \n",
      " 16  lanejumping2016  36 non-null     int64  \n",
      " 17  overtaking2016   36 non-null     int64  \n",
      " 18  asleep2016       36 non-null     int64  \n",
      " 19  othercause2016   36 non-null     int64  \n",
      "dtypes: float64(1), int64(17), object(2)\n",
      "memory usage: 5.8+ KB\n"
     ]
    }
   ],
   "source": [
    "data.info()"
   ]
  },
  {
   "cell_type": "code",
   "execution_count": 8,
   "metadata": {},
   "outputs": [
    {
     "data": {
      "text/html": [
       "<div>\n",
       "<style scoped>\n",
       "    .dataframe tbody tr th:only-of-type {\n",
       "        vertical-align: middle;\n",
       "    }\n",
       "\n",
       "    .dataframe tbody tr th {\n",
       "        vertical-align: top;\n",
       "    }\n",
       "\n",
       "    .dataframe thead th {\n",
       "        text-align: right;\n",
       "    }\n",
       "</style>\n",
       "<table border=\"1\" class=\"dataframe\">\n",
       "  <thead>\n",
       "    <tr style=\"text-align: right;\">\n",
       "      <th></th>\n",
       "      <th>sno</th>\n",
       "      <th>regionid</th>\n",
       "      <th>alcintake2014</th>\n",
       "      <th>overspeed2014</th>\n",
       "      <th>overtaking2014</th>\n",
       "      <th>lanejumping2014</th>\n",
       "      <th>wrongside2014</th>\n",
       "      <th>signalavoid2014</th>\n",
       "      <th>asleep2014</th>\n",
       "      <th>othercause2014</th>\n",
       "      <th>alcintake2016</th>\n",
       "      <th>overspeed2016</th>\n",
       "      <th>signalavoid2016</th>\n",
       "      <th>wrongside2016</th>\n",
       "      <th>lanejumping2016</th>\n",
       "      <th>overtaking2016</th>\n",
       "      <th>asleep2016</th>\n",
       "      <th>othercause2016</th>\n",
       "    </tr>\n",
       "  </thead>\n",
       "  <tbody>\n",
       "    <tr>\n",
       "      <th>count</th>\n",
       "      <td>36.000000</td>\n",
       "      <td>36.000000</td>\n",
       "      <td>36.000000</td>\n",
       "      <td>35.000000</td>\n",
       "      <td>36.000000</td>\n",
       "      <td>36.000000</td>\n",
       "      <td>36.000000</td>\n",
       "      <td>36.000000</td>\n",
       "      <td>36.000000</td>\n",
       "      <td>36.000000</td>\n",
       "      <td>36.000000</td>\n",
       "      <td>36.000000</td>\n",
       "      <td>36.000000</td>\n",
       "      <td>36.000000</td>\n",
       "      <td>36.000000</td>\n",
       "      <td>36.000000</td>\n",
       "      <td>36.000000</td>\n",
       "      <td>36.000000</td>\n",
       "    </tr>\n",
       "    <tr>\n",
       "      <th>mean</th>\n",
       "      <td>18.500000</td>\n",
       "      <td>4.000000</td>\n",
       "      <td>525.444444</td>\n",
       "      <td>5950.600000</td>\n",
       "      <td>312.833333</td>\n",
       "      <td>283.361111</td>\n",
       "      <td>302.000000</td>\n",
       "      <td>37.000000</td>\n",
       "      <td>92.027778</td>\n",
       "      <td>1007.944444</td>\n",
       "      <td>413.722222</td>\n",
       "      <td>7453.916667</td>\n",
       "      <td>124.750000</td>\n",
       "      <td>490.388889</td>\n",
       "      <td>236.472222</td>\n",
       "      <td>823.527778</td>\n",
       "      <td>126.444444</td>\n",
       "      <td>1403.611111</td>\n",
       "    </tr>\n",
       "    <tr>\n",
       "      <th>std</th>\n",
       "      <td>10.535654</td>\n",
       "      <td>2.746426</td>\n",
       "      <td>767.133866</td>\n",
       "      <td>8677.731983</td>\n",
       "      <td>514.513279</td>\n",
       "      <td>462.370115</td>\n",
       "      <td>389.184642</td>\n",
       "      <td>81.196411</td>\n",
       "      <td>234.019472</td>\n",
       "      <td>1780.826436</td>\n",
       "      <td>907.754202</td>\n",
       "      <td>11689.392631</td>\n",
       "      <td>225.198246</td>\n",
       "      <td>754.259534</td>\n",
       "      <td>454.375457</td>\n",
       "      <td>1477.494162</td>\n",
       "      <td>248.883501</td>\n",
       "      <td>1927.404966</td>\n",
       "    </tr>\n",
       "    <tr>\n",
       "      <th>min</th>\n",
       "      <td>1.000000</td>\n",
       "      <td>1.000000</td>\n",
       "      <td>0.000000</td>\n",
       "      <td>0.000000</td>\n",
       "      <td>0.000000</td>\n",
       "      <td>0.000000</td>\n",
       "      <td>0.000000</td>\n",
       "      <td>0.000000</td>\n",
       "      <td>0.000000</td>\n",
       "      <td>0.000000</td>\n",
       "      <td>0.000000</td>\n",
       "      <td>0.000000</td>\n",
       "      <td>0.000000</td>\n",
       "      <td>0.000000</td>\n",
       "      <td>0.000000</td>\n",
       "      <td>0.000000</td>\n",
       "      <td>0.000000</td>\n",
       "      <td>0.000000</td>\n",
       "    </tr>\n",
       "    <tr>\n",
       "      <th>25%</th>\n",
       "      <td>9.750000</td>\n",
       "      <td>1.750000</td>\n",
       "      <td>11.750000</td>\n",
       "      <td>72.500000</td>\n",
       "      <td>1.500000</td>\n",
       "      <td>0.000000</td>\n",
       "      <td>6.250000</td>\n",
       "      <td>0.000000</td>\n",
       "      <td>0.000000</td>\n",
       "      <td>19.000000</td>\n",
       "      <td>24.000000</td>\n",
       "      <td>140.500000</td>\n",
       "      <td>0.000000</td>\n",
       "      <td>16.500000</td>\n",
       "      <td>0.000000</td>\n",
       "      <td>16.500000</td>\n",
       "      <td>0.000000</td>\n",
       "      <td>24.750000</td>\n",
       "    </tr>\n",
       "    <tr>\n",
       "      <th>50%</th>\n",
       "      <td>18.500000</td>\n",
       "      <td>4.000000</td>\n",
       "      <td>82.500000</td>\n",
       "      <td>2561.000000</td>\n",
       "      <td>75.500000</td>\n",
       "      <td>86.500000</td>\n",
       "      <td>113.000000</td>\n",
       "      <td>4.500000</td>\n",
       "      <td>5.000000</td>\n",
       "      <td>156.000000</td>\n",
       "      <td>105.000000</td>\n",
       "      <td>2009.500000</td>\n",
       "      <td>9.500000</td>\n",
       "      <td>118.000000</td>\n",
       "      <td>65.500000</td>\n",
       "      <td>175.000000</td>\n",
       "      <td>7.500000</td>\n",
       "      <td>555.000000</td>\n",
       "    </tr>\n",
       "    <tr>\n",
       "      <th>75%</th>\n",
       "      <td>27.250000</td>\n",
       "      <td>5.000000</td>\n",
       "      <td>706.500000</td>\n",
       "      <td>6493.000000</td>\n",
       "      <td>350.000000</td>\n",
       "      <td>316.750000</td>\n",
       "      <td>531.750000</td>\n",
       "      <td>34.500000</td>\n",
       "      <td>133.000000</td>\n",
       "      <td>810.000000</td>\n",
       "      <td>412.500000</td>\n",
       "      <td>10966.500000</td>\n",
       "      <td>117.750000</td>\n",
       "      <td>683.500000</td>\n",
       "      <td>199.750000</td>\n",
       "      <td>1020.250000</td>\n",
       "      <td>127.500000</td>\n",
       "      <td>1753.500000</td>\n",
       "    </tr>\n",
       "    <tr>\n",
       "      <th>max</th>\n",
       "      <td>36.000000</td>\n",
       "      <td>9.000000</td>\n",
       "      <td>3540.000000</td>\n",
       "      <td>29790.000000</td>\n",
       "      <td>2171.000000</td>\n",
       "      <td>1869.000000</td>\n",
       "      <td>1529.000000</td>\n",
       "      <td>451.000000</td>\n",
       "      <td>1393.000000</td>\n",
       "      <td>6874.000000</td>\n",
       "      <td>4633.000000</td>\n",
       "      <td>47055.000000</td>\n",
       "      <td>1004.000000</td>\n",
       "      <td>3209.000000</td>\n",
       "      <td>2367.000000</td>\n",
       "      <td>7155.000000</td>\n",
       "      <td>1121.000000</td>\n",
       "      <td>6915.000000</td>\n",
       "    </tr>\n",
       "  </tbody>\n",
       "</table>\n",
       "</div>"
      ],
      "text/plain": [
       "             sno   regionid  alcintake2014  overspeed2014  overtaking2014  \\\n",
       "count  36.000000  36.000000      36.000000      35.000000       36.000000   \n",
       "mean   18.500000   4.000000     525.444444    5950.600000      312.833333   \n",
       "std    10.535654   2.746426     767.133866    8677.731983      514.513279   \n",
       "min     1.000000   1.000000       0.000000       0.000000        0.000000   \n",
       "25%     9.750000   1.750000      11.750000      72.500000        1.500000   \n",
       "50%    18.500000   4.000000      82.500000    2561.000000       75.500000   \n",
       "75%    27.250000   5.000000     706.500000    6493.000000      350.000000   \n",
       "max    36.000000   9.000000    3540.000000   29790.000000     2171.000000   \n",
       "\n",
       "       lanejumping2014  wrongside2014  signalavoid2014   asleep2014  \\\n",
       "count        36.000000      36.000000        36.000000    36.000000   \n",
       "mean        283.361111     302.000000        37.000000    92.027778   \n",
       "std         462.370115     389.184642        81.196411   234.019472   \n",
       "min           0.000000       0.000000         0.000000     0.000000   \n",
       "25%           0.000000       6.250000         0.000000     0.000000   \n",
       "50%          86.500000     113.000000         4.500000     5.000000   \n",
       "75%         316.750000     531.750000        34.500000   133.000000   \n",
       "max        1869.000000    1529.000000       451.000000  1393.000000   \n",
       "\n",
       "       othercause2014  alcintake2016  overspeed2016  signalavoid2016  \\\n",
       "count       36.000000      36.000000      36.000000        36.000000   \n",
       "mean      1007.944444     413.722222    7453.916667       124.750000   \n",
       "std       1780.826436     907.754202   11689.392631       225.198246   \n",
       "min          0.000000       0.000000       0.000000         0.000000   \n",
       "25%         19.000000      24.000000     140.500000         0.000000   \n",
       "50%        156.000000     105.000000    2009.500000         9.500000   \n",
       "75%        810.000000     412.500000   10966.500000       117.750000   \n",
       "max       6874.000000    4633.000000   47055.000000      1004.000000   \n",
       "\n",
       "       wrongside2016  lanejumping2016  overtaking2016   asleep2016  \\\n",
       "count      36.000000        36.000000       36.000000    36.000000   \n",
       "mean      490.388889       236.472222      823.527778   126.444444   \n",
       "std       754.259534       454.375457     1477.494162   248.883501   \n",
       "min         0.000000         0.000000        0.000000     0.000000   \n",
       "25%        16.500000         0.000000       16.500000     0.000000   \n",
       "50%       118.000000        65.500000      175.000000     7.500000   \n",
       "75%       683.500000       199.750000     1020.250000   127.500000   \n",
       "max      3209.000000      2367.000000     7155.000000  1121.000000   \n",
       "\n",
       "       othercause2016  \n",
       "count       36.000000  \n",
       "mean      1403.611111  \n",
       "std       1927.404966  \n",
       "min          0.000000  \n",
       "25%         24.750000  \n",
       "50%        555.000000  \n",
       "75%       1753.500000  \n",
       "max       6915.000000  "
      ]
     },
     "execution_count": 8,
     "metadata": {},
     "output_type": "execute_result"
    }
   ],
   "source": [
    "data.describe()"
   ]
  },
  {
   "cell_type": "code",
   "execution_count": 9,
   "metadata": {},
   "outputs": [
    {
     "data": {
      "text/plain": [
       "array(['Andhra Pradesh', 'Arunachal Pradesh', 'Assam', 'Bihar',\n",
       "       'Chhattisgarh', 'Goa', 'Gujarat', 'Haryana', 'Himachal Pradesh',\n",
       "       'Jammu & Kashmir', 'Jharkhand', 'Karnataka', 'Kerala',\n",
       "       'Madhya Pradesh', 'Maharashtra', 'Manipur', 'Meghalaya', 'Mizoram',\n",
       "       'Nagaland', 'Orissa', 'Punjab', 'Rajasthan', 'Sikkim',\n",
       "       'Tamil Nadu', 'Telangana', 'Tripura', 'Uttarakhand',\n",
       "       'Uttar Pradesh', 'West Bengal', 'A & N Islands', 'Chandigarh',\n",
       "       'D & N Haveli', 'Daman & Diu', 'Delhi', 'Lakshadweep',\n",
       "       'Puducherry'], dtype=object)"
      ]
     },
     "execution_count": 9,
     "metadata": {},
     "output_type": "execute_result"
    }
   ],
   "source": [
    "data['stateut'].unique()"
   ]
  },
  {
   "cell_type": "code",
   "execution_count": 10,
   "metadata": {},
   "outputs": [
    {
     "data": {
      "text/plain": [
       "Andhra Pradesh       1\n",
       "Arunachal Pradesh    1\n",
       "Punjab               1\n",
       "Rajasthan            1\n",
       "Sikkim               1\n",
       "Tamil Nadu           1\n",
       "Telangana            1\n",
       "Tripura              1\n",
       "Uttarakhand          1\n",
       "Uttar Pradesh        1\n",
       "West Bengal          1\n",
       "A & N Islands        1\n",
       "Chandigarh           1\n",
       "D & N Haveli         1\n",
       "Daman & Diu          1\n",
       "Delhi                1\n",
       "Lakshadweep          1\n",
       "Orissa               1\n",
       "Nagaland             1\n",
       "Mizoram              1\n",
       "Himachal Pradesh     1\n",
       "Assam                1\n",
       "Bihar                1\n",
       "Chhattisgarh         1\n",
       "Goa                  1\n",
       "Gujarat              1\n",
       "Haryana              1\n",
       "Jammu & Kashmir      1\n",
       "Meghalaya            1\n",
       "Jharkhand            1\n",
       "Karnataka            1\n",
       "Kerala               1\n",
       "Madhya Pradesh       1\n",
       "Maharashtra          1\n",
       "Manipur              1\n",
       "Puducherry           1\n",
       "Name: stateut, dtype: int64"
      ]
     },
     "execution_count": 10,
     "metadata": {},
     "output_type": "execute_result"
    }
   ],
   "source": [
    "data['stateut'].value_counts()"
   ]
  },
  {
   "cell_type": "code",
   "execution_count": 11,
   "metadata": {},
   "outputs": [
    {
     "data": {
      "text/plain": [
       "array(['south', 'northeast', 'north', 'centre', 'west', 'east',\n",
       "       'northwest', 'southeast', 'southwest'], dtype=object)"
      ]
     },
     "execution_count": 11,
     "metadata": {},
     "output_type": "execute_result"
    }
   ],
   "source": [
    "data['region'].unique()"
   ]
  },
  {
   "cell_type": "code",
   "execution_count": 12,
   "metadata": {},
   "outputs": [
    {
     "data": {
      "text/plain": [
       "north        9\n",
       "northeast    6\n",
       "south        5\n",
       "centre       5\n",
       "west         5\n",
       "east         3\n",
       "northwest    1\n",
       "southeast    1\n",
       "southwest    1\n",
       "Name: region, dtype: int64"
      ]
     },
     "execution_count": 12,
     "metadata": {},
     "output_type": "execute_result"
    }
   ],
   "source": [
    "data['region'].value_counts()"
   ]
  },
  {
   "attachments": {},
   "cell_type": "markdown",
   "metadata": {},
   "source": [
    "### label Encoder"
   ]
  },
  {
   "cell_type": "code",
   "execution_count": 13,
   "metadata": {},
   "outputs": [],
   "source": [
    "# from sklearn.preprocessing import LabelEncoder"
   ]
  },
  {
   "cell_type": "code",
   "execution_count": 14,
   "metadata": {},
   "outputs": [],
   "source": [
    "# le = LabelEncoder()\n",
    "\n",
    "# data['stateut'] = le.fit_transform(data['stateut'])\n",
    "# data['region'] = le.fit_transform(data['region'])"
   ]
  },
  {
   "attachments": {},
   "cell_type": "markdown",
   "metadata": {},
   "source": [
    "### Min Max Scaler"
   ]
  },
  {
   "cell_type": "code",
   "execution_count": 21,
   "metadata": {},
   "outputs": [
    {
     "data": {
      "text/plain": [
       "<AxesSubplot: xlabel='region', ylabel='count'>"
      ]
     },
     "execution_count": 21,
     "metadata": {},
     "output_type": "execute_result"
    },
    {
     "data": {
      "image/png": "[encoded data removed]",
      "text/plain": [
       "<Figure size 640x480 with 1 Axes>"
      ]
     },
     "metadata": {},
     "output_type": "display_data"
    }
   ],
   "source": [
    "sns.countplot(x=data['region'], data=data)"
   ]
  },
  {
   "cell_type": "code",
   "execution_count": 22,
   "metadata": {},
   "outputs": [
    {
     "data": {
      "text/plain": [
       "<AxesSubplot: xlabel='region', ylabel='alcintake2014'>"
      ]
     },
     "execution_count": 22,
     "metadata": {},
     "output_type": "execute_result"
    },
    {
     "data": {
      "image/png": "[encoded data removed]",
      "text/plain": [
       "<Figure size 640x480 with 1 Axes>"
      ]
     },
     "metadata": {},
     "output_type": "display_data"
    }
   ],
   "source": [
    "sns.barplot(x=data['region'], y=data['alcintake2014'], data=data)"
   ]
  },
  {
   "cell_type": "code",
   "execution_count": 24,
   "metadata": {},
   "outputs": [
    {
     "data": {
      "text/plain": [
       "<pandas.core.groupby.generic.SeriesGroupBy object at 0x0000028ADD0083A0>"
      ]
     },
     "execution_count": 24,
     "metadata": {},
     "output_type": "execute_result"
    }
   ],
   "source": [
    "grouped = data['region'].groupby(data['alcintake2014'])\n",
    "grouped"
   ]
  },
  {
   "cell_type": "code",
   "execution_count": null,
   "metadata": {},
   "outputs": [],
   "source": []
  }
 ],
 "metadata": {
  "kernelspec": {
   "display_name": "Python 3",
   "language": "python",
   "name": "python3"
  },
  "language_info": {
   "codemirror_mode": {
    "name": "ipython",
    "version": 3
   },
   "file_extension": ".py",
   "mimetype": "text/x-python",
   "name": "python",
   "nbconvert_exporter": "python",
   "pygments_lexer": "ipython3",
   "version": "3.10.8 (tags/v3.10.8:aaaf517, Oct 11 2022, 16:50:30) [MSC v.1933 64 bit (AMD64)]"
  },
  "orig_nbformat": 4,
  "vscode": {
   "interpreter": {
    "hash": "a9cff5a362bc38ef45d817ae74b1af54d6a076e3d773891282bce078b815ba34"
   }
  }
 },
 "nbformat": 4,
 "nbformat_minor": 2
}
